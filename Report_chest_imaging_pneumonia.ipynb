{
 "cells": [
  {
   "cell_type": "code",
   "execution_count": 1,
   "id": "18f097a4",
   "metadata": {
    "ExecuteTime": {
     "end_time": "2024-02-05T17:27:49.457749Z",
     "start_time": "2024-02-05T17:27:49.453700Z"
    }
   },
   "outputs": [],
   "source": [
    "from pathlib import Path"
   ]
  },
  {
   "cell_type": "markdown",
   "id": "06b3203e",
   "metadata": {},
   "source": [
    "# General trend\n",
    "\n",
    "The literature on **skin wound healing** shows some concerning trends. The fraction of articles that are classified as reviews has been increasing steadily since 2000. Of greater concern, the fraction of articles retracted has also been growing steadily since 2010. Be aware that the results for the most recent years are likely under-counting the number of articles that will eventually be retracted.\n",
    "\n",
    "While the fraction of papers with errata written has been decreasing from a high of nearly 4%, this could actually be a cause for concern as it could indicate lower post-publication scrutiny of studies. \n",
    "\n",
    "<img src = 'Case_skin_wound_healing/time_series.png' width = '800'>"
   ]
  },
  {
   "cell_type": "markdown",
   "id": "330f5172",
   "metadata": {},
   "source": [
    "# Journal trends\n",
    "\n",
    "## List of journals"
   ]
  },
  {
   "cell_type": "code",
   "execution_count": 8,
   "id": "402ba964",
   "metadata": {
    "ExecuteTime": {
     "end_time": "2024-02-05T17:37:44.585608Z",
     "start_time": "2024-02-05T17:37:44.578244Z"
    }
   },
   "outputs": [
    {
     "name": "stdout",
     "output_type": "stream",
     "text": [
      "nals/time_series_Int J Mol Sci.png\n",
      "nals/time_series_J Invest Dermatol.png\n",
      "nals/time_series_Wound Repair Regen.png\n",
      "nals/time_series_Int J Biol Macromol.png\n",
      "nals/time_series_ACS Appl Mater Interfaces.png\n",
      "nals/time_series_Adv Wound Care (New Rochelle).png\n",
      "nals/time_series_Front Bioeng Biotechnol.png\n",
      "nals/time_series_Stem Cell Res Ther.png\n",
      "nals/time_series_Sci Rep.png\n",
      "nals/time_series_Mater Sci Eng C Mater Biol Appl.png\n",
      "nals/time_series_PLoS One.png\n",
      "nals/time_series_Exp Dermatol.png\n"
     ]
    }
   ],
   "source": [
    "folder = Path.cwd() / 'Case_skin_wound_healing' / 'Journals'\n",
    "files = list( folder.glob('*.png') )\n",
    "\n",
    "for file in files:\n",
    "    print(str(file)[90:])"
   ]
  },
  {
   "cell_type": "markdown",
   "id": "dddc7139",
   "metadata": {},
   "source": [
    "### *PLoS One* is a *PLoS* journal\n",
    "\n",
    "It had a publication spike on skin wound healing between 2010 and 2020. Over the same period, there was a spike in the number of retractions and errata.\n",
    "\n",
    "<img src = 'Case_skin_wound_healing/Journals/time_series_PLoS One.png' width = '800'>"
   ]
  },
  {
   "cell_type": "markdown",
   "id": "fa74da16",
   "metadata": {},
   "source": [
    "### *Sci Rep* is a *Springer Nature* journal \n",
    "\n",
    "It publishes no reviews. No studies have been retracted.  \n",
    "\n",
    "<img src = 'Case_skin_wound_healing/Journals/time_series_Sci Rep.png' width = '800'>"
   ]
  },
  {
   "cell_type": "markdown",
   "id": "f578880e",
   "metadata": {},
   "source": [
    "### *ACS Appl Mater Interfaces* is an *ACS* journal\n",
    "\n",
    "It publishes a small number of studies on skin wound healing. It has published no reviews. No studies have been retracted or had errata published.\n",
    "\n",
    "<img src = 'Case_skin_wound_healing/Journals/time_series_ACS Appl Mater Interfaces.png' width = '800'>"
   ]
  },
  {
   "cell_type": "markdown",
   "id": "0f4ab603",
   "metadata": {},
   "source": [
    "### *Mater Sci Eng C Mater Biol Appl* is an *Elsevier* journal \n",
    "\n",
    "It has published no reviews. No studies have been retracted.  \n",
    "\n",
    "<img src = 'Case_skin_wound_healing/Journals/time_series_Mater Sci Eng C Mater Biol Appl.png' width = '800'>"
   ]
  },
  {
   "cell_type": "markdown",
   "id": "f5c6c011",
   "metadata": {},
   "source": [
    "### *Stem Cell Res Ther* is a *Springer Nature* journal\n",
    "\n",
    "No studies have been retracted.  \n",
    "\n",
    "<img src = 'Case_skin_wound_healing/Journals/time_series_Stem Cell Res Ther.png' width = '800'>"
   ]
  },
  {
   "cell_type": "markdown",
   "id": "8b4ffd68",
   "metadata": {},
   "source": [
    "### *J Invest Dermatol* is an *Elsevier* journal\n",
    "\n",
    "It publishes a small number of papers on skin wound healing and a low but increasing fraction of reviews.  While no studies have been retracted, the fraction of errata published was remarkably high around 2010 but decreased to zero after 2018. \n",
    "\n",
    "<img src = 'Case_skin_wound_healing/Journals/time_series_J Invest Dermatol.png' width = '800'>"
   ]
  },
  {
   "cell_type": "markdown",
   "id": "e186b941",
   "metadata": {},
   "source": [
    "### *Wound Repair Regen* is a *Wiley* journal\n",
    "\n",
    "It publishes a small number of papers on skin wound healing and a relatively high fraction of reviews.  No studies have been retracted. The fraction of errata published was remarkably until 2017. \n",
    "\n",
    "<img src = 'Case_skin_wound_healing/Journals/time_series_Wound Repair Regen.png' width = '800'>"
   ]
  },
  {
   "cell_type": "markdown",
   "id": "a7138e62",
   "metadata": {},
   "source": [
    "### *Exp Dermatol* is a *Wiley* journal\n",
    "\n",
    "It publishes a small number of studies on skin wound healing. It has published a remarkable large fraction of reviews.  No studies have been retracted or had errata published.\n",
    "\n",
    "<img src = 'Case_skin_wound_healing/Journals/time_series_Exp Dermatol.png' width = '800'>"
   ]
  },
  {
   "cell_type": "markdown",
   "id": "3ba0c97a",
   "metadata": {},
   "source": [
    "### *Int J Biol Macromol* is an *Elsevier* journal\n",
    "\n",
    "It publishes a remarkably high fraction of reviews.  No studies have been retracted or had errata published.\n",
    "\n",
    "<img src = 'Case_skin_wound_healing/Journals/time_series_Int J Biol Macromol.png' width = '800'>"
   ]
  },
  {
   "cell_type": "markdown",
   "id": "e0623543",
   "metadata": {},
   "source": [
    "### *Front Bioeng Biotechnol* is a *Frontiers* journal\n",
    "\n",
    "It publishes a small number of studies on skin wound healing and a remarkably high fraction of reviews. No studies have been retracted.  A remarkably high fraction have had errata published.\n",
    "\n",
    "<img src = 'Case_skin_wound_healing/Journals/time_series_Front Bioeng Biotechnol.png' width = '800'>"
   ]
  },
  {
   "cell_type": "markdown",
   "id": "ef0cdb9e",
   "metadata": {
    "ExecuteTime": {
     "end_time": "2024-02-05T17:38:42.657987Z",
     "start_time": "2024-02-05T17:38:42.652354Z"
    }
   },
   "source": [
    "### *Int J Mol Sci* is a *MDPI* journal.\n",
    "\n",
    "It publishes a remarkable fraction of reviews.  While no studies have been retracted, the fraction of errata published is quite high. \n",
    "\n",
    "<img src = 'Case_skin_wound_healing/Journals/time_series_Int J Mol Sci.png' width = '800'>"
   ]
  },
  {
   "cell_type": "markdown",
   "id": "8d360329",
   "metadata": {},
   "source": [
    "### *Adv Wound Care (New Rochelle)* is a *Springer Nature* journal\n",
    "\n",
    "It publishes a small number of studies on skin wound healing and a remarkably high fraction of reviews. No studies have been retracted or had errata published.\n",
    "\n",
    "<img src = 'Case_skin_wound_healing/Journals/time_series_Adv Wound Care (New Rochelle).png' width = '800'>"
   ]
  },
  {
   "cell_type": "markdown",
   "id": "95db81b8",
   "metadata": {},
   "source": [
    "# Publisher trends\n",
    "\n",
    "## List of publishers"
   ]
  },
  {
   "cell_type": "code",
   "execution_count": 11,
   "id": "621a82b0",
   "metadata": {
    "ExecuteTime": {
     "end_time": "2024-02-05T19:37:22.877093Z",
     "start_time": "2024-02-05T19:37:22.871524Z"
    }
   },
   "outputs": [
    {
     "name": "stdout",
     "output_type": "stream",
     "text": [
      "ishers/time_series_MDPI.png\n",
      "ishers/time_series_Taylor & Francis.png\n",
      "ishers/time_series_Springer Nature.png\n",
      "ishers/time_series_Frontiers.png\n",
      "ishers/time_series_Elsevier.png\n",
      "ishers/time_series_Wiley.png\n",
      "ishers/time_series_Oxford University Press.png\n",
      "ishers/time_series_American Chemical Society.png\n"
     ]
    }
   ],
   "source": [
    "folder = Path.cwd() / 'Case_skin_wound_healing' / 'Publishers'\n",
    "files = list( folder.glob('*.png') )\n",
    "\n",
    "for file in files:\n",
    "    print(str(file)[90:])"
   ]
  },
  {
   "cell_type": "markdown",
   "id": "6c35eaed",
   "metadata": {},
   "source": [
    "### American Chemical Society\n",
    "\n",
    "It has been rapidly increasing the number of studies it publishes on skin wound healing. It publishes an steadily increasing fraction of reviews.  No studies have has errata published. The number of studies retracted has been quite high since 2015.\n",
    "\n",
    "<img src = 'Case_skin_wound_healing/Publishers/time_series_American Chemical Society.png' width = '800'>"
   ]
  },
  {
   "cell_type": "markdown",
   "id": "36c16247",
   "metadata": {},
   "source": [
    "### Taylor & Francis\n",
    "\n",
    "It has published a relatively small number of papers on skin wound healing. It publishes a relative high fraction of reviews. No studies have been retracted. \n",
    "\n",
    "<img src = 'Case_skin_wound_healing/Publishers/time_series_Taylor & Francis.png' width = '800'>"
   ]
  },
  {
   "cell_type": "markdown",
   "id": "c2f2418b",
   "metadata": {},
   "source": [
    "### Springer Nature\n",
    "\n",
    "It has been rapidly increasing the number of studies it publishes on skin wound healing. It publishes a high fraction of reviews. No studies have been retracted. A high fraction of studies published between 2008 and 2015 had errata published.\n",
    "\n",
    "<img src = 'Case_skin_wound_healing/Publishers/time_series_Springer Nature.png' width = '800'>"
   ]
  },
  {
   "cell_type": "markdown",
   "id": "02231e3f",
   "metadata": {},
   "source": [
    "### Oxford University Press\n",
    "\n",
    "It has been increasing the number of studies it publishes on skin wound healing.  No studies have been retracted. The number of studies that have has errata published was quite high between 2002 and 2010. \n",
    "\n",
    "<img src = 'Case_skin_wound_healing/Publishers/time_series_Oxford University Press.png' width = '800'>"
   ]
  },
  {
   "cell_type": "markdown",
   "id": "d2b483ea",
   "metadata": {},
   "source": [
    "### Elsevier\n",
    "\n",
    "It has been rapidly increasing the number of studies it publishes on skin wound healing. It publishes an steadily increasing fraction of reviews. No studies have been retracted. The number of studies with published errata has been decreasing steadily.\n",
    "\n",
    "<img src = 'Case_skin_wound_healing/Publishers/time_series_Elsevier.png' width = '800'>"
   ]
  },
  {
   "cell_type": "markdown",
   "id": "607e7df2",
   "metadata": {},
   "source": [
    "### Wiley\n",
    "\n",
    "It has been rapidly increasing the number of studies it publishes on skin wound healing. It publishes an steadily increasing fraction of reviews. No studies have been retracted. The number of studies with published errata has been decreasing steadily.\n",
    "\n",
    "<img src = 'Case_skin_wound_healing/Publishers/time_series_Wiley.png' width = '800'>"
   ]
  },
  {
   "cell_type": "markdown",
   "id": "9e08a4c5",
   "metadata": {},
   "source": [
    "### Frontiers\n",
    "\n",
    "It has been rapidly increasing the number of studies it publishes on skin wound healing. It publishes a ridiculously high fraction of reviews. No studies have been retracted. The number of studies with published errata has been increasing steadily.\n",
    "\n",
    "<img src = 'Case_skin_wound_healing/Publishers/time_series_Frontiers.png' width = '800'>"
   ]
  },
  {
   "cell_type": "markdown",
   "id": "2efd0a91",
   "metadata": {},
   "source": [
    "### MDPI \n",
    "\n",
    "It has been rapidly increasing the number of studies it publishes on skin wound healing. It publishes a publishes remarkably large fraction of reviews. No studies have been retracted. The fraction of studies with published errata has been increasing steadily.\n",
    "\n",
    "<img src = 'Case_skin_wound_healing/Publishers/time_series_MDPI.png' width = '800'>"
   ]
  },
  {
   "cell_type": "code",
   "execution_count": null,
   "id": "0ea041ab",
   "metadata": {},
   "outputs": [],
   "source": []
  },
  {
   "cell_type": "code",
   "execution_count": null,
   "id": "9385c2fe",
   "metadata": {},
   "outputs": [],
   "source": []
  },
  {
   "cell_type": "code",
   "execution_count": null,
   "id": "f6f496f9",
   "metadata": {},
   "outputs": [],
   "source": []
  }
 ],
 "metadata": {
  "kernelspec": {
   "display_name": "Python [conda env:new_base] *",
   "language": "python",
   "name": "conda-env-new_base-py"
  },
  "language_info": {
   "codemirror_mode": {
    "name": "ipython",
    "version": 3
   },
   "file_extension": ".py",
   "mimetype": "text/x-python",
   "name": "python",
   "nbconvert_exporter": "python",
   "pygments_lexer": "ipython3",
   "version": "3.11.4"
  },
  "toc": {
   "base_numbering": 1,
   "nav_menu": {},
   "number_sections": true,
   "sideBar": true,
   "skip_h1_title": false,
   "title_cell": "Table of Contents",
   "title_sidebar": "Contents",
   "toc_cell": false,
   "toc_position": {
    "height": "calc(100% - 180px)",
    "left": "10px",
    "top": "150px",
    "width": "179px"
   },
   "toc_section_display": true,
   "toc_window_display": true
  },
  "varInspector": {
   "cols": {
    "lenName": 16,
    "lenType": 16,
    "lenVar": 40
   },
   "kernels_config": {
    "python": {
     "delete_cmd_postfix": "",
     "delete_cmd_prefix": "del ",
     "library": "var_list.py",
     "varRefreshCmd": "print(var_dic_list())"
    },
    "r": {
     "delete_cmd_postfix": ") ",
     "delete_cmd_prefix": "rm(",
     "library": "var_list.r",
     "varRefreshCmd": "cat(var_dic_list()) "
    }
   },
   "types_to_exclude": [
    "module",
    "function",
    "builtin_function_or_method",
    "instance",
    "_Feature"
   ],
   "window_display": false
  }
 },
 "nbformat": 4,
 "nbformat_minor": 5
}
