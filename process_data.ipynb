{
 "cells": [
  {
   "cell_type": "markdown",
   "id": "0058d880",
   "metadata": {},
   "source": [
    "# Read libraries"
   ]
  },
  {
   "cell_type": "code",
   "execution_count": null,
   "id": "aeaaaee0",
   "metadata": {
    "ExecuteTime": {
     "end_time": "2024-03-22T16:25:56.275984Z",
     "start_time": "2024-03-22T16:25:56.231250Z"
    }
   },
   "outputs": [],
   "source": [
    "%load_ext autoreload\n",
    "%autoreload 2\n",
    "%matplotlib inline\n",
    "\n",
    "from colorama import Back, Fore, Style\n",
    "from copy import copy, deepcopy\n",
    "from pathlib import Path\n",
    "from sys import path\n",
    "\n",
    "path.append( str(Path.cwd().parent) )\n"
   ]
  },
  {
   "cell_type": "code",
   "execution_count": null,
   "id": "0e7f0558",
   "metadata": {
    "ExecuteTime": {
     "end_time": "2024-03-21T19:42:34.434496Z",
     "start_time": "2024-03-21T19:42:34.405898Z"
    }
   },
   "outputs": [],
   "source": [
    "import json\n",
    "# import re\n",
    "\n",
    "import matplotlib.pyplot as plt\n",
    "import pandas as pd\n",
    "\n",
    "from collections import Counter\n",
    "from string import punctuation, whitespace\n",
    "\n",
    "from Project_libraries.my_stats import ( place_commas )\n",
    "\n",
    "from Project_libraries.pubmed import ( concatenate_lines, \n",
    "                                       get_articles_start_line,\n",
    "                                       extract_publication_date, \n",
    "                                       get_article_data )\n",
    "\n",
    "from Project_libraries.manual_corrections import ( brca2, chest_imaging,\n",
    "                                                   green_synthesis, \n",
    "                                                   wound_healing )"
   ]
  },
  {
   "cell_type": "markdown",
   "id": "007e81ff",
   "metadata": {},
   "source": [
    "# Import and process data files"
   ]
  },
  {
   "cell_type": "code",
   "execution_count": null,
   "id": "33a87ac1",
   "metadata": {
    "ExecuteTime": {
     "end_time": "2024-03-22T16:49:43.009838Z",
     "start_time": "2024-03-22T16:49:42.982956Z"
    }
   },
   "outputs": [],
   "source": [
    "case = 'brca2'\n",
    "# case = 'chest_imaging'\n",
    "# case = 'green_synthesis'\n",
    "# case = 'wound_healing'"
   ]
  },
  {
   "cell_type": "code",
   "execution_count": null,
   "id": "3a3a021f",
   "metadata": {
    "ExecuteTime": {
     "end_time": "2024-03-22T16:49:44.349571Z",
     "start_time": "2024-03-22T16:49:44.118024Z"
    }
   },
   "outputs": [],
   "source": [
    "if case == 'brca2':\n",
    "    case_folder = Path.cwd() / 'Case_brca2'\n",
    "    abstracts_files = [ case_folder / 'abstract-brca2-set_1.txt',\n",
    "                        case_folder / 'abstract-brca2-set.txt' ]\n",
    "    \n",
    "elif case == 'chest_imaging': \n",
    "    case_folder = Path.cwd() / 'Case_chest_imaging_pneumonia/'\n",
    "    abstracts_files = [ case_folder / 'abstract-chestimagi-set.txt' ]\n",
    "    \n",
    "elif case == 'green_synthesis':\n",
    "    case_folder = Path.cwd() / 'Case_green_synthesis_silver_np/'\n",
    "    abstracts_files = [ case_folder / 'abstract-greensynth-set.txt' ]\n",
    "    \n",
    "elif case == 'wound_healing':\n",
    "    case_folder = Path.cwd() / 'Case_skin_wound_healing/'\n",
    "    abstracts_files = [ case_folder / 'abstract-skinwoundh-set.txt' ]\n",
    "\n",
    "\n",
    "print(f\"We will be processing the data in folder '{str(case_folder)[77:]}'.\\n\")\n",
    "\n",
    "print(f\"The files to be read are:\")\n",
    "for x in abstracts_files:\n",
    "    print(f\"\\t* {str(x)[len(str(case_folder))+1:]}\")\n",
    "    \n",
    "print('\\n'*2)\n",
    "    \n",
    "articles_start, data = get_articles_start_line( abstracts_files )\n"
   ]
  },
  {
   "cell_type": "markdown",
   "id": "1bf1a7a0",
   "metadata": {
    "ExecuteTime": {
     "end_time": "2024-03-21T19:45:42.671779Z",
     "start_time": "2024-03-21T19:45:42.646808Z"
    }
   },
   "source": [
    "## Highlight retracted articles and articles that fail to process"
   ]
  },
  {
   "cell_type": "code",
   "execution_count": null,
   "id": "45ae9bcc",
   "metadata": {
    "ExecuteTime": {
     "end_time": "2024-03-22T16:49:50.215410Z",
     "start_time": "2024-03-22T16:49:49.907910Z"
    }
   },
   "outputs": [],
   "source": [
    "articles = []\n",
    "retracted_articles = []\n",
    "\n",
    "count1 = 0\n",
    "count2 = 0\n",
    "for i in range(0, len(articles_start) - 1):\n",
    "#     print(articles_start[i],articles_start[i+1])\n",
    "    info = copy( data[articles_start[i]:articles_start[i+1]])\n",
    "    \n",
    "    try:\n",
    "        flag, article = get_article_data(info)\n",
    "        \n",
    "        if flag:\n",
    "            retracted_articles.append( article )\n",
    "    \n",
    "        articles.append( article )\n",
    "\n",
    "    except IndexError:\n",
    "        count1 += 1\n",
    "        print( f\"{count1} -- Article {i+1}, lines {articles_start[i]} to \"\n",
    "               f\"{articles_start[i+1]} failed to process\" )\n",
    "        articles.append( None )\n",
    "        \n",
    "    except ValueError:\n",
    "        count2 += 1\n",
    "        print( f\"{count2} -- Article {i+1}, lines {articles_start[i]} to \"\n",
    "               f\"{articles_start[i+1]} lacks year.\" )\n",
    "        articles.append( None )\n",
    "        \n",
    "    except:\n",
    "        print( f\"Article {i+1}, lines {articles_start[i]} to \"\n",
    "               f\"{articles_start[i+1]}.\" )\n",
    "        flag, article = get_article_data(info)\n",
    "        \n",
    "    \n",
    "print(f\"\\n----> There are {place_commas(len(articles))} articles for analysis.\\n\\n\" )\n",
    "\n"
   ]
  },
  {
   "cell_type": "code",
   "execution_count": null,
   "id": "cea29ef0",
   "metadata": {
    "ExecuteTime": {
     "end_time": "2024-03-21T19:44:34.675739Z",
     "start_time": "2024-03-21T19:44:34.653813Z"
    },
    "scrolled": false
   },
   "outputs": [],
   "source": [
    "i = 1350\n",
    "print(articles[i])"
   ]
  },
  {
   "cell_type": "markdown",
   "id": "06b505d6",
   "metadata": {},
   "source": [
    "# Verify records\n",
    "\n",
    "The function call implements manual corrections to problematic articles.\n",
    "\n",
    "**If this cell print anything, it means that some articles are not processed correctly.**\n",
    "\n",
    "This may be fixable within function or require additional terms in manual correction function."
   ]
  },
  {
   "cell_type": "code",
   "execution_count": null,
   "id": "702ddd03",
   "metadata": {
    "ExecuteTime": {
     "end_time": "2024-03-22T16:49:56.127528Z",
     "start_time": "2024-03-22T16:49:56.098803Z"
    },
    "scrolled": false
   },
   "outputs": [],
   "source": [
    "# Manual corrections\n",
    "if case == 'brca2':\n",
    "    brca2( articles )\n",
    "    \n",
    "elif case == 'chest_imaging':\n",
    "    chest_imaging( articles )\n",
    "    \n",
    "elif case == 'green_synthesis':\n",
    "    green_synthesis( articles )\n",
    "    \n",
    "elif case == 'wound_healing':\n",
    "    wound_healing( articles )\n",
    "\n",
    "# Test for remaining errors\n",
    "for i, article in enumerate( articles ):\n",
    "    if article:\n",
    "        if ( article['other_ids'][:3] == 'DOI' \n",
    "             or article['other_ids'][:4] == 'PMID' \n",
    "             or article['other_ids'][:5] == 'PMCID' ):\n",
    "            continue\n",
    "        \n",
    "        print(i, article['other_ids'], '\\n')\n",
    "        \n",
    "\n",
    "print(f\"There are {place_commas(len(articles))} articles for analysis.\\n\\n\" )\n"
   ]
  },
  {
   "cell_type": "markdown",
   "id": "5358bbaf",
   "metadata": {},
   "source": [
    "# Clean article data"
   ]
  },
  {
   "cell_type": "markdown",
   "id": "9d264c14",
   "metadata": {},
   "source": [
    "## Remove articles reporting retractions"
   ]
  },
  {
   "cell_type": "code",
   "execution_count": null,
   "id": "f5bdad0f",
   "metadata": {
    "ExecuteTime": {
     "end_time": "2024-03-22T16:50:01.931870Z",
     "start_time": "2024-03-22T16:50:01.901421Z"
    },
    "scrolled": true
   },
   "outputs": [],
   "source": [
    "to_remove = []\n",
    "for i, article in enumerate( articles ):\n",
    "    if article and article['retraction']:\n",
    "        print( f\"{i} -- {article['journal']}. {article['year']}; {article['volume']} \" \n",
    "               f\"\\n\\t{article['title']}\\n\\t{article['retraction']}\\n\")\n",
    "        if article['retraction'][:19] == 'Retraction Notice: ':\n",
    "            to_remove.append(i)\n",
    "            print(to_remove)\n",
    "\n",
    "print(to_remove)"
   ]
  },
  {
   "cell_type": "code",
   "execution_count": null,
   "id": "a0842b84",
   "metadata": {
    "ExecuteTime": {
     "end_time": "2024-03-22T16:50:06.070748Z",
     "start_time": "2024-03-22T16:50:06.039491Z"
    }
   },
   "outputs": [],
   "source": [
    "for i in reversed(to_remove):\n",
    "    articles.pop(i)\n",
    "\n",
    "print(f\"There are {place_commas(len(articles))} articles left for for analysis.\\n\\n\" )"
   ]
  },
  {
   "cell_type": "markdown",
   "id": "9f91d0ea",
   "metadata": {},
   "source": [
    "## Remove errata, i.e., articles reporting corrections"
   ]
  },
  {
   "cell_type": "code",
   "execution_count": null,
   "id": "c9f788bc",
   "metadata": {
    "ExecuteTime": {
     "end_time": "2024-03-22T16:50:09.420837Z",
     "start_time": "2024-03-22T16:50:09.398911Z"
    },
    "scrolled": true
   },
   "outputs": [],
   "source": [
    "to_remove = []\n",
    "for i, article in enumerate( articles ):\n",
    "    if article and article['erratum']:\n",
    "        print( f\"{i} -- {article['journal']}. {article['year']}; {article['volume']} \" \n",
    "               f\"\\n\\t{article['title']}\\n\\t{article['erratum']}\\n\")\n",
    "        if article['erratum'][:12] == 'Erratum for ':\n",
    "            to_remove.append(i)\n",
    "            print(to_remove)\n",
    "            \n",
    "print(to_remove)"
   ]
  },
  {
   "cell_type": "code",
   "execution_count": null,
   "id": "1ef30ed6",
   "metadata": {
    "ExecuteTime": {
     "end_time": "2024-03-22T16:50:16.531138Z",
     "start_time": "2024-03-22T16:50:16.505327Z"
    }
   },
   "outputs": [],
   "source": [
    "for i in reversed(to_remove):\n",
    "    articles.pop(i)\n",
    "\n",
    "print(f\"There are {place_commas(len(articles))} articles left for for analysis.\\n\\n\" )"
   ]
  },
  {
   "cell_type": "markdown",
   "id": "61c71fee",
   "metadata": {},
   "source": [
    "## Remove comments\n",
    "\n",
    "**Dealing with *Comments* is complicated!**\n",
    "\n",
    "Some *Comments* are perspectives aiming to publicize the target paper (like News & Views in Nature). These are published in the same issue by different authors.\n",
    "\n",
    "We remove the actual *Comment* (if available) from the set of publications to analyze. We adjust `comment` key of target paper to convey this positive information. \n",
    "\n",
    "Some *Comments* appear to be summaries of the target papers. They are published in a different journal by a subset of the original authors.\n",
    "\n",
    "We remove the actual *Comment* (if available) from the set of publications to analyze. We adjust `comment` key of target paper to convey this information. \n",
    "\n",
    "Some *Comments* appear to be actual criticisms of the target papers. They are published in the same journal as the target bu later than the target and are authored by different researchers.\n",
    "\n",
    "We remove the actual *Comment* (if available) from the set of publications to analyze. We adjust `comment` key of target paper to convey this negative information.  "
   ]
  },
  {
   "cell_type": "code",
   "execution_count": null,
   "id": "fac578e9",
   "metadata": {
    "ExecuteTime": {
     "end_time": "2024-03-22T16:50:24.740806Z",
     "start_time": "2024-03-22T16:50:24.667069Z"
    },
    "code_folding": [],
    "scrolled": true
   },
   "outputs": [],
   "source": [
    "to_remove = []\n",
    "for i, article in enumerate( articles[:] ):\n",
    "    if article and article['comment']:\n",
    "        print('\\n', i, 'Focus: ', article['journal'], article['year'], \n",
    "              article['date'], article['volume'],  \n",
    "              article['pages'], article['doi'])\n",
    "        print('--', article['comment'])\n",
    "        \n",
    "        # Extract info about paper discussed in comment\n",
    "        target = {}\n",
    "        aux = article['comment'].split(';')\n",
    "        if len(aux) == 1:\n",
    "            to_remove.append(i)\n",
    "            continue\n",
    "    \n",
    "        aux = aux[0].split('.')\n",
    "        date_string =  aux[-1].strip()\n",
    "        if len(date_string) < 4:\n",
    "            to_remove.append(i)\n",
    "            continue\n",
    "            \n",
    "        target['year'] = int( date_string[:4] )\n",
    "        target['date'] = date_string[4:]\n",
    "        target['journal'] = aux[-2].strip()\n",
    "        \n",
    "        aux = article['comment'].split(';')[1]\n",
    "        aux = aux.split(':')\n",
    "        target['volume'] = aux[0]\n",
    "        target['pages'] = aux[1].split('.')[0]\n",
    "        \n",
    "        if len(aux) > 2:\n",
    "            target['doi'] = aux[2].split()[0].strip('.')\n",
    "        else:\n",
    "            target['doi'] = None\n",
    "          \n",
    "        # Extract dates of publication\n",
    "        date_focus = extract_publication_date(article)\n",
    "        date_target = extract_publication_date(target)\n",
    "        \n",
    "        # Determine type of comment\n",
    "        #\n",
    "        # Same journal\n",
    "        print(article['journal'])\n",
    "        print(target['journal'].lstrip('Coment').strip().lstrip('ion').strip())\n",
    "        if ( article['journal'] == \n",
    "             target['journal'].lstrip('Coment').strip().lstrip('ion').strip() ):\n",
    "            print('===>>', article['journal'])\n",
    "            print('===>>', article['year'], target['year'])\n",
    "            \n",
    "            # Same year \n",
    "            if article['year'] == target['year']:\n",
    "                print('===>>', article['volume'], target['volume'])\n",
    "            \n",
    "                # Same volume\n",
    "                if target['volume'] and article['volume'] == target['volume']:\n",
    "                    print('--->', article['date'], target['date'])\n",
    "                    \n",
    "                    # Same date\n",
    "                    if article['date'] == target['date']:\n",
    "                        print('--->', article['date'])\n",
    "\n",
    "                        if '-' in article['pages']:\n",
    "                            focus_pages = article['pages'].split('-')[0]\n",
    "                            if focus_pages.isnumeric():\n",
    "                                focus_pages = int(focus_pages)\n",
    "                        else:\n",
    "                            focus_pages = article['pages']\n",
    "                            \n",
    "                        if '-' in target['pages']:\n",
    "                            target_pages = target['pages'].split('-')[0]\n",
    "                            if target_pages.isnumeric():\n",
    "                                target_pages = int(target_pages)\n",
    "                        else:\n",
    "                            target_pages = target['pages']\n",
    "                            \n",
    "                        if type(target_pages) != type(focus_pages):\n",
    "                            target_pages = str(target_pages)\n",
    "                            focus_pages = str(focus_pages)\n",
    "\n",
    "                        print('--->', focus_pages, target_pages)\n",
    "                        \n",
    "                        # Same date, earlier pages\n",
    "                        if focus_pages < target_pages:\n",
    "                            to_remove.append(i)\n",
    "                            print(f\"---> Article {i} is a commentary and is to be removed\")\n",
    "\n",
    "                        # Same date, later pages\n",
    "                        else:\n",
    "                            article['comment'] = ('Received highlight article! ' \n",
    "                                                  + article['comment'])\n",
    "                            print('---> Received highlight article\\n')\n",
    "\n",
    "                    # Same volume, later time\n",
    "                    elif article['date'] > target['date']:\n",
    "                        to_remove.append(i)\n",
    "                        print(f\"---> Article {i} is a comment and is to be removed\")\n",
    "\n",
    "                    # Same volume, earlier time\n",
    "                    elif article['date'] < target['date']:\n",
    "                        article['comment'] = 'Received comment! ' + article['comment']\n",
    "                        print('---> Received comment\\n')\n",
    "\n",
    "                # Same year, volumes that exist, later volume\n",
    "                elif target['volume'] and article['volume'] > target['volume']:\n",
    "                    to_remove.append(i)\n",
    "                    print(f\"---> Article {i} is a comment and is to be removed\")\n",
    "                \n",
    "                # Same year, volumes that exist, earlier volume\n",
    "                elif target['volume'] and article['volume'] < target['volume']:\n",
    "                    article['comment'] = 'Received comment! ' + article['comment']\n",
    "                    print('---> Received comment\\n')\n",
    "\n",
    "                # Same journal, same year, missing volumes \n",
    "                else:\n",
    "                    # Same journal, same year, missing volumes, same date\n",
    "                    if article['date'] == target['date']:\n",
    "                        print('--->', article['date'])\n",
    "\n",
    "                        if '-' in article['pages']:\n",
    "                            focus_pages = article['pages'].split('-')[0]\n",
    "                            if focus_pages.isnumeric():\n",
    "                                focus_pages = int(focus_pages)\n",
    "                        if '-' in target['pages']:\n",
    "                            target_pages = target['pages'].split('-')[0]\n",
    "                            if target_pages.isnumeric():\n",
    "                                target_pages = int(target_pages)\n",
    "\n",
    "                        print('--->', focus_pages, target_pages)\n",
    "\n",
    "                        # Same journal, same year, missing volumes, same date, earlier pages\n",
    "                        if focus_pages < target_pages:\n",
    "                            to_remove.append(i)\n",
    "                            print(f\"---> Article {i} is a commentary and is to be removed\")\n",
    "\n",
    "                        # Same journal, same year, missing volumes, same date, earlier pages\n",
    "                        else:\n",
    "                            article['comment'] = ('Received highlight article! ' \n",
    "                                                  + article['comment'])\n",
    "                            print('---> Received highlight article\\n')\n",
    "        \n",
    "                    # Same journal, same year, missing volumes, later time\n",
    "                    elif article['date'] > target['date']:\n",
    "                        to_remove.append(i)\n",
    "                        print(f\"---> Article {i} is a comment and is to be removed\")\n",
    "\n",
    "                    # Same journal, same year, missing volumes, earlier time\n",
    "                    elif article['date'] < target['date']:\n",
    "                        article['comment'] = 'Received comment! ' + article['comment']\n",
    "                        print('---> Received comment\\n')\n",
    "        \n",
    "            # Same journal, later year \n",
    "            elif article['year'] > target['year']:\n",
    "                to_remove.append(i)\n",
    "                print(f\"---> Article {i} is a comment and is to be removed\")\n",
    "\n",
    "            # Same journal, earlier year\n",
    "            elif article['year'] < target['year']:\n",
    "                article['comment'] = 'Received comment! ' + article['comment']\n",
    "                print('---> Received comment\\n')\n",
    "\n",
    "\n",
    "        # Different journals, later year\n",
    "        elif article['year'] > target['year']:\n",
    "            to_remove.append(i)\n",
    "            print(f\"---> Article {i} is a commentary and is to be removed\")\n",
    "\n",
    "        # Different journals, earlier year\n",
    "        elif article['year'] < target['year']: \n",
    "            article['comment'] = 'Received commentary! ' + article['comment']\n",
    "            print('---> Received commentary\\n')\n",
    "\n",
    "        # Different journals, same year\n",
    "        else:\n",
    "            if date_focus > date_target:\n",
    "                to_remove.append(i)\n",
    "                print(f\"---> Article {i} is a commentary and is to be removed\")\n",
    "            \n",
    "            elif date_focus < date_target:\n",
    "                article['comment'] = 'Received commentary! ' + article['comment']\n",
    "                print('---> Received commentary\\n')\n",
    "                \n",
    "            else:\n",
    "                print( Style.BRIGHT, Fore.RED,'----------RED ALERT!!!---------', \n",
    "                       Style.RESET_ALL )\n",
    "\n",
    "print(to_remove)"
   ]
  },
  {
   "cell_type": "code",
   "execution_count": null,
   "id": "e90db248",
   "metadata": {
    "ExecuteTime": {
     "end_time": "2024-03-22T16:50:34.562381Z",
     "start_time": "2024-03-22T16:50:34.534176Z"
    }
   },
   "outputs": [],
   "source": [
    "for i in reversed(to_remove):\n",
    "    articles.pop(i)\n",
    "\n",
    "print(f\"There are {place_commas(len(articles))} articles left for for analysis.\\n\\n\" )"
   ]
  },
  {
   "cell_type": "markdown",
   "id": "7fab6120",
   "metadata": {},
   "source": [
    "## Remove articles with no information"
   ]
  },
  {
   "cell_type": "code",
   "execution_count": null,
   "id": "46dc38f9",
   "metadata": {
    "ExecuteTime": {
     "end_time": "2024-03-22T16:50:39.392958Z",
     "start_time": "2024-03-22T16:50:39.364922Z"
    }
   },
   "outputs": [],
   "source": [
    "to_remove = []\n",
    "\n",
    "for i, article in enumerate( articles ):\n",
    "    if article is None:\n",
    "        to_remove.append(i)\n",
    "        \n",
    "print(to_remove)"
   ]
  },
  {
   "cell_type": "code",
   "execution_count": null,
   "id": "014ec7b2",
   "metadata": {
    "ExecuteTime": {
     "end_time": "2024-03-22T16:50:43.459457Z",
     "start_time": "2024-03-22T16:50:43.433155Z"
    }
   },
   "outputs": [],
   "source": [
    "for i in reversed(to_remove):\n",
    "    articles.pop(i)\n",
    "\n",
    "print(f\"There are {place_commas(len(articles))} articles left for for analysis.\\n\\n\" )"
   ]
  },
  {
   "cell_type": "markdown",
   "id": "3c9c7ddf",
   "metadata": {},
   "source": [
    "## Count number of articles of different types "
   ]
  },
  {
   "cell_type": "code",
   "execution_count": null,
   "id": "a0767a75",
   "metadata": {
    "ExecuteTime": {
     "end_time": "2024-03-22T16:50:47.419877Z",
     "start_time": "2024-03-22T16:50:47.376318Z"
    }
   },
   "outputs": [],
   "source": [
    "pattern1 = 'review'\n",
    "pattern2 = 'reviewed'\n",
    "\n",
    "\n",
    "erratum_articles = []\n",
    "comment_articles = []\n",
    "review_articles = []\n",
    "no_abstract_articles = []\n",
    "\n",
    "for article in articles:\n",
    "    if not article['retraction']:\n",
    "        if article['erratum']:\n",
    "            erratum_articles.append(article)\n",
    "            continue\n",
    "\n",
    "        if article['comment'] and 'Received comment! ' == article['comment'][:18]:\n",
    "            comment_articles.append(article)\n",
    "            continue\n",
    "\n",
    "        if not article['abstract']:\n",
    "            no_abstract_articles.append(article)\n",
    "        else:\n",
    "            if pattern1 in article['abstract'] or pattern2 in article['abstract']:\n",
    "                review_articles.append(article)\n",
    "\n",
    "                \n",
    "print(len(articles))\n",
    "print(len(retracted_articles))\n",
    "print(len(erratum_articles))\n",
    "print(len(comment_articles))\n",
    "print(len(no_abstract_articles))\n",
    "print(len(review_articles))"
   ]
  },
  {
   "cell_type": "markdown",
   "id": "e60ea259",
   "metadata": {},
   "source": [
    "# Save cleaned article data to file"
   ]
  },
  {
   "cell_type": "code",
   "execution_count": null,
   "id": "04daabe3",
   "metadata": {
    "ExecuteTime": {
     "end_time": "2024-03-22T16:50:58.398442Z",
     "start_time": "2024-03-22T16:50:58.221969Z"
    }
   },
   "outputs": [],
   "source": [
    "with open(case_folder / 'articles_clean.json', 'w', encoding = 'utf-8') as f_json:\n",
    "    json.dump(articles, f_json)\n",
    "    \n",
    "print('Done saving file!')"
   ]
  },
  {
   "cell_type": "code",
   "execution_count": null,
   "id": "b8b41d99",
   "metadata": {},
   "outputs": [],
   "source": []
  },
  {
   "cell_type": "code",
   "execution_count": null,
   "id": "6a495c09",
   "metadata": {},
   "outputs": [],
   "source": []
  },
  {
   "cell_type": "code",
   "execution_count": null,
   "id": "23d97866",
   "metadata": {},
   "outputs": [],
   "source": []
  },
  {
   "cell_type": "code",
   "execution_count": null,
   "id": "b07f8c39",
   "metadata": {},
   "outputs": [],
   "source": []
  },
  {
   "cell_type": "code",
   "execution_count": null,
   "id": "a482bb37",
   "metadata": {},
   "outputs": [],
   "source": []
  },
  {
   "cell_type": "code",
   "execution_count": null,
   "id": "64ac5782",
   "metadata": {},
   "outputs": [],
   "source": []
  },
  {
   "cell_type": "code",
   "execution_count": null,
   "id": "140fdafd",
   "metadata": {},
   "outputs": [],
   "source": []
  },
  {
   "cell_type": "markdown",
   "id": "b9284718",
   "metadata": {},
   "source": [
    "# Code for checking article data"
   ]
  },
  {
   "cell_type": "code",
   "execution_count": null,
   "id": "ed09e001",
   "metadata": {},
   "outputs": [],
   "source": [
    "i = 11911\n",
    "info = copy(data[articles_start[i]:\n",
    "                 articles_start[i+1]])\n",
    "\n",
    "for line in info:\n",
    "    print(line.strip())\n",
    "print()\n",
    "\n",
    "# for line in concatenate_lines(info):\n",
    "#     print(line.strip())\n",
    "#     print()\n",
    "\n",
    "print('------')\n",
    "print(get_article_data(info))"
   ]
  }
 ],
 "metadata": {
  "kernelspec": {
   "display_name": "Python [conda env:new_base] *",
   "language": "python",
   "name": "conda-env-new_base-py"
  },
  "language_info": {
   "codemirror_mode": {
    "name": "ipython",
    "version": 3
   },
   "file_extension": ".py",
   "mimetype": "text/x-python",
   "name": "python",
   "nbconvert_exporter": "python",
   "pygments_lexer": "ipython3",
   "version": "3.11.4"
  },
  "toc": {
   "base_numbering": 1,
   "nav_menu": {},
   "number_sections": true,
   "sideBar": true,
   "skip_h1_title": false,
   "title_cell": "Table of Contents",
   "title_sidebar": "Contents",
   "toc_cell": false,
   "toc_position": {
    "height": "calc(100% - 180px)",
    "left": "10px",
    "top": "150px",
    "width": "200.6px"
   },
   "toc_section_display": true,
   "toc_window_display": true
  },
  "varInspector": {
   "cols": {
    "lenName": 16,
    "lenType": 16,
    "lenVar": 40
   },
   "kernels_config": {
    "python": {
     "delete_cmd_postfix": "",
     "delete_cmd_prefix": "del ",
     "library": "var_list.py",
     "varRefreshCmd": "print(var_dic_list())"
    },
    "r": {
     "delete_cmd_postfix": ") ",
     "delete_cmd_prefix": "rm(",
     "library": "var_list.r",
     "varRefreshCmd": "cat(var_dic_list()) "
    }
   },
   "types_to_exclude": [
    "module",
    "function",
    "builtin_function_or_method",
    "instance",
    "_Feature"
   ],
   "window_display": false
  }
 },
 "nbformat": 4,
 "nbformat_minor": 5
}
