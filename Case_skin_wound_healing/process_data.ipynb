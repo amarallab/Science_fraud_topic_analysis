{
 "cells": [
  {
   "cell_type": "markdown",
   "id": "0058d880",
   "metadata": {},
   "source": [
    "# Read libraries"
   ]
  },
  {
   "cell_type": "code",
   "execution_count": 1,
   "id": "aeaaaee0",
   "metadata": {
    "ExecuteTime": {
     "end_time": "2024-01-08T23:06:01.133708Z",
     "start_time": "2024-01-08T23:06:00.679785Z"
    }
   },
   "outputs": [],
   "source": [
    "%load_ext autoreload\n",
    "%autoreload 2\n",
    "%matplotlib inline\n",
    "\n",
    "from copy import copy, deepcopy\n",
    "from pathlib import Path\n",
    "from sys import path\n",
    "\n",
    "path.append( str(Path.cwd().parent) )"
   ]
  },
  {
   "cell_type": "code",
   "execution_count": 2,
   "id": "0e7f0558",
   "metadata": {
    "ExecuteTime": {
     "end_time": "2024-01-08T23:06:02.945983Z",
     "start_time": "2024-01-08T23:06:02.145338Z"
    }
   },
   "outputs": [],
   "source": [
    "import json\n",
    "import re\n",
    "\n",
    "import matplotlib.pyplot as plt\n",
    "import pandas as pd\n",
    "\n",
    "from collections import Counter\n",
    "from string import punctuation, whitespace\n",
    "\n",
    "from Project_libraries.pubmed import ( concatenate_lines, \n",
    "                                       extract_publication_date, \n",
    "                                       get_article_data )"
   ]
  },
  {
   "cell_type": "code",
   "execution_count": 3,
   "id": "3a3a021f",
   "metadata": {
    "ExecuteTime": {
     "end_time": "2024-01-08T23:06:03.940431Z",
     "start_time": "2024-01-08T23:06:03.913906Z"
    }
   },
   "outputs": [],
   "source": [
    "csv_file = Path.cwd() / 'csv-skinwoundh-set.csv'\n",
    "abstracts_file = Path.cwd() / 'abstract-skinwoundh-set.txt'"
   ]
  },
  {
   "cell_type": "markdown",
   "id": "f4a354eb",
   "metadata": {},
   "source": [
    "# Import CSV file"
   ]
  },
  {
   "cell_type": "code",
   "execution_count": 4,
   "id": "ed3f8e4e",
   "metadata": {
    "ExecuteTime": {
     "end_time": "2024-01-08T23:06:06.345777Z",
     "start_time": "2024-01-08T23:06:06.303310Z"
    }
   },
   "outputs": [
    {
     "data": {
      "text/html": [
       "<div>\n",
       "<style scoped>\n",
       "    .dataframe tbody tr th:only-of-type {\n",
       "        vertical-align: middle;\n",
       "    }\n",
       "\n",
       "    .dataframe tbody tr th {\n",
       "        vertical-align: top;\n",
       "    }\n",
       "\n",
       "    .dataframe thead th {\n",
       "        text-align: right;\n",
       "    }\n",
       "</style>\n",
       "<table border=\"1\" class=\"dataframe\">\n",
       "  <thead>\n",
       "    <tr style=\"text-align: right;\">\n",
       "      <th></th>\n",
       "      <th>PMID</th>\n",
       "      <th>Title</th>\n",
       "      <th>Authors</th>\n",
       "      <th>Citation</th>\n",
       "      <th>First Author</th>\n",
       "      <th>Journal/Book</th>\n",
       "      <th>Publication Year</th>\n",
       "      <th>Create Date</th>\n",
       "      <th>PMCID</th>\n",
       "      <th>NIHMS ID</th>\n",
       "      <th>DOI</th>\n",
       "    </tr>\n",
       "  </thead>\n",
       "  <tbody>\n",
       "    <tr>\n",
       "      <th>0</th>\n",
       "      <td>35187180</td>\n",
       "      <td>Autophagy and skin wound healing</td>\n",
       "      <td>Ren H, Zhao F, Zhang Q, Huang X, Wang Z.</td>\n",
       "      <td>Burns Trauma. 2022 Feb 16;10:tkac003. doi: 10....</td>\n",
       "      <td>Ren H</td>\n",
       "      <td>Burns Trauma</td>\n",
       "      <td>2022</td>\n",
       "      <td>2022/02/21</td>\n",
       "      <td>PMC8847901</td>\n",
       "      <td>NaN</td>\n",
       "      <td>10.1093/burnst/tkac003</td>\n",
       "    </tr>\n",
       "    <tr>\n",
       "      <th>1</th>\n",
       "      <td>30938269</td>\n",
       "      <td>Regenerative Scar-Free Skin Wound Healing</td>\n",
       "      <td>Monavarian M, Kader S, Moeinzadeh S, Jabbari E.</td>\n",
       "      <td>Tissue Eng Part B Rev. 2019 Aug;25(4):294-311....</td>\n",
       "      <td>Monavarian M</td>\n",
       "      <td>Tissue Eng Part B Rev</td>\n",
       "      <td>2019</td>\n",
       "      <td>2019/04/03</td>\n",
       "      <td>PMC6686695</td>\n",
       "      <td>NaN</td>\n",
       "      <td>10.1089/ten.TEB.2018.0350</td>\n",
       "    </tr>\n",
       "    <tr>\n",
       "      <th>2</th>\n",
       "      <td>36230913</td>\n",
       "      <td>Macrophage-Mediated Inflammation in Skin Wound...</td>\n",
       "      <td>Hassanshahi A, Moradzad M, Ghalamkari S, Fadae...</td>\n",
       "      <td>Cells. 2022 Sep 21;11(19):2953. doi: 10.3390/c...</td>\n",
       "      <td>Hassanshahi A</td>\n",
       "      <td>Cells</td>\n",
       "      <td>2022</td>\n",
       "      <td>2022/10/14</td>\n",
       "      <td>PMC9564023</td>\n",
       "      <td>NaN</td>\n",
       "      <td>10.3390/cells11192953</td>\n",
       "    </tr>\n",
       "    <tr>\n",
       "      <th>3</th>\n",
       "      <td>33945225</td>\n",
       "      <td>Accelerated Skin Wound Healing by Electrical S...</td>\n",
       "      <td>Luo R, Dai J, Zhang J, Li Z.</td>\n",
       "      <td>Adv Healthc Mater. 2021 Aug;10(16):e2100557. d...</td>\n",
       "      <td>Luo R</td>\n",
       "      <td>Adv Healthc Mater</td>\n",
       "      <td>2021</td>\n",
       "      <td>2021/05/04</td>\n",
       "      <td>NaN</td>\n",
       "      <td>NaN</td>\n",
       "      <td>10.1002/adhm.202100557</td>\n",
       "    </tr>\n",
       "    <tr>\n",
       "      <th>4</th>\n",
       "      <td>27974711</td>\n",
       "      <td>Skin Wound Healing: An Update on the Current K...</td>\n",
       "      <td>Sorg H, Tilkorn DJ, Hager S, Hauser J, Mirasts...</td>\n",
       "      <td>Eur Surg Res. 2017;58(1-2):81-94. doi: 10.1159...</td>\n",
       "      <td>Sorg H</td>\n",
       "      <td>Eur Surg Res</td>\n",
       "      <td>2017</td>\n",
       "      <td>2016/12/16</td>\n",
       "      <td>NaN</td>\n",
       "      <td>NaN</td>\n",
       "      <td>10.1159/000454919</td>\n",
       "    </tr>\n",
       "    <tr>\n",
       "      <th>...</th>\n",
       "      <td>...</td>\n",
       "      <td>...</td>\n",
       "      <td>...</td>\n",
       "      <td>...</td>\n",
       "      <td>...</td>\n",
       "      <td>...</td>\n",
       "      <td>...</td>\n",
       "      <td>...</td>\n",
       "      <td>...</td>\n",
       "      <td>...</td>\n",
       "      <td>...</td>\n",
       "    </tr>\n",
       "    <tr>\n",
       "      <th>2308</th>\n",
       "      <td>19143471</td>\n",
       "      <td>Stress-mediated increases in systemic and loca...</td>\n",
       "      <td>Sivamani RK, Pullar CE, Manabat-Hidalgo CG, Ro...</td>\n",
       "      <td>PLoS Med. 2009 Jan 13;6(1):e12. doi: 10.1371/j...</td>\n",
       "      <td>Sivamani RK</td>\n",
       "      <td>PLoS Med</td>\n",
       "      <td>2009</td>\n",
       "      <td>2009/01/16</td>\n",
       "      <td>PMC2621262</td>\n",
       "      <td>NaN</td>\n",
       "      <td>10.1371/journal.pmed.1000012</td>\n",
       "    </tr>\n",
       "    <tr>\n",
       "      <th>2309</th>\n",
       "      <td>31654655</td>\n",
       "      <td>Orphan nuclear receptor TR3/Nur77 biologics in...</td>\n",
       "      <td>Chen C, Li Y, Hou S, Bourbon PM, Qin L, Zhao K...</td>\n",
       "      <td>Microvasc Res. 2020 Mar;128:103934. doi: 10.10...</td>\n",
       "      <td>Chen C</td>\n",
       "      <td>Microvasc Res</td>\n",
       "      <td>2020</td>\n",
       "      <td>2019/10/27</td>\n",
       "      <td>NaN</td>\n",
       "      <td>NaN</td>\n",
       "      <td>10.1016/j.mvr.2019.103934</td>\n",
       "    </tr>\n",
       "    <tr>\n",
       "      <th>2310</th>\n",
       "      <td>30930165</td>\n",
       "      <td>DLL4 and Jagged1 are angiogenic targets of orp...</td>\n",
       "      <td>Peng J, Zhao S, Li Y, Niu G, Chen C, Ye T, Zha...</td>\n",
       "      <td>Microvasc Res. 2019 Jul;124:67-75. doi: 10.101...</td>\n",
       "      <td>Peng J</td>\n",
       "      <td>Microvasc Res</td>\n",
       "      <td>2019</td>\n",
       "      <td>2019/04/02</td>\n",
       "      <td>PMC6474785</td>\n",
       "      <td>NIHMS1526146</td>\n",
       "      <td>10.1016/j.mvr.2019.03.006</td>\n",
       "    </tr>\n",
       "    <tr>\n",
       "      <th>2311</th>\n",
       "      <td>35581508</td>\n",
       "      <td>Milk fat-globule epidermal growth factor 8: A ...</td>\n",
       "      <td>Xiao Y, Tang Y, Shu X, Zhu J, Wu X, Zhang Y.</td>\n",
       "      <td>Mol Biol Rep. 2022 Sep;49(9):8883-8893. doi: 1...</td>\n",
       "      <td>Xiao Y</td>\n",
       "      <td>Mol Biol Rep</td>\n",
       "      <td>2022</td>\n",
       "      <td>2022/05/17</td>\n",
       "      <td>NaN</td>\n",
       "      <td>NaN</td>\n",
       "      <td>10.1007/s11033-022-07365-6</td>\n",
       "    </tr>\n",
       "    <tr>\n",
       "      <th>2312</th>\n",
       "      <td>25911751</td>\n",
       "      <td>Altered connexin 43 expression underlies age-d...</td>\n",
       "      <td>Kuczma M, Wang CY, Ignatowicz L, Gourdie R, Kr...</td>\n",
       "      <td>J Immunol. 2015 Jun 1;194(11):5261-71. doi: 10...</td>\n",
       "      <td>Kuczma M</td>\n",
       "      <td>J Immunol</td>\n",
       "      <td>2015</td>\n",
       "      <td>2015/04/26</td>\n",
       "      <td>PMC4465104</td>\n",
       "      <td>NIHMS676467</td>\n",
       "      <td>10.4049/jimmunol.1400887</td>\n",
       "    </tr>\n",
       "  </tbody>\n",
       "</table>\n",
       "<p>2313 rows × 11 columns</p>\n",
       "</div>"
      ],
      "text/plain": [
       "          PMID                                              Title  \\\n",
       "0     35187180                   Autophagy and skin wound healing   \n",
       "1     30938269          Regenerative Scar-Free Skin Wound Healing   \n",
       "2     36230913  Macrophage-Mediated Inflammation in Skin Wound...   \n",
       "3     33945225  Accelerated Skin Wound Healing by Electrical S...   \n",
       "4     27974711  Skin Wound Healing: An Update on the Current K...   \n",
       "...        ...                                                ...   \n",
       "2308  19143471  Stress-mediated increases in systemic and loca...   \n",
       "2309  31654655  Orphan nuclear receptor TR3/Nur77 biologics in...   \n",
       "2310  30930165  DLL4 and Jagged1 are angiogenic targets of orp...   \n",
       "2311  35581508  Milk fat-globule epidermal growth factor 8: A ...   \n",
       "2312  25911751  Altered connexin 43 expression underlies age-d...   \n",
       "\n",
       "                                                Authors  \\\n",
       "0              Ren H, Zhao F, Zhang Q, Huang X, Wang Z.   \n",
       "1       Monavarian M, Kader S, Moeinzadeh S, Jabbari E.   \n",
       "2     Hassanshahi A, Moradzad M, Ghalamkari S, Fadae...   \n",
       "3                          Luo R, Dai J, Zhang J, Li Z.   \n",
       "4     Sorg H, Tilkorn DJ, Hager S, Hauser J, Mirasts...   \n",
       "...                                                 ...   \n",
       "2308  Sivamani RK, Pullar CE, Manabat-Hidalgo CG, Ro...   \n",
       "2309  Chen C, Li Y, Hou S, Bourbon PM, Qin L, Zhao K...   \n",
       "2310  Peng J, Zhao S, Li Y, Niu G, Chen C, Ye T, Zha...   \n",
       "2311       Xiao Y, Tang Y, Shu X, Zhu J, Wu X, Zhang Y.   \n",
       "2312  Kuczma M, Wang CY, Ignatowicz L, Gourdie R, Kr...   \n",
       "\n",
       "                                               Citation   First Author  \\\n",
       "0     Burns Trauma. 2022 Feb 16;10:tkac003. doi: 10....          Ren H   \n",
       "1     Tissue Eng Part B Rev. 2019 Aug;25(4):294-311....   Monavarian M   \n",
       "2     Cells. 2022 Sep 21;11(19):2953. doi: 10.3390/c...  Hassanshahi A   \n",
       "3     Adv Healthc Mater. 2021 Aug;10(16):e2100557. d...          Luo R   \n",
       "4     Eur Surg Res. 2017;58(1-2):81-94. doi: 10.1159...         Sorg H   \n",
       "...                                                 ...            ...   \n",
       "2308  PLoS Med. 2009 Jan 13;6(1):e12. doi: 10.1371/j...    Sivamani RK   \n",
       "2309  Microvasc Res. 2020 Mar;128:103934. doi: 10.10...         Chen C   \n",
       "2310  Microvasc Res. 2019 Jul;124:67-75. doi: 10.101...         Peng J   \n",
       "2311  Mol Biol Rep. 2022 Sep;49(9):8883-8893. doi: 1...         Xiao Y   \n",
       "2312  J Immunol. 2015 Jun 1;194(11):5261-71. doi: 10...       Kuczma M   \n",
       "\n",
       "               Journal/Book  Publication Year Create Date       PMCID  \\\n",
       "0              Burns Trauma              2022  2022/02/21  PMC8847901   \n",
       "1     Tissue Eng Part B Rev              2019  2019/04/03  PMC6686695   \n",
       "2                     Cells              2022  2022/10/14  PMC9564023   \n",
       "3         Adv Healthc Mater              2021  2021/05/04         NaN   \n",
       "4              Eur Surg Res              2017  2016/12/16         NaN   \n",
       "...                     ...               ...         ...         ...   \n",
       "2308               PLoS Med              2009  2009/01/16  PMC2621262   \n",
       "2309          Microvasc Res              2020  2019/10/27         NaN   \n",
       "2310          Microvasc Res              2019  2019/04/02  PMC6474785   \n",
       "2311           Mol Biol Rep              2022  2022/05/17         NaN   \n",
       "2312              J Immunol              2015  2015/04/26  PMC4465104   \n",
       "\n",
       "          NIHMS ID                           DOI  \n",
       "0              NaN        10.1093/burnst/tkac003  \n",
       "1              NaN     10.1089/ten.TEB.2018.0350  \n",
       "2              NaN         10.3390/cells11192953  \n",
       "3              NaN        10.1002/adhm.202100557  \n",
       "4              NaN             10.1159/000454919  \n",
       "...            ...                           ...  \n",
       "2308           NaN  10.1371/journal.pmed.1000012  \n",
       "2309           NaN     10.1016/j.mvr.2019.103934  \n",
       "2310  NIHMS1526146     10.1016/j.mvr.2019.03.006  \n",
       "2311           NaN    10.1007/s11033-022-07365-6  \n",
       "2312   NIHMS676467      10.4049/jimmunol.1400887  \n",
       "\n",
       "[2313 rows x 11 columns]"
      ]
     },
     "execution_count": 4,
     "metadata": {},
     "output_type": "execute_result"
    }
   ],
   "source": [
    "df = pd.read_csv(csv_file)\n",
    "df"
   ]
  },
  {
   "cell_type": "code",
   "execution_count": 5,
   "id": "a47d5c2a",
   "metadata": {
    "ExecuteTime": {
     "end_time": "2024-01-08T23:06:07.395203Z",
     "start_time": "2024-01-08T23:06:07.364748Z"
    }
   },
   "outputs": [
    {
     "name": "stdout",
     "output_type": "stream",
     "text": [
      "There are 2313 published in 716 unique journals.\n"
     ]
    }
   ],
   "source": [
    "n_papers = len(df)\n",
    "n_journals = len(set(df['Journal/Book']))\n",
    "\n",
    "print(f\"There are {n_papers} published in {n_journals} unique journals.\")"
   ]
  },
  {
   "cell_type": "code",
   "execution_count": 6,
   "id": "66d6c938",
   "metadata": {
    "ExecuteTime": {
     "end_time": "2024-01-08T23:06:07.477973Z",
     "start_time": "2024-01-08T23:06:07.464167Z"
    }
   },
   "outputs": [],
   "source": [
    "journals = Counter(df['Journal/Book'])"
   ]
  },
  {
   "cell_type": "code",
   "execution_count": 7,
   "id": "fe751816",
   "metadata": {
    "ExecuteTime": {
     "end_time": "2024-01-08T23:06:09.921414Z",
     "start_time": "2024-01-08T23:06:09.899762Z"
    }
   },
   "outputs": [
    {
     "data": {
      "text/plain": [
       "[('Int J Mol Sci', 63),\n",
       " ('J Invest Dermatol', 62),\n",
       " ('Wound Repair Regen', 60),\n",
       " ('PLoS One', 43),\n",
       " ('Int J Biol Macromol', 37),\n",
       " ('Sci Rep', 33),\n",
       " ('Stem Cell Res Ther', 31),\n",
       " ('Exp Dermatol', 30),\n",
       " ('Adv Wound Care (New Rochelle)', 27),\n",
       " ('Front Bioeng Biotechnol', 25),\n",
       " ('ACS Appl Mater Interfaces', 24),\n",
       " ('Mater Sci Eng C Mater Biol Appl', 20),\n",
       " ('Molecules', 19),\n",
       " ('Am J Pathol', 19),\n",
       " ('Burns Trauma', 18),\n",
       " ('FASEB J', 18),\n",
       " ('Acta Biomater', 18),\n",
       " ('J Dermatol Sci', 17),\n",
       " ('Biomed Mater', 17),\n",
       " ('Carbohydr Polym', 17)]"
      ]
     },
     "execution_count": 7,
     "metadata": {},
     "output_type": "execute_result"
    }
   ],
   "source": [
    "journals.most_common(20)"
   ]
  },
  {
   "cell_type": "markdown",
   "id": "007e81ff",
   "metadata": {},
   "source": [
    "# Import abstract file"
   ]
  },
  {
   "cell_type": "code",
   "execution_count": 8,
   "id": "d4bc9266",
   "metadata": {
    "ExecuteTime": {
     "end_time": "2024-01-08T23:06:15.375213Z",
     "start_time": "2024-01-08T23:06:15.305337Z"
    }
   },
   "outputs": [
    {
     "name": "stdout",
     "output_type": "stream",
     "text": [
      "There are 2313 articles in file.\n"
     ]
    }
   ],
   "source": [
    "with open(abstracts_file, 'r', encoding = 'utf-8') as f_abs:\n",
    "    data = f_abs.readlines()\n",
    "\n",
    "# Identify starting line of each article\n",
    "#\n",
    "pattern = '\\d{1,4}[.] '\n",
    "\n",
    "articles_start = []\n",
    "k = 0\n",
    "while True:\n",
    "    \n",
    "    # Start of record  \n",
    "    #\n",
    "    potential_match = re.match(pattern, data[k])\n",
    "    if potential_match:\n",
    "        potential_index = int( data[k][potential_match.start(): \n",
    "                                       potential_match.end()-2] )\n",
    "        \n",
    "        if potential_index - 1 == len(articles_start):\n",
    "            articles_start.append( k )\n",
    "        \n",
    "    k += 1\n",
    "    if k == len(data):\n",
    "        break\n",
    "\n",
    "print(f\"There are {len(articles_start)} articles in file.\" )\n",
    "\n",
    "# Need to add last line of file so all articles are checked later\n",
    "articles_start.append( len(data) )"
   ]
  },
  {
   "cell_type": "code",
   "execution_count": 9,
   "id": "45ae9bcc",
   "metadata": {
    "ExecuteTime": {
     "end_time": "2024-01-08T23:06:17.065539Z",
     "start_time": "2024-01-08T23:06:16.991733Z"
    }
   },
   "outputs": [
    {
     "name": "stdout",
     "output_type": "stream",
     "text": [
      "-----> 49. RETRACTED ARTICLE\n",
      "\n",
      "-----> 563. RETRACTED ARTICLE\n",
      "\n",
      "-----> 794. RETRACTED ARTICLE\n",
      "\n",
      "-----> 1548. RETRACTED ARTICLE\n",
      "\n",
      "-----> 1723. RETRACTED ARTICLE\n",
      "\n",
      "-----> 2016. RETRACTED ARTICLE\n",
      "\n",
      "-----> 2041. RETRACTED ARTICLE\n",
      "\n"
     ]
    }
   ],
   "source": [
    "articles = []\n",
    "retracted_articles = []\n",
    "\n",
    "for i in range(0, len(articles_start) - 1):\n",
    "#     print(articles_start[i],articles_start[i+1])\n",
    "    info = copy( data[articles_start[i]:articles_start[i+1]])\n",
    "    flag, article = get_article_data(info)\n",
    "    \n",
    "    if flag:\n",
    "        retracted_articles.append( article )\n",
    "    \n",
    "    articles.append( article )\n",
    "    "
   ]
  },
  {
   "cell_type": "markdown",
   "id": "49e128f6",
   "metadata": {},
   "source": [
    "## Manual corrections"
   ]
  },
  {
   "cell_type": "code",
   "execution_count": null,
   "id": "cea29ef0",
   "metadata": {
    "ExecuteTime": {
     "end_time": "2024-01-08T22:47:20.449926Z",
     "start_time": "2024-01-08T22:47:20.424096Z"
    }
   },
   "outputs": [],
   "source": [
    "i = 183 # type value\n",
    "info = copy(data[articles_start[i]:\n",
    "                 articles_start[i+1]])\n",
    "\n",
    "for line in info:\n",
    "    print(line.strip())\n",
    "print()\n",
    "\n",
    "# for line in concatenate_lines(info):\n",
    "#     print(line.strip())\n",
    "#     print()\n",
    "    \n",
    "print(get_article_data(info))"
   ]
  },
  {
   "cell_type": "code",
   "execution_count": 10,
   "id": "35c01a7f",
   "metadata": {
    "ExecuteTime": {
     "end_time": "2024-01-08T23:06:25.161212Z",
     "start_time": "2024-01-08T23:06:25.137673Z"
    }
   },
   "outputs": [
    {
     "name": "stdout",
     "output_type": "stream",
     "text": [
      "{'retraction': None, 'journal': 'Sci Rep', 'year': 2018, 'date': ' Oct 23', 'volume': '8(1)', 'pages': '15906', 'doi': '10.1038/s41598-018-33558-w', 'title': 'Author Correction: Cathelicidin-OA1, a novel antioxidant peptide identified from an amphibian, accelerates skin wound healing.', 'authors': 'Cao X(1), Wang Y(2), Wu C(3), Li X(4), Fu Z(3), Yang M(3), Bian W(3), Wang S(2), Song Y(3), Tang J(5), Yang X(6)', 'affiliations': 'Author information: (1)Department of Pathology, Faculty of Basic Medical Science, Kunming Medical University, Kunming, 650500, Yunnan, China. (2)Key Laboratory of Chemistry in Ethnic Medicine Resource, State Ethnic Affairs Commission & Ministry of Education, School of Ethnomedicine and Ethnopharmacy, Yunnan Minzu University, Kunming, 650500, Yunnan, China. (3)Department of Anatomy and Histology & Embryology, Faculty of Basic Medical Science, Kunming Medical University, Kunming, 650500, Yunnan, China. (4)Department of Biochemistry and Molecular Biology, Faculty of Basic Medical Science, Kunming Medical University, Kunming, 650500, Yunnan, China. (5)Department of Biochemistry and Molecular Biology, Faculty of Basic Medical Science, Kunming Medical University, Kunming, 650500, Yunnan, China. gracett916@163.com. (6)Department of Anatomy and Histology & Embryology, Faculty of Basic Medical Science, Kunming Medical University, Kunming, 650500, Yunnan, China. yangxinwanghp@163.com', 'erratum': 'Erratum for Sci Rep. 2018 Jan 17;8(1):943.', 'comment': None, 'abstract': None, 'copyright': None, 'other_ids': 'A correction to this article has been published and is linked from the HTML and PDF versions of this paper. The error has not been fixed in the paper.'} \n",
      "\n",
      "{'retraction': None, 'journal': 'Sci Rep', 'year': 2018, 'date': ' Oct 23', 'volume': '8(1)', 'pages': '15906', 'doi': '10.1038/s41598-018-33558-w', 'title': 'Author Correction: Cathelicidin-OA1, a novel antioxidant peptide identified from an amphibian, accelerates skin wound healing.', 'authors': 'Cao X(1), Wang Y(2), Wu C(3), Li X(4), Fu Z(3), Yang M(3), Bian W(3), Wang S(2), Song Y(3), Tang J(5), Yang X(6)', 'affiliations': 'Author information: (1)Department of Pathology, Faculty of Basic Medical Science, Kunming Medical University, Kunming, 650500, Yunnan, China. (2)Key Laboratory of Chemistry in Ethnic Medicine Resource, State Ethnic Affairs Commission & Ministry of Education, School of Ethnomedicine and Ethnopharmacy, Yunnan Minzu University, Kunming, 650500, Yunnan, China. (3)Department of Anatomy and Histology & Embryology, Faculty of Basic Medical Science, Kunming Medical University, Kunming, 650500, Yunnan, China. (4)Department of Biochemistry and Molecular Biology, Faculty of Basic Medical Science, Kunming Medical University, Kunming, 650500, Yunnan, China. (5)Department of Biochemistry and Molecular Biology, Faculty of Basic Medical Science, Kunming Medical University, Kunming, 650500, Yunnan, China. gracett916@163.com. (6)Department of Anatomy and Histology & Embryology, Faculty of Basic Medical Science, Kunming Medical University, Kunming, 650500, Yunnan, China. yangxinwanghp@163.com', 'erratum': 'Erratum for Sci Rep. 2018 Jan 17;8(1):943.', 'comment': None, 'abstract': 'A correction to this article has been published and is linked from the HTML and PDF versions of this paper. The error has not been fixed in the paper.', 'copyright': None, 'other_ids': 'DOI: 10.1038/s41598-018-33558-w PMCID: PMC6198006 PMID: 30349056'} \n",
      "------\n"
     ]
    }
   ],
   "source": [
    "i = 402\n",
    "print(articles[i], '\\n')\n",
    "articles[i]['abstract'] = 'A correction to this article has been published and is linked from the HTML and PDF versions of this paper. The error has not been fixed in the paper.'\n",
    "articles[i]['other_ids'] = 'DOI: 10.1038/s41598-018-33558-w PMCID: PMC6198006 PMID: 30349056'\n",
    "\n",
    "print(articles[i], '\\n------')"
   ]
  },
  {
   "cell_type": "code",
   "execution_count": 11,
   "id": "adf97011",
   "metadata": {
    "ExecuteTime": {
     "end_time": "2024-01-08T23:06:26.022235Z",
     "start_time": "2024-01-08T23:06:25.992183Z"
    }
   },
   "outputs": [
    {
     "name": "stdout",
     "output_type": "stream",
     "text": [
      "{'retraction': None, 'journal': 'Pharmaceutics', 'year': 2022, 'date': ' Jun 17', 'volume': '14(6)', 'pages': '1291', 'doi': '10.3390/pharmaceutics14061291', 'title': 'Biomaterials in Skin Wound Healing and Tissue Regenerations-An Overview.', 'authors': 'Konop M(1)', 'affiliations': 'Author information: (1)Department of Experimental Physiology and Pathophysiology, Laboratory of Centre for Preclinical Research, Medical University of Warsaw, 02-091 Warszawa, Poland', 'erratum': None, 'comment': None, 'abstract': None, 'copyright': None, 'other_ids': 'Wound healing is a complex biological process [...].'} \n",
      "\n",
      "{'retraction': None, 'journal': 'Pharmaceutics', 'year': 2022, 'date': ' Jun 17', 'volume': '14(6)', 'pages': '1291', 'doi': '10.3390/pharmaceutics14061291', 'title': 'Biomaterials in Skin Wound Healing and Tissue Regenerations-An Overview.', 'authors': 'Konop M(1)', 'affiliations': 'Author information: (1)Department of Experimental Physiology and Pathophysiology, Laboratory of Centre for Preclinical Research, Medical University of Warsaw, 02-091 Warszawa, Poland', 'erratum': None, 'comment': None, 'abstract': 'Wound healing is a complex biological process [...].', 'copyright': None, 'other_ids': 'DOI: 10.3390/pharmaceutics14061291 PMCID: PMC9231209 PMID: 35745862'} \n",
      "------\n"
     ]
    }
   ],
   "source": [
    "i = 599\n",
    "print(articles[i], '\\n')\n",
    "\n",
    "articles[i]['abstract'] = 'Wound healing is a complex biological process [...].'\n",
    "articles[i]['other_ids'] = 'DOI: 10.3390/pharmaceutics14061291 PMCID: PMC9231209 PMID: 35745862'\n",
    "\n",
    "print(articles[i], '\\n------')\n"
   ]
  },
  {
   "cell_type": "code",
   "execution_count": 12,
   "id": "4fea22b0",
   "metadata": {
    "ExecuteTime": {
     "end_time": "2024-01-08T23:06:26.688086Z",
     "start_time": "2024-01-08T23:06:26.664659Z"
    }
   },
   "outputs": [
    {
     "name": "stdout",
     "output_type": "stream",
     "text": [
      "{'retraction': None, 'journal': 'Int J Mol Sci', 'year': 2019, 'date': ' Aug 26', 'volume': '20(17)', 'pages': '4178', 'doi': '10.3390/ijms20174178', 'title': 'Correction: Huang, H.-M., et al. Effects of Sapindus mukorossi Seed Oil on Skin Wound Healing: In Vivo and In Vitro Testing. Int. J. Mol. Sci. 2019, 20, 2579.', 'authors': 'Chen CC(1)(2), Nien CJ(3), Chen LG(4), Huang KY(3), Chang WJ(5), Huang HM(6)(7)', 'affiliations': 'Author information: (1)Emergency Department, Mackay Momorial Hospital, Taipei 110, Taiwan. (2)Medical School, Mackay Medical College, New Taipei City 252, Taiwan. (3)Graduate Institute of Biomedical Optomechatronics, College of Biomedical Engineering, Taipei Medical University, Taipei 110, Taiwan. (4)Department of Microbiology, Immunology and Biopharmaceuticals, College of Life Sciences, National Chiayi University, Chiayi 600, Taiwan. (5)School of Dentistry, College of Oral Medicine, Taipei Medical University, Taipei 110, Taiwan. (6)Graduate Institute of Biomedical Optomechatronics, College of Biomedical Engineering, Taipei Medical University, Taipei 110, Taiwan. hhm@tmu.edu.tw. (7)School of Dentistry, College of Oral Medicine, Taipei Medical University, Taipei 110, Taiwan. hhm@tmu.edu.tw', 'erratum': 'Erratum for Int J Mol Sci. 2019 May 26;20(10):', 'comment': None, 'abstract': None, 'copyright': None, 'other_ids': 'The authors are sorry to report that some of the HPLC data reported in their recently published paper [...].'} \n",
      "\n",
      "{'retraction': None, 'journal': 'Int J Mol Sci', 'year': 2019, 'date': ' Aug 26', 'volume': '20(17)', 'pages': '4178', 'doi': '10.3390/ijms20174178', 'title': 'Correction: Huang, H.-M., et al. Effects of Sapindus mukorossi Seed Oil on Skin Wound Healing: In Vivo and In Vitro Testing. Int. J. Mol. Sci. 2019, 20, 2579.', 'authors': 'Chen CC(1)(2), Nien CJ(3), Chen LG(4), Huang KY(3), Chang WJ(5), Huang HM(6)(7)', 'affiliations': 'Author information: (1)Emergency Department, Mackay Momorial Hospital, Taipei 110, Taiwan. (2)Medical School, Mackay Medical College, New Taipei City 252, Taiwan. (3)Graduate Institute of Biomedical Optomechatronics, College of Biomedical Engineering, Taipei Medical University, Taipei 110, Taiwan. (4)Department of Microbiology, Immunology and Biopharmaceuticals, College of Life Sciences, National Chiayi University, Chiayi 600, Taiwan. (5)School of Dentistry, College of Oral Medicine, Taipei Medical University, Taipei 110, Taiwan. (6)Graduate Institute of Biomedical Optomechatronics, College of Biomedical Engineering, Taipei Medical University, Taipei 110, Taiwan. hhm@tmu.edu.tw. (7)School of Dentistry, College of Oral Medicine, Taipei Medical University, Taipei 110, Taiwan. hhm@tmu.edu.tw', 'erratum': 'Erratum for Int J Mol Sci. 2019 May 26;20(10):', 'comment': None, 'abstract': 'The authors are sorry to report that some of the HPLC data reported in their recently published paper [...]..', 'copyright': None, 'other_ids': 'DOI: 10.3390/ijms20174178 PMCID: PMC6747146 PMID: 31454990'} \n",
      "------\n"
     ]
    }
   ],
   "source": [
    "i = 606\n",
    "print(articles[i], '\\n')\n",
    "articles[i]['abstract'] = 'The authors are sorry to report that some of the HPLC data reported in their recently published paper [...]..'\n",
    "articles[i]['other_ids'] = 'DOI: 10.3390/ijms20174178 PMCID: PMC6747146 PMID: 31454990'\n",
    "\n",
    "print(articles[i], '\\n------')"
   ]
  },
  {
   "cell_type": "code",
   "execution_count": 13,
   "id": "23f119a2",
   "metadata": {
    "ExecuteTime": {
     "end_time": "2024-01-08T23:06:28.021210Z",
     "start_time": "2024-01-08T23:06:27.997188Z"
    }
   },
   "outputs": [
    {
     "name": "stdout",
     "output_type": "stream",
     "text": [
      "{'retraction': None, 'journal': 'Trends Mol Med', 'year': 2020, 'date': ' Dec', 'volume': '26(12)', 'pages': '1101-1106', 'doi': '10.1016/j.molmed.2020.07.008', 'title': 'Fibroblast Heterogeneity in Wound Healing: Hurdles to Clinical Translation.', 'authors': 'Mascharak S(1), desJardins-Park HE(1), Longaker MT(2)', 'affiliations': 'Author information: (1)Department of Surgery, Division of Plastic and Reconstructive Surgery, Stanford University School of Medicine, Stanford, CA 94305, USA; Institute for Stem Cell Biology and Regenerative Medicine, Stanford University School of Medicine, Stanford, CA 94305, USA. (2)Department of Surgery, Division of Plastic and Reconstructive Surgery, Stanford University School of Medicine, Stanford, CA 94305, USA; Institute for Stem Cell Biology and Regenerative Medicine, Stanford University School of Medicine, Stanford, CA 94305, USA. Electronic address: longaker@stanford.edu', 'erratum': None, 'comment': 'Recent work has revealed that fibroblasts are remarkably heterogeneous cells, but the appropriate lens through which to study this variation (lineage, phenotype, and plasticity) and its relevance to human biology remain unclear. In this opinion article, we comment on recent breakthroughs in our understanding of fibroblast heterogeneity during skin wound healing, and on open questions that must be addressed to clinically translate these findings in order to minimize scarring in patients. We emphasize the need for experimental models of wound healing that better approximate human biology, as well as comparison of scarring and regenerative phenotypes to uncover master regulators of fibrosis.', 'abstract': None, 'copyright': 'Copyright © 2020 Elsevier Ltd. All rights reserved', 'other_ids': 'DOI: 10.1016/j.molmed.2020.07.008 PMID: 32800679 [Indexed for MEDLINE]'} \n",
      "\n",
      "{'retraction': None, 'journal': 'Trends Mol Med', 'year': 2020, 'date': ' Dec', 'volume': '26(12)', 'pages': '1101-1106', 'doi': '10.1016/j.molmed.2020.07.008', 'title': 'Fibroblast Heterogeneity in Wound Healing: Hurdles to Clinical Translation.', 'authors': 'Mascharak S(1), desJardins-Park HE(1), Longaker MT(2)', 'affiliations': 'Author information: (1)Department of Surgery, Division of Plastic and Reconstructive Surgery, Stanford University School of Medicine, Stanford, CA 94305, USA; Institute for Stem Cell Biology and Regenerative Medicine, Stanford University School of Medicine, Stanford, CA 94305, USA. (2)Department of Surgery, Division of Plastic and Reconstructive Surgery, Stanford University School of Medicine, Stanford, CA 94305, USA; Institute for Stem Cell Biology and Regenerative Medicine, Stanford University School of Medicine, Stanford, CA 94305, USA. Electronic address: longaker@stanford.edu', 'erratum': None, 'comment': None, 'abstract': 'Recent work has revealed that fibroblasts are remarkably heterogeneous cells, but the appropriate lens through which to study this variation (lineage, phenotype, and plasticity) and its relevance to human biology remain unclear. In this opinion article, we comment on recent breakthroughs in our understanding of fibroblast heterogeneity during skin wound healing, and on open questions that must be addressed to clinically translate these findings in order to minimize scarring in patients. We emphasize the need for experimental models of wound healing that better approximate human biology, as well as comparison of scarring and regenerative phenotypes to uncover master regulators of fibrosis.', 'copyright': 'Copyright © 2020 Elsevier Ltd. All rights reserved', 'other_ids': 'DOI: 10.1016/j.molmed.2020.07.008 PMID: 32800679 [Indexed for MEDLINE]'} \n",
      "------\n"
     ]
    }
   ],
   "source": [
    "i = 702\n",
    "print(articles[i], '\\n')\n",
    "articles[i]['abstract'] = articles[i]['comment']\n",
    "articles[i]['comment'] = None\n",
    "\n",
    "print(articles[i], '\\n------')"
   ]
  },
  {
   "cell_type": "code",
   "execution_count": 14,
   "id": "a3d8f436",
   "metadata": {
    "ExecuteTime": {
     "end_time": "2024-01-08T23:06:29.161837Z",
     "start_time": "2024-01-08T23:06:29.139853Z"
    }
   },
   "outputs": [
    {
     "name": "stdout",
     "output_type": "stream",
     "text": [
      "{'retraction': None, 'journal': 'J Zhejiang Univ Sci B', 'year': 2023, 'date': ' Jun 15', 'volume': '24(6)', 'pages': '510-523', 'doi': '10.1631/jzus.B2200447', 'title': 'Nanosilver alleviates foreign body reaction and facilitates wound repair by regulating macrophage polarization.', 'authors': 'You C(1), Zhu Z(1), Wang S(1)(2), Wang X(1), Han C(3), Shao H(4)', 'affiliations': \"Author information: (1)Department of Burns & Wound Care Center, the Second Affiliated Hospital, Zhejiang University School of Medicine, Hangzhou 310009, China. (2)Department of Burns, the First People's Hospital of Wenling, Wenling 317500, China. (3)Department of Burns & Wound Care Center, the Second Affiliated Hospital, Zhejiang University School of Medicine, Hangzhou 310009, China. 2504131@zju.edu.cn, zrssk@zju.edu.cn. (4)Department of Burns & Wound Care Center, the Second Affiliated Hospital, Zhejiang University School of Medicine, Hangzhou 310009, China. 2504131@zju.edu.cn\", 'erratum': None, 'comment': None, 'abstract': 'Foreign body reactions induced by macrophages often cause delay or failure of wound healing in the application of tissue engineering scaffolds. This study explores the application of nanosilver (NAg) to reduce foreign body reactions during scaffold transplantation. An NAg hybrid collagen-chitosan scaffold (NAg-CCS) was prepared using the freeze-drying method. The NAg-CCS was implanted on the back of rats to evaluate the effects on foreign body reactions. Skin tissue samples were collected for histological and immunological evaluation at variable intervals. Miniature pigs were used to assess the effects of NAg on skin wound healing. The wounds were photographed, and tissue samples were collected for molecular biological analysis at different time points post-transplantation. NAg-CCS has a porous structure and the results showed that it could release NAg constantly for two weeks. The NAg-CCS group rarely developed a foreign body reaction, while the blank-CCS group showed granulomas or necrosis in the subcutaneous grafting experiment. Both matrix metalloproteinase-1 (MMP-1) and tissue inhibitor of metalloproteinase-1 (TIMP-1) were reduced significantly in the NAg-CCS group. The NAg-CCS group had higher interleukin (IL)-10 and lower IL-6 than the blank CCS group. In the wound healing study, M1 macrophage activation and inflammatory-related proteins (inducible nitric oxide synthase (iNOS), IL-6, and interferon-\\u200dγ (IFN-\\u200dγ)) were inhibited by NAg. In contrast, M2 macrophage activation and proinflammatory proteins (arginase-1, major histocompatibility complex-II (MHC-II), and found in inflammatory zone-1 (FIZZ-1)) were promoted, and this was responsible for suppressing the foreign body responses and accelerating wound healing. In conclusion, dermal scaffolds containing NAg suppressed the foreign body reaction by regulating macrophages and the expression of inflammatory cytokines, thereby promoting wound healing. Publisher: 在组织工程支架的应用中，巨噬细胞引起的异物反应常导致伤口愈合延迟或失败。本研究探讨了纳米银（NAg）在支架移植过程中减少异物反应的作用。首先采用冷冻干燥法制备了包覆NAg的胶原-壳聚糖支架（NAg-CCS）。将Nag-CCS植入大鼠背部以评估对异物反应的影响，并在不同的时间间隔收集皮肤组织样本用于组织学和免疫学评估。小型猪创面愈合模型被用来评估NAg对皮肤伤口愈合的影响。在不同时间点对创面进行拍照，并收集组织样本用于移植后不同时间点的分子生物学分析。结果表明，NAg-CCS具有多孔结构，可以持续释放NAg超过2周。NAg-CCS组很少发生异物反应，而空白CCS组在皮下移植实验中出现明显的肉芽肿或坏死。NAg-CCS组的基质金属蛋白酶-1（MMP-1）和组织金属蛋白酶抑制剂-1（TIMP-1）均显着降低。Nag-CCS组比空白CCS组具有更高的白细胞介素（IL）\\u200d-10和更低的IL-6。在创面愈合实验中，NAg显著抑制了M1巨噬细胞的活化和炎症相关蛋白（一氧化氮合成酶（iNOS）、IL-6和干扰素-γ（IFN-γ））的表达，而促进了M2巨噬细胞的活化和抗炎相关蛋白（精氨酸酶-1、主要组织相容性复合体-Ⅱ（MHC-Ⅱ）和抵抗素样分子-1（FIZZ-1））的表达，这些改变均有助于抑制创面的异物反应并加速创面的愈合。总之，含有NAg的真皮支架通过调节巨噬细胞极化和炎性细胞因子的表达来抑制异物反应，从而促进皮肤创面的修复。.', 'copyright': None, 'other_ids': '在组织工程支架的应用中，巨噬细胞引起的异物反应常导致伤口愈合延迟或失败。本研究探讨了纳米银（NAg）在支架移植过程中减少异物反应的作用。首先采用冷冻干燥法制备了包覆NAg的胶原-壳聚糖支架（NAg-CCS）。将Nag-CCS植入大鼠背部以评估对异物反应的影响，并在不同的时间间隔收集皮肤组织样本用于组织学和免疫学评估。小型猪创面愈合模型被用来评估NAg对皮肤伤口愈合的影响。在不同时间点对创面进行拍照，并收集组织样本用于移植后不同时间点的分子生物学分析。结果表明，NAg-CCS具有多孔结构，可以持续释放NAg超过2周。NAg-CCS组很少发生异物反应，而空白CCS组在皮下移植实验中出现明显的肉芽肿或坏死。NAg-CCS组的基质金属蛋白酶-1（MMP-1）和组织金属蛋白酶抑制剂-1（TIMP-1）均显着降低。Nag-CCS组比空白CCS组具有更高的白细胞介素（IL）\\u200d-10和更低的IL-6。在创面愈合实验中，NAg显著抑制了M1巨噬细胞的活化和炎症相关蛋白（一氧化氮合成酶（iNOS）、IL-6和干扰素-γ（IFN-γ））的表达，而促进了M2巨噬细胞的活化和抗炎相关蛋白（精氨酸酶-1、主要组织相容性复合体-Ⅱ（MHC-Ⅱ）和抵抗素样分子-1（FIZZ-1））的表达，这些改变均有助于抑制创面的异物反应并加速创面的愈合。总之，含有NAg的真皮支架通过调节巨噬细胞极化和炎性细胞因子的表达来抑制异物反应，从而促进皮肤创面的修复。'} \n",
      "\n",
      "{'retraction': None, 'journal': 'J Zhejiang Univ Sci B', 'year': 2023, 'date': ' Jun 15', 'volume': '24(6)', 'pages': '510-523', 'doi': '10.1631/jzus.B2200447', 'title': 'Nanosilver alleviates foreign body reaction and facilitates wound repair by regulating macrophage polarization.', 'authors': 'You C(1), Zhu Z(1), Wang S(1)(2), Wang X(1), Han C(3), Shao H(4)', 'affiliations': \"Author information: (1)Department of Burns & Wound Care Center, the Second Affiliated Hospital, Zhejiang University School of Medicine, Hangzhou 310009, China. (2)Department of Burns, the First People's Hospital of Wenling, Wenling 317500, China. (3)Department of Burns & Wound Care Center, the Second Affiliated Hospital, Zhejiang University School of Medicine, Hangzhou 310009, China. 2504131@zju.edu.cn, zrssk@zju.edu.cn. (4)Department of Burns & Wound Care Center, the Second Affiliated Hospital, Zhejiang University School of Medicine, Hangzhou 310009, China. 2504131@zju.edu.cn\", 'erratum': None, 'comment': None, 'abstract': 'Foreign body reactions induced by macrophages often cause delay or failure of wound healing in the application of tissue engineering scaffolds. This study explores the application of nanosilver (NAg) to reduce foreign body reactions during scaffold transplantation. An NAg hybrid collagen-chitosan scaffold (NAg-CCS) was prepared using the freeze-drying method. The NAg-CCS was implanted on the back of rats to evaluate the effects on foreign body reactions. Skin tissue samples were collected for histological and immunological evaluation at variable intervals. Miniature pigs were used to assess the effects of NAg on skin wound healing. The wounds were photographed, and tissue samples were collected for molecular biological analysis at different time points post-transplantation. NAg-CCS has a porous structure and the results showed that it could release NAg constantly for two weeks. The NAg-CCS group rarely developed a foreign body reaction, while the blank-CCS group showed granulomas or necrosis in the subcutaneous grafting experiment. Both matrix metalloproteinase-1 (MMP-1) and tissue inhibitor of metalloproteinase-1 (TIMP-1) were reduced significantly in the NAg-CCS group. The NAg-CCS group had higher interleukin (IL)-10 and lower IL-6 than the blank CCS group. In the wound healing study, M1 macrophage activation and inflammatory-related proteins (inducible nitric oxide synthase (iNOS), IL-6, and interferon-\\u200dγ (IFN-\\u200dγ)) were inhibited by NAg. In contrast, M2 macrophage activation and proinflammatory proteins (arginase-1, major histocompatibility complex-II (MHC-II), and found in inflammatory zone-1 (FIZZ-1)) were promoted, and this was responsible for suppressing the foreign body responses and accelerating wound healing. In conclusion, dermal scaffolds containing NAg suppressed the foreign body reaction by regulating macrophages and the expression of inflammatory cytokines, thereby promoting wound healing. Publisher: 在组织工程支架的应用中，巨噬细胞引起的异物反应常导致伤口愈合延迟或失败。本研究探讨了纳米银（NAg）在支架移植过程中减少异物反应的作用。首先采用冷冻干燥法制备了包覆NAg的胶原-壳聚糖支架（NAg-CCS）。将Nag-CCS植入大鼠背部以评估对异物反应的影响，并在不同的时间间隔收集皮肤组织样本用于组织学和免疫学评估。小型猪创面愈合模型被用来评估NAg对皮肤伤口愈合的影响。在不同时间点对创面进行拍照，并收集组织样本用于移植后不同时间点的分子生物学分析。结果表明，NAg-CCS具有多孔结构，可以持续释放NAg超过2周。NAg-CCS组很少发生异物反应，而空白CCS组在皮下移植实验中出现明显的肉芽肿或坏死。NAg-CCS组的基质金属蛋白酶-1（MMP-1）和组织金属蛋白酶抑制剂-1（TIMP-1）均显着降低。Nag-CCS组比空白CCS组具有更高的白细胞介素（IL）\\u200d-10和更低的IL-6。在创面愈合实验中，NAg显著抑制了M1巨噬细胞的活化和炎症相关蛋白（一氧化氮合成酶（iNOS）、IL-6和干扰素-γ（IFN-γ））的表达，而促进了M2巨噬细胞的活化和抗炎相关蛋白（精氨酸酶-1、主要组织相容性复合体-Ⅱ（MHC-Ⅱ）和抵抗素样分子-1（FIZZ-1））的表达，这些改变均有助于抑制创面的异物反应并加速创面的愈合。总之，含有NAg的真皮支架通过调节巨噬细胞极化和炎性细胞因子的表达来抑制异物反应，从而促进皮肤创面的修复。.', 'copyright': None, 'other_ids': 'DOI: 10.1631/jzus.B2200447 PMCID: PMC10264175 PMID: 37309042 [Indexed for MEDLINE]'} \n",
      "------\n"
     ]
    }
   ],
   "source": [
    "i = 2121\n",
    "print(articles[i], '\\n')\n",
    "articles[i]['other_ids'] = 'DOI: 10.1631/jzus.B2200447 PMCID: PMC10264175 PMID: 37309042 [Indexed for MEDLINE]'\n",
    "\n",
    "print(articles[i], '\\n------')"
   ]
  },
  {
   "cell_type": "markdown",
   "id": "06b505d6",
   "metadata": {},
   "source": [
    "# Verify records"
   ]
  },
  {
   "cell_type": "code",
   "execution_count": 15,
   "id": "702ddd03",
   "metadata": {
    "ExecuteTime": {
     "end_time": "2024-01-08T23:06:32.542289Z",
     "start_time": "2024-01-08T23:06:32.516111Z"
    },
    "scrolled": false
   },
   "outputs": [],
   "source": [
    "for i, article in enumerate( articles ):\n",
    "    if ( article['other_ids'][:3] == 'DOI' \n",
    "         or article['other_ids'][:4] == 'PMID' \n",
    "         or article['other_ids'][:5] == 'PMCID' ):\n",
    "        continue\n",
    "        \n",
    "    print(i, article['other_ids'], '\\n')"
   ]
  },
  {
   "cell_type": "markdown",
   "id": "5358bbaf",
   "metadata": {},
   "source": [
    "# Classify articles"
   ]
  },
  {
   "cell_type": "code",
   "execution_count": 16,
   "id": "f5bdad0f",
   "metadata": {
    "ExecuteTime": {
     "end_time": "2024-01-08T23:06:40.284612Z",
     "start_time": "2024-01-08T23:06:40.256097Z"
    }
   },
   "outputs": [
    {
     "name": "stdout",
     "output_type": "stream",
     "text": [
      "48 -- Evid Based Complement Alternat Med. 2022; 2022 \n",
      "\tPorcine Fibrin Sealant Promotes Skin Wound Healing in Rats.\n",
      "\tRetraction in Evid Based Complement Alternat Med. 2023 Oct 4;2023:9757140.\n",
      "\n",
      "71 -- Evid Based Complement Alternat Med. 2023; 2023 \n",
      "\tRetracted: Porcine Fibrin Sealant Promotes Skin Wound Healing in Rats.\n",
      "\tRetraction Notice: Retraction of Evid Based Complement Alternat Med. 2022 Jun 23;2022:5063625. [This retracts the article DOI: 10.1155/2022/5063625.].\n",
      "\n",
      "[71]\n",
      "113 -- Biomater Sci. 2023; 11(3) \n",
      "\tRetraction: Sericin hydrogels promote skin wound healing with effective regeneration of hair follicles and sebaceous glands after complete loss of epidermis and dermis.\n",
      "\tRetraction Notice: Retraction of Biomater Sci. 2018 Nov 1;6(11):2859-2870.\n",
      "\n",
      "[71, 113]\n",
      "131 -- J Healthc Eng. 2023; 2023 \n",
      "\tRetracted: Efficacy of Human Adipose Derived Mesenchymal Stem Cells in Promoting Skin Wound Healing.\n",
      "\tRetraction Notice: Retraction of J Healthc Eng. 2022 Mar 24;2022:6590025. [This retracts the article DOI: 10.1155/2022/6590025.].\n",
      "\n",
      "[71, 113, 131]\n",
      "183 -- Biomed Mater. 2023; 18(5). doi \n",
      "\tRetraction: Preparation and characterization of borosilicate-bioglass-incorporated sodium alginate composite wound dressing for accelerated full-thickness skin wound healing (2020Biomed. Mater.15 055009). [No authors listed]\n",
      "\tRetraction Notice: \n",
      "\n",
      "[71, 113, 131, 183]\n",
      "204 -- ACS Biomater Sci Eng. 2021; 7(6) \n",
      "\tRetraction of \"Rubidium-Containing Calcium Alginate Hydrogel for Antibacterial and Diabetic Skin Wound Healing Applications\".\n",
      "\tRetraction Notice: Retraction of ACS Biomater Sci Eng. 2019 Sep 9;5(9):4726-4738.\n",
      "\n",
      "[71, 113, 131, 183, 204]\n",
      "562 -- Biomed Mater. 2020; 15(5) \n",
      "\tPreparation and characterization of borosilicate-bioglass-incorporated sodium alginate composite wound dressing for accelerated full-thickness skin wound healing.\n",
      "\tRetraction in Biomed Mater. 2023 Aug 18;18(5):\n",
      "\n",
      "793 -- Biomater Sci. 2018; 6(11) \n",
      "\tSericin hydrogels promote skin wound healing with effective regeneration of hair follicles and sebaceous glands after complete loss of epidermis and dermis.\n",
      "\tRetraction in Biomater Sci. 2023 Jan 31;11(3):1077-1078.\n",
      "\n",
      "1547 -- Biomed Mater. 2020; 15(3) \n",
      "\tDesign and fabrication of electrospun SBA-15-incorporated PVA with curcumin: a biomimetic nanoscaffold for skin tissue engineering.\n",
      "\tRetraction in Biomed Mater. 2023 Aug 03;18(5):\n",
      "\n",
      "1722 -- J Healthc Eng. 2022; 2022 \n",
      "\tEfficacy of Human Adipose Derived Mesenchymal Stem Cells in Promoting Skin Wound Healing.\n",
      "\tRetraction in J Healthc Eng. 2023 Sep 27;2023:9758310.\n",
      "\n",
      "2015 -- PLoS One. 2015; 10(11) \n",
      "\tThe Combination of Three Natural Compounds Effectively Prevented Lung Carcinogenesis by Optimal Wound Healing.\n",
      "\tRetraction in PLoS One. 2023 Nov 21;18(11):e0294975.\n",
      "\n",
      "2040 -- ACS Biomater Sci Eng. 2019; 5(9) \n",
      "\tRubidium-Containing Calcium Alginate Hydrogel for Antibacterial and Diabetic Skin Wound Healing Applications.\n",
      "\tRetraction in ACS Biomater Sci Eng. 2021 Jun 14;7(6):2858.\n",
      "\n",
      "[71, 113, 131, 183, 204]\n"
     ]
    }
   ],
   "source": [
    "to_remove = []\n",
    "for i, article in enumerate( articles ):\n",
    "    if article['retraction']:\n",
    "        print( f\"{i} -- {article['journal']}. {article['year']}; {article['volume']} \" \n",
    "               f\"\\n\\t{article['title']}\\n\\t{article['retraction']}\\n\")\n",
    "        if article['retraction'][:19] == 'Retraction Notice: ':\n",
    "            to_remove.append(i)\n",
    "            print(to_remove)\n",
    "\n",
    "print(to_remove)"
   ]
  },
  {
   "cell_type": "code",
   "execution_count": 17,
   "id": "a0842b84",
   "metadata": {
    "ExecuteTime": {
     "end_time": "2024-01-08T23:06:47.659582Z",
     "start_time": "2024-01-08T23:06:47.636875Z"
    }
   },
   "outputs": [
    {
     "name": "stdout",
     "output_type": "stream",
     "text": [
      "2308\n"
     ]
    }
   ],
   "source": [
    "for i in reversed(to_remove):\n",
    "    articles.pop(i)\n",
    "\n",
    "print(len(articles))"
   ]
  },
  {
   "cell_type": "code",
   "execution_count": 18,
   "id": "c9f788bc",
   "metadata": {
    "ExecuteTime": {
     "end_time": "2024-01-08T23:06:48.850062Z",
     "start_time": "2024-01-08T23:06:48.827041Z"
    },
    "scrolled": false
   },
   "outputs": [
    {
     "name": "stdout",
     "output_type": "stream",
     "text": [
      "105 -- Front Immunol. 2022; 13 \n",
      "\tSingle-Cell RNA-seq Analysis Reveals Cellular Functional Heterogeneity in Dermis Between Fibrotic and Regenerative Wound Healing Fates.\n",
      "\tErratum in Front Immunol. 2023 Mar 31;14:1175360.\n",
      "\n",
      "119 -- Br J Pharmacol. 2020; 177(14) \n",
      "\tLow-concentration DMSO accelerates skin wound healing by Akt/mTOR-mediated cell proliferation and migration in diabetic mice.\n",
      "\tErratum in Br J Pharmacol. 2020 Dec;177(23):5433.\n",
      "\n",
      "187 -- Int J Mol Sci. 2019; 20(10) \n",
      "\tEffects of Sapindus mukorossi Seed Oil on Skin Wound Healing: In Vivo and in Vitro Testing.\n",
      "\tErratum in Int J Mol Sci. 2019 Aug 26;20(17):\n",
      "\n",
      "208 -- Int J Nanomedicine. 2022; 17 \n",
      "\tSelf-Assembled Nano-Peptide Hydrogels with Human Umbilical Cord Mesenchymal Stem Cell Spheroids Accelerate Diabetic Skin Wound Healing by Inhibiting Inflammation and Promoting Angiogenesis.\n",
      "\tErratum in Int J Nanomedicine. 2022 Jul 11;17:3057-3058.\n",
      "\n",
      "293 -- Wound Repair Regen. 2006; 14(1) \n",
      "\tGenetic analysis of skin wound healing and scarring in a porcine model.\n",
      "\tErratum in Wound Repair Regen. 2007 Jan-Feb;15(1):163.\n",
      "\n",
      "326 -- Am J Physiol Cell Physiol. 2012; 302(8) \n",
      "\tMyostatin-null mice exhibit delayed skin wound healing through the blockade of transforming growth factor-β signaling by decorin.\n",
      "\tErratum in Am J Physiol Cell Physiol. 2014 Dec 15;307(12):C1153.\n",
      "\n",
      "340 -- Front Bioeng Biotechnol. 2023; 11 \n",
      "\tCorrigendum: The fabrication of a gellan gum-based hydrogel loaded with magnesium ions for the synergistic promotion of skin wound healing.\n",
      "\tErratum for Front Bioeng Biotechnol. 2021 Sep 13;9:709679. [This corrects the article DOI: 10.3389/fbioe.2021.709679.].\n",
      "\n",
      "[340]\n",
      "363 -- Int J Nanomedicine. 2022; 17 \n",
      "\tErratum: Self-Assembled Nano-Peptide Hydrogels with Human Umbilical Cord Mesenchymal Stem Cell Spheroids Accelerate Diabetic Skin Wound Healing by Inhibiting Inflammation and Promoting Angiogenesis [Corrigendum]. [No authors listed]\n",
      "\tErratum for Int J Nanomedicine. 2022 May 30;17:2459-2474. [This corrects the article DOI: 10.2147/IJN.S363777.].\n",
      "\n",
      "[340, 363]\n",
      "384 -- PLoS One. 2021; 16(1) \n",
      "\tCorrection: Fibromodulin-Deficiency Alters Temporospatial Expression Patterns of Transforming Growth Factor-β Ligands and Receptors during Adult Mouse Skin Wound Healing.\n",
      "\tErratum for PLoS One. 2014 Mar 06;9(6):e90817. [This corrects the article DOI: 10.1371/journal.pone.0090817.].\n",
      "\n",
      "[340, 363, 384]\n",
      "397 -- Sci Rep. 2018; 8(1) \n",
      "\tAuthor Correction: Cathelicidin-OA1, a novel antioxidant peptide identified from an amphibian, accelerates skin wound healing.\n",
      "\tErratum for Sci Rep. 2018 Jan 17;8(1):943.\n",
      "\n",
      "[340, 363, 384, 397]\n",
      "415 -- PLoS One. 2017; 12(5) \n",
      "\tCorrection: Oral Administration of Linoleic Acid Induces New Vessel Formation and Improves Skin Wound Healing in Diabetic Rats.\n",
      "\tErratum for PLoS One. 2016 Oct 20;11(10 ):e0165115. [This corrects the article DOI: 10.1371/journal.pone.0165115.].\n",
      "\n",
      "[340, 363, 384, 397, 415]\n",
      "447 -- Front Immunol. 2023; 14 \n",
      "\tCorrigendum: Single-cell RNA-seq analysis reveals cellular functional heterogeneity in dermis between fibrotic and regenerative wound healing fates.\n",
      "\tErratum for Front Immunol. 2022 May 17;13:875407. [This corrects the article DOI: 10.3389/fimmu.2022.875407.].\n",
      "\n",
      "[340, 363, 384, 397, 415, 447]\n",
      "601 -- Int J Mol Sci. 2019; 20(17) \n",
      "\tCorrection: Huang, H.-M., et al. Effects of Sapindus mukorossi Seed Oil on Skin Wound Healing: In Vivo and In Vitro Testing. Int. J. Mol. Sci. 2019, 20, 2579.\n",
      "\tErratum for Int J Mol Sci. 2019 May 26;20(10):\n",
      "\n",
      "[340, 363, 384, 397, 415, 447, 601]\n",
      "710 -- Front Immunol. 2023; 14 \n",
      "\tCorrigendum: Human umbilical cord mesenchymal stem cell-derived exosomes promote murine skin wound healing by neutrophil and macrophage modulations revealed by single-cell RNA sequencing.\n",
      "\tErratum for Front Immunol. 2023 Mar 06;14:1142088. [This corrects the article DOI: 10.3389/fimmu.2023.1142088.].\n",
      "\n",
      "[340, 363, 384, 397, 415, 447, 601, 710]\n",
      "736 -- Front Immunol. 2023; 14 \n",
      "\tHuman umbilical cord mesenchymal stem cell-derived exosomes promote murine skin wound healing by neutrophil and macrophage modulations revealed by single-cell RNA sequencing.\n",
      "\tErratum in Front Immunol. 2023 Mar 14;14:1181215.\n",
      "\n",
      "781 -- Molecules. 2021; 26(16) \n",
      "\tThe Role of Allium subhirsutum L. in the Attenuation of Dermal Wounds by Modulating Oxidative Stress and Inflammation in Wistar Albino Rats.\n",
      "\tErratum in Molecules. 2022 Aug 22;27(16):\n",
      "\n",
      "841 -- PLoS One. 2016; 11(10) \n",
      "\tOral Administration of Linoleic Acid Induces New Vessel Formation and Improves Skin Wound Healing in Diabetic Rats.\n",
      "\tErratum in PLoS One. 2017 May 31;12 (5):e0179071.\n",
      "\n",
      "916 -- Wound Repair Regen. 2003; 11(3) \n",
      "\tRecombinant connective tissue growth factor modulates porcine skin fibroblast gene expression.\n",
      "\tErratum in Wound Repair Regen. 2003 Sep-Oct;11(5):394.\n",
      "\n",
      "1021 -- Burns. 2013; 39(4) \n",
      "\tDelayed wound healing in aged skin rat models after thermal injury is associated with an increased MMP-9, K6 and CD44 expression.\n",
      "\tErratum in Burns. 2014 Feb;40(1):175. Oriana, Simonetti [corrected to Simonetti, Oriana]; Guendalina, Lucarini [corrected to Lucarini, Guendalina]; Oscar, Cirioni [corrected to Cirioni, Oscar]; Antonio, Zizzi [corrected to Zizzi, Antonio]; Fiorenza, Orlando [corrected to Orlando, Fiorenza]; Ma.\n",
      "\n",
      "1073 -- J Invest Dermatol. 2009; 129(10) \n",
      "\tPeroxisome proliferator-activated receptor-alpha is a functional target of p63 in adult human keratinocytes.\n",
      "\tErratum in J Invest Dermatol. 2010 Mar;130(3):908.\n",
      "\n",
      "1105 -- RSC Adv. 2019; 9(40) \n",
      "\tHybrid cellulose nanocrystal/alginate/gelatin scaffold with improved mechanical properties and guided wound healing.\n",
      "\tErratum in RSC Adv. 2022 Dec 12;12(55):35613-35615.\n",
      "\n",
      "1126 -- PLoS One. 2013; 8(6) \n",
      "\tNovel biodegradable porous scaffold applied to skin regeneration.\n",
      "\tErratum in PLoS One. 2013;8(11). doi:10.1371/annotation/4d5ef06d-b800-4d0c-b809-d3cb7a5d00c6. Wang, Zhao-Ren [corrected to Wang, Chau-Zen].\n",
      "\n",
      "1208 -- Burns Trauma. 2019; 7 \n",
      "\tMesenchymal stromal cells-exosomes: a promising cell-free therapeutic tool for wound healing and cutaneous regeneration.\n",
      "\tErratum in Burns Trauma. 2020 Jan 23;8:tkaa007.\n",
      "\n",
      "1273 -- Biochim Biophys Acta Mol Cell Res. 2018; 1865(2) \n",
      "\tDistorted leukocyte migration, angiogenesis, wound repair and metastasis in Tspan8 and Tspan8/CD151 double knockout mice indicate complementary activities of Tspan8 and CD51.\n",
      "\tErratum in Biochim Biophys Acta. 2018 Jan 20;:\n",
      "\n",
      "1280 -- Aging (Albany NY). 2015; 7(3) \n",
      "\tWound healing and longevity: lessons from long-lived αMUPA mice.\n",
      "\tErratum in Aging (Albany NY). 2016 Mar;8(3):564.\n",
      "\n",
      "1320 -- Life Sci. 2021; 275 \n",
      "\tPlantar incision with severe muscle injury can be a cause of long-lasting postsurgical pain in the skin.\n",
      "\tErratum in Life Sci. 2021 Sep 15;281:119809.\n",
      "\n",
      "1351 -- Front Bioeng Biotechnol. 2021; 9 \n",
      "\tThe Fabrication of a Gellan Gum-Based Hydrogel Loaded With Magnesium Ions for the Synergistic Promotion of Skin Wound Healing.\n",
      "\tErratum in Front Bioeng Biotechnol. 2023 Dec 14;11:1335918.\n",
      "\n",
      "1411 -- Exp Cell Res. 2002; 280(2) \n",
      "\tCollagen modulates gene activation of plasminogen activator system molecules.\n",
      "\tErratum in Exp Cell Res. 2003 Mar 10;284(1):160-161.\n",
      "\n",
      "1424 -- Polymers (Basel). 2022; 14(18) \n",
      "\tElectroactive Oxidized Alginate/Gelatin/MXene (Ti(3)C(2)T(x)) Composite Hydrogel with Improved Biocompatibility and Self-Healing Property.\n",
      "\tErratum in Polymers (Basel). 2022 Nov 30;14(23):\n",
      "\n",
      "1438 -- Evid Based Complement Alternat Med. 2018; 2018 \n",
      "\tIn Vitro Wound Healing Potential of Stem Extract of Alternanthera sessilis.\n",
      "\tErratum in Evid Based Complement Alternat Med. 2020 Jun 13;2020:2705479.\n",
      "\n",
      "1462 -- Am J Surg. 2007; 193(2) \n",
      "\tEnhancing skin wound healing by direct delivery of intracellular adenosine triphosphate.\n",
      "\tErratum in Am J Surg. 2008 Jan;195(1):139.\n",
      "\n",
      "1503 -- Wound Repair Regen. 2013; 21(5) \n",
      "\tEffects of systemic pretreatment with CpG oligodeoxynucleotides on skin wound healing in mice.\n",
      "\tErratum in Wound Repair Regen. 2014 Jan-Feb;22(1):141.\n",
      "\n",
      "1525 -- Bioact Mater. 2022; 24 \n",
      "\tUltrasound-triggered piezocatalytic composite hydrogels for promoting bacterial-infected wound healing.\n",
      "\tErratum in Bioact Mater. 2023 Oct 05;32:147-148.\n",
      "\n",
      "1635 -- Proc Natl Acad Sci U S A. 2003; 100(10) \n",
      "\tDeletion of neuropeptide Y (NPY) 2 receptor in mice results in blockage of NPY-induced angiogenesis and delayed wound healing.\n",
      "\tErratum in Proc Natl Acad Sci U S A. 2007 Feb 13;104(7):2554.\n",
      "\n",
      "1673 -- Sci Rep. 2018; 8(1) \n",
      "\tCathelicidin-OA1, a novel antioxidant peptide identified from an amphibian, accelerates skin wound healing.\n",
      "\tErratum in Sci Rep. 2018 Oct 23;8(1):15906.\n",
      "\n",
      "1725 -- Stem Cell Res Ther. 2020; 11(1) \n",
      "\tAdipose stem cells from type 2 diabetic mice exhibit therapeutic potential in wound healing.\n",
      "\tErratum in Stem Cell Res Ther. 2022 Feb 25;13(1):82.\n",
      "\n",
      "1751 -- Int J Biol Sci. 2011; 7(5) \n",
      "\tmiR-21 promotes keratinocyte migration and re-epithelialization during wound healing.\n",
      "\tErratum in Int J Biol Sci. 2013;9(5):480.\n",
      "\n",
      "1754 -- Wound Repair Regen. 2009; 17(2) \n",
      "\tConnexin mimetic peptides improve cell migration rates of human epidermal keratinocytes and dermal fibroblasts in vitro.\n",
      "\tErratum in Wound Repair Regen. 2009 Jul-Aug;17(4):629.\n",
      "\n",
      "1830 -- Exp Ther Med. 2017; 14(4) \n",
      "\tNuclear factor-κB signaling negatively regulates high glucose-induced vascular endothelial cell damage downstream of the extracellular signal-regulated kinase/c-Jun N-terminal kinase pathway.\n",
      "\tErratum in Exp Ther Med. 2018 Jan;15(1):606.\n",
      "\n",
      "1874 -- Age (Dordr). 2012; 34(6) \n",
      "\tEffect of calorie restriction and refeeding on skin wound healing in the rat.\n",
      "\tErratum in Age (Dordr). 2012 Dec;34(6):1563. Miller, Marshall [added].\n",
      "\n",
      "1979 -- PLoS One. 2014; 9(4) \n",
      "\tConditioned medium from hypoxic bone marrow-derived mesenchymal stem cells enhances wound healing in mice.\n",
      "\tErratum in PLoS One. 2015;10(12):e0145565.\n",
      "\n",
      "1983 -- J Leukoc Biol. 2006; 80(3) \n",
      "\tActivation of sterol regulatory element-binding proteins (SREBPs) is critical in IL-8-induced angiogenesis.\n",
      "\tErratum in J Leukoc Biol. 2006 Dec;80(6):1593-4. J Leukoc Biol. 2006 Dec;80(6):1593a.\n",
      "\n",
      "2042 -- Drug Deliv Transl Res. 2018; 8(5) \n",
      "\tComparison of healing of full-thickness skin wounds grafted with multidirectional or unidirectional autologous artificial dermis: differential delivery of healing biomarkers.\n",
      "\tErratum in Drug Deliv Transl Res. 2018 Sep 5;:\n",
      "\n",
      "2128 -- Biomed Mater. 2020; 15(6) \n",
      "\tIn vitro and in vivo testing of nanofibrous membranes doped with alaptide and L-arginine for wound treatment.\n",
      "\tErratum in Biomed Mater. 2023 Oct 03;18(6):\n",
      "\n",
      "2167 -- J Invest Dermatol. 2013; 133(1) \n",
      "\tToll-like receptor 4 has an essential role in early skin wound healing.\n",
      "\tErratum in J Invest Dermatol. 2014 Feb;134(2):583.\n",
      "\n",
      "2214 -- Mol Cell Biol. 2008; 28(10) \n",
      "\tTransforming growth factor alpha (TGFalpha)-stimulated secretion of HSP90alpha: using the receptor LRP-1/CD91 to promote human skin cell migration against a TGFbeta-rich environment during wound healing.\n",
      "\tErratum in Mol Cell Biol. 2012 Jan;32(1):240.\n",
      "\n",
      "2274 -- Cytotherapy. 2023; 25(7) \n",
      "\tABCB5(+) mesenchymal stromal cells facilitate complete and durable wound closure in recessive dystrophic epidermolysis bullosa.\n",
      "\tErratum in Cytotherapy. 2023 Sep;25(9):1016.\n",
      "\n",
      "2284 -- BMC Complement Med Ther. 2023; 23(1) \n",
      "\tA novel therapeutic effect of mannitol-rich extract from the brown seaweed Sargassum ilicifolium using in vitro and in vivo models.\n",
      "\tErratum in BMC Complement Med Ther. 2023 Feb 15;23(1):50.\n",
      "\n",
      "2292 -- PLoS One. 2014; 9(6) \n",
      "\tFibromodulin-deficiency alters temporospatial expression patterns of transforming growth factor-β ligands and receptors during adult mouse skin wound healing.\n",
      "\tErratum in PLoS One. 2021 Jan 29;16(1):e0246557.\n",
      "\n",
      "[340, 363, 384, 397, 415, 447, 601, 710]\n"
     ]
    }
   ],
   "source": [
    "to_remove = []\n",
    "for i, article in enumerate( articles ):\n",
    "    if article['erratum']:\n",
    "        print( f\"{i} -- {article['journal']}. {article['year']}; {article['volume']} \" \n",
    "               f\"\\n\\t{article['title']}\\n\\t{article['erratum']}\\n\")\n",
    "        if article['erratum'][:12] == 'Erratum for ':\n",
    "            to_remove.append(i)\n",
    "            print(to_remove)\n",
    "\n",
    "print(to_remove)"
   ]
  },
  {
   "cell_type": "code",
   "execution_count": 19,
   "id": "1ef30ed6",
   "metadata": {
    "ExecuteTime": {
     "end_time": "2024-01-08T23:06:59.274245Z",
     "start_time": "2024-01-08T23:06:59.246185Z"
    }
   },
   "outputs": [
    {
     "name": "stdout",
     "output_type": "stream",
     "text": [
      "2300\n"
     ]
    }
   ],
   "source": [
    "for i in reversed(to_remove):\n",
    "    articles.pop(i)\n",
    "\n",
    "print(len(articles))"
   ]
  },
  {
   "cell_type": "markdown",
   "id": "61c71fee",
   "metadata": {},
   "source": [
    "## Dealing with *Comments* is complicated\n",
    "\n",
    "Some *Comments* are perspectives aiming to publicize the target paper (like News & Views in Nature). These are published in the same issue by different authors.\n",
    "\n",
    "We remove the actual *Comment* (if available) from the set of publications to analyze. We adjust `comment` key of target paper to convey this positive information. \n",
    "\n",
    "Some *Comments* appear to be summaries of the target papers. They are published in a different journal by a subset of the original authors.\n",
    "\n",
    "We remove the actual *Comment* (if available) from the set of publications to analyze. We adjust `comment` key of target paper to convey this information. \n",
    "\n",
    "Some *Comments* appear to be actual criticisms of the target papers. They are published in the same journal as the target bu later than the target and are authored by different researchers.\n",
    "\n",
    "We remove the actual *Comment* (if available) from the set of publications to analyze. We adjust `comment` key of target paper to convey this negative information.  "
   ]
  },
  {
   "cell_type": "code",
   "execution_count": 20,
   "id": "fac578e9",
   "metadata": {
    "ExecuteTime": {
     "end_time": "2024-01-08T23:07:03.622537Z",
     "start_time": "2024-01-08T23:07:03.590677Z"
    },
    "code_folding": [
     0
    ],
    "scrolled": false
   },
   "outputs": [
    {
     "name": "stdout",
     "output_type": "stream",
     "text": [
      "\n",
      " 126 Focus:  Chimerism 2012  Apr-Jun 3(2) 45-7 10.4161/chim.20739\n",
      "-- Comment on Nassar D, Droitcourt C, Mathieu-d’Argent E, Kim MJ, Khosrotehrani K, Aractingi S. Fetal progenitor cells naturally transferred through pregnancy participate in inflammation and angiogenesis during wound healing. FASEB J. 2012;26:149–57. doi: 10.1096/fj.11-180695.\n",
      "---> Article 126 is a commentary and is to be removed\n",
      "\n",
      " 257 Focus:  Blood 2012  Jul 19 120(3) 499-500 10.1182/blood-2012-05-430660\n",
      "-- Comment on Blood. 2012 Jul 19;120(3):613-25.\n",
      "===>> Blood\n",
      "===>> 2012 2012\n",
      "===>> 120(3) 120(3)\n",
      "--->  Jul 19  Jul 19\n",
      "--->  Jul 19\n",
      "---> 499 613\n",
      "---> Article 257 is a commentary and is to be removed\n",
      "\n",
      " 287 Focus:  Mil Med Res 2023  Nov 30 10(1) 60 10.1186/s40779-023-00498-0\n",
      "-- Comment on Mil Med Res. 2023 Aug 17;10(1):36.\n",
      "===>> Mil Med Res\n",
      "===>> 2023 2023\n",
      "===>> 10(1) 10(1)\n",
      "--->  Nov 30  Aug 17\n",
      "---> Article 287 is a comment and is to be removed\n",
      "\n",
      " 298 Focus:  Aesthetic Plast Surg 2023  Jun 47(Suppl 1) 146-147 10.1007/s00266-022-03110-3\n",
      "-- Comment on Aesthetic Plast Surg. 2021 Oct;45(5):2437-2446.\n",
      "===>> Aesthetic Plast Surg\n",
      "===>> 2023 2021\n",
      "---> Article 298 is a comment and is to be removed\n",
      "\n",
      " 328 Focus:  J Invest Dermatol 2014  Jul 134(7) 1802-1804 10.1038/jid.2014.142\n",
      "-- Comment on J Invest Dermatol. 2014 Jul;134(7):2005-15.\n",
      "===>> J Invest Dermatol\n",
      "===>> 2014 2014\n",
      "===>> 134(7) 134(7)\n",
      "--->  Jul  Jul\n",
      "--->  Jul\n",
      "---> 1802 2005\n",
      "---> Article 328 is a commentary and is to be removed\n",
      "\n",
      " 382 Focus:  Worm 2012  Apr 1 1(2) 134-8 10.4161/worm.19501\n",
      "-- Comment on Xu S, Chisholm AD. A Gαq-Ca2+ signaling pathway promotes actin-mediated epidermal wound closure in C. elegans. Curr Biol. 2011;21:1960–7. doi: 10.1016/j.cub.2011.10.050.\n",
      "---> Article 382 is a commentary and is to be removed\n",
      "\n",
      " 386 Focus:  Aesthetic Plast Surg 2022  Feb 46(1) 583 10.1007/s00266-021-02332-1\n",
      "-- Comment on Aesthetic Plast Surg. 2021 Oct;45(5):2437-2446. Aesthetic Plast Surg. 2022 Feb;46(1):581-582.\n",
      "===>> Aesthetic Plast Surg\n",
      "===>> 2022 2021\n",
      "---> Article 386 is a comment and is to be removed\n",
      "\n",
      " 429 Focus:  Exp Dermatol 2015  Feb 24(2) 99-100 10.1111/exd.12611\n",
      "-- Comment on Br J Cancer. 1972 Aug;26(4):239-57.\n",
      "---> Article 429 is a commentary and is to be removed\n",
      "\n",
      " 464 Focus:  Nat Med 2001  Mar 7(3) 324-30 10.1038/85471\n",
      "-- Comment in Nat Med. 2001 Mar;7(3):290-2.\n",
      "===>> Nat Med\n",
      "===>> 2001 2001\n",
      "===>> 7(3) 7(3)\n",
      "--->  Mar  Mar\n",
      "--->  Mar\n",
      "---> 324 290\n",
      "---> Received highlight article\n",
      "\n",
      "\n",
      " 475 Focus:  Cell Stem Cell 2019  Feb 7 24(2) 240-256 10.1016/j.stem.2018.10.024\n",
      "-- Comment in Cell Stem Cell. 2019 Feb 7;24(2):195-197.\n",
      "===>> Cell Stem Cell\n",
      "===>> 2019 2019\n",
      "===>> 24(2) 24(2)\n",
      "--->  Feb 7  Feb 7\n",
      "--->  Feb 7\n",
      "---> 240 195\n",
      "---> Received highlight article\n",
      "\n",
      "\n",
      " 495 Focus:  Aesthetic Plast Surg 2022  Feb 46(1) 581-582 10.1007/s00266-021-02320-5\n",
      "-- Comment in Aesthetic Plast Surg. 2022 Feb;46(1):583. Comment on Aesthetic Plast Surg. 2021 Oct;45(5):2437-2446.\n",
      "===>> Aesthetic Plast Surg\n",
      "===>> 2022 2022\n",
      "===>> 46(1) 46(1)\n",
      "--->  Feb  Feb\n",
      "--->  Feb\n",
      "---> 581 583\n",
      "---> Article 495 is a commentary and is to be removed\n",
      "\n",
      " 553 Focus:  J Plast Reconstr Aesthet Surg 2017  Aug 70(8) 1083-1090 10.1016/j.bjps.2017.05.033\n",
      "-- Comment in J Plast Reconstr Aesthet Surg. 2018 May;71(5):772-773.\n",
      "===>> J Plast Reconstr Aesthet Surg\n",
      "===>> 2017 2018\n",
      "---> Received comment\n",
      "\n",
      "\n",
      " 622 Focus:  J Invest Dermatol 2014  Jul 134(7) 2005-2015 10.1038/jid.2014.12\n",
      "-- Comment in J Invest Dermatol. 2014 Jul;134(7):1802-4.\n",
      "===>> J Invest Dermatol\n",
      "===>> 2014 2014\n",
      "===>> 134(7) 134(7)\n",
      "--->  Jul  Jul\n",
      "--->  Jul\n",
      "---> 2005 1802\n",
      "---> Received highlight article\n",
      "\n",
      "\n",
      " 661 Focus:  Exp Dermatol 2013  Aug 22(8) 515-6 10.1111/exd.12194\n",
      "-- Comment on Exp Dermatol. 2013 May;22(5):307-10.\n",
      "===>> Exp Dermatol\n",
      "===>> 2013 2013\n",
      "===>> 22(8) 22(5)\n",
      "---> Article 661 is a comment and is to be removed\n",
      "\n",
      " 727 Focus:  J Invest Dermatol 2009  Jan 129(1) 194-204 10.1038/jid.2008.171\n",
      "-- Comment in J Invest Dermatol. 2009 Jan;129(1):7-9.\n",
      "===>> J Invest Dermatol\n",
      "===>> 2009 2009\n",
      "===>> 129(1) 129(1)\n",
      "--->  Jan  Jan\n",
      "--->  Jan\n",
      "---> 194 7\n",
      "---> Received highlight article\n",
      "\n",
      "\n",
      " 899 Focus:  Intern Med 2005  Mar 44(3) 261-5 10.2169/internalmedicine.44.261\n",
      "-- Comment in Intern Med. 2005 Mar;44(3):177-8.\n",
      "===>> Intern Med\n",
      "===>> 2005 2005\n",
      "===>> 44(3) 44(3)\n",
      "--->  Mar  Mar\n",
      "--->  Mar\n",
      "---> 261 177\n",
      "---> Received highlight article\n",
      "\n",
      "\n",
      " 951 Focus:  J Invest Dermatol 2011  Feb 131(2) 518-28 10.1038/jid.2010.291\n",
      "-- Comment in J Invest Dermatol. 2011 Feb;131(2):278. J Invest Dermatol. 2011 Feb;131(2):292-4.\n",
      "===>> J Invest Dermatol\n",
      "===>> 2011 2011\n",
      "===>> 131(2) 131(2)\n",
      "--->  Feb  Feb\n",
      "--->  Feb\n",
      "---> 518 278\n",
      "---> Received highlight article\n",
      "\n",
      "\n",
      " 966 Focus:  Exp Dermatol 2013  May 22(5) 307-10 10.1111/exd.12141\n",
      "-- Comment in Exp Dermatol. 2013 Aug;22(8):515-6.\n",
      "===>> Exp Dermatol\n",
      "===>> 2013 2013\n",
      "===>> 22(5) 22(8)\n",
      "---> Received comment\n",
      "\n",
      "\n",
      " 1022 Focus:  Aesthet Surg J 2023  Oct 13 43(11) NP910-NP915 10.1093/asj/sjad178\n",
      "-- Comment in Aesthet Surg J. 2023 Jun 21;:\n",
      "===>> Aesthet Surg J\n",
      "===>> 2023 2023\n",
      "===>> 43(11) \n",
      "---> Article 1022 is a comment and is to be removed\n",
      "\n",
      " 1117 Focus:  J Invest Dermatol 2013  Nov 133(11) 2505-2508 10.1038/jid.2013.271\n",
      "-- Comment on J Invest Dermatol. 2013 Nov;133(11):2530-7.\n",
      "===>> J Invest Dermatol\n",
      "===>> 2013 2013\n",
      "===>> 133(11) 133(11)\n",
      "--->  Nov  Nov\n",
      "--->  Nov\n",
      "---> 2505 2530\n",
      "---> Article 1117 is a commentary and is to be removed\n",
      "\n",
      " 1296 Focus:  EMBO Mol Med 2018  Oct 10(10) e9024 10.15252/emmm.201809024\n",
      "-- Comment in EMBO Mol Med. 2018 Oct;10(10):\n",
      "===>> EMBO Mol Med\n",
      "===>> 2018 2018\n",
      "===>> 10(10) 10(10)\n",
      "--->  Oct  Oct\n",
      "--->  Oct\n",
      "---> e9024 \n",
      "---> Received highlight article\n",
      "\n",
      "\n",
      " 1322 Focus:  Dev Cell 2014  Oct 13 31(1) 48-60 10.1016/j.devcel.2014.08.002\n",
      "-- Comment in Dev Cell. 2014 Oct 13;31(1):5-6.\n",
      "===>> Dev Cell\n",
      "===>> 2014 2014\n",
      "===>> 31(1) 31(1)\n",
      "--->  Oct 13  Oct 13\n",
      "--->  Oct 13\n",
      "---> 48 5\n",
      "---> Received highlight article\n",
      "\n",
      "\n",
      " 1502 Focus:  J Invest Dermatol 2008  Jun 128(6) 1565-75 10.1038/sj.jid.5701217\n",
      "-- Comment in J Invest Dermatol. 2008 Jun;128(6):1360-2.\n",
      "===>> J Invest Dermatol\n",
      "===>> 2008 2008\n",
      "===>> 128(6) 128(6)\n",
      "--->  Jun  Jun\n",
      "--->  Jun\n",
      "---> 1565 1360\n",
      "---> Received highlight article\n",
      "\n",
      "\n",
      " 1596 Focus:  J Invest Dermatol 2019  May 139(5) 1171-1181 10.1016/j.jid.2019.01.005\n",
      "-- Comment in J Invest Dermatol. 2019 May;139(5):997-999.\n",
      "===>> J Invest Dermatol\n",
      "===>> 2019 2019\n",
      "===>> 139(5) 139(5)\n",
      "--->  May  May\n",
      "--->  May\n",
      "---> 1171 997\n",
      "---> Received highlight article\n",
      "\n",
      "\n",
      " 1752 Focus:  Cardiovasc Res 2004  Dec 1 64(3) 421-30 10.1016/j.cardiores.2004.07.012\n",
      "-- Comment in Cardiovasc Res. 2004 Dec 1;64(3):377-8.\n",
      "===>> Cardiovasc Res\n",
      "===>> 2004 2004\n",
      "===>> 64(3) 64(3)\n",
      "--->  Dec 1  Dec 1\n",
      "--->  Dec 1\n",
      "---> 421 377\n",
      "---> Received highlight article\n",
      "\n",
      "\n",
      " 1756 Focus:  Nat Chem Biol 2021  Mar 17(3) 280-290 10.1038/s41589-020-00716-z\n",
      "-- Comment in Nat Chem Biol. 2021 Mar;17(3):233-235.\n",
      "===>> Nat Chem Biol\n",
      "===>> 2021 2021\n",
      "===>> 17(3) 17(3)\n",
      "--->  Mar  Mar\n",
      "--->  Mar\n",
      "---> 280 233\n",
      "---> Received highlight article\n",
      "\n",
      "\n",
      " 1888 Focus:  Aesthetic Plast Surg 2021  Oct 45(5) 2437-2446 10.1007/s00266-021-02254-y\n",
      "-- Comment in Aesthetic Plast Surg. 2022 Feb;46(1):581-582. Aesthetic Plast Surg. 2022 Feb;46(1):583. Aesthetic Plast Surg. 2023 Jun;47(Suppl 1):146-147.\n",
      "===>> Aesthetic Plast Surg\n",
      "===>> 2021 2022\n",
      "---> Received comment\n",
      "\n",
      "\n",
      " 2049 Focus:  Burns 2021  Feb 47(1) 133-139 10.1016/j.burns.2020.10.016\n",
      "-- Comment in Burns. 2021 Jun;47(4):972-973. Burns. 2021 Jun;47(4):973-974.\n",
      "===>> Burns\n",
      "===>> 2021 2021\n",
      "===>> 47(1) 47(4)\n",
      "---> Received comment\n",
      "\n",
      "\n",
      " 2209 Focus:  Cell Host Microbe 2021  May 12 29(5) 777-791 10.1016/j.chom.2021.03.003\n",
      "-- Comment in Cell Host Microbe. 2021 May 12;29(5):742-744.\n",
      "===>> Cell Host Microbe\n",
      "===>> 2021 2021\n",
      "===>> 29(5) 29(5)\n",
      "--->  May 12  May 12\n",
      "--->  May 12\n",
      "---> 777 742\n",
      "---> Received highlight article\n",
      "\n",
      "\n",
      " 2223 Focus:  J Exp Med 2014  Jun 2 211(6) 1063-78 10.1084/jem.20132063\n",
      "-- Comment in J Exp Med. 2014 Jun 2;211(6):1008.\n",
      "===>> J Exp Med\n",
      "===>> 2014 2014\n",
      "===>> 211(6) 211(6)\n",
      "--->  Jun 2  Jun 2\n",
      "--->  Jun 2\n",
      "---> 1063 1008\n",
      "---> Received highlight article\n",
      "\n",
      "\n",
      " 2224 Focus:  Immunity 2012  Aug 24 37(2) 314-25 10.1016/j.immuni.2012.05.026\n",
      "-- Comment in Immunity. 2012 Aug 24;37(2):194-6.\n",
      "===>> Immunity\n",
      "===>> 2012 2012\n",
      "===>> 37(2) 37(2)\n",
      "--->  Aug 24  Aug 24\n",
      "--->  Aug 24\n",
      "---> 314 194\n",
      "---> Received highlight article\n",
      "\n",
      "\n",
      " 2246 Focus:  Mil Med Res 2023  Aug 17 10(1) 36 10.1186/s40779-023-00472-w\n",
      "-- Comment in Mil Med Res. 2023 Nov 30;10(1):60.\n",
      "===>> Mil Med Res\n",
      "===>> 2023 2023\n",
      "===>> 10(1) 10(1)\n",
      "--->  Aug 17  Nov 30\n",
      "---> Received comment\n",
      "\n",
      "\n",
      " 2262 Focus:  Science 2018  Nov 23 362(6417) eaar2971 10.1126/science.aar2971\n",
      "-- Comment in Science. 2018 Nov 23;362(6417):891-892.\n",
      "===>> Science\n",
      "===>> 2018 2018\n",
      "===>> 362(6417) 362(6417)\n",
      "--->  Nov 23  Nov 23\n",
      "--->  Nov 23\n",
      "---> eaar2971 891\n",
      "---> Received highlight article\n",
      "\n",
      "[126, 257, 287, 298, 328, 382, 386, 429, 495, 661, 1022, 1117]\n"
     ]
    }
   ],
   "source": [
    "to_remove = []\n",
    "for i, article in enumerate( articles ):\n",
    "    if article['comment']:\n",
    "        print('\\n', i, 'Focus: ', article['journal'], article['year'], \n",
    "              article['date'], article['volume'],  \n",
    "              article['pages'], article['doi'])\n",
    "        print('--', article['comment'])\n",
    "        \n",
    "        # Extract info about paper discussed in comment\n",
    "        target = {}\n",
    "        aux = article['comment'].split(';')[0]\n",
    "        aux = aux.split('.')\n",
    "        date_string =  aux[-1].strip()\n",
    "        target['year'] = int( date_string[:4] )\n",
    "        target['date'] = date_string[4:]\n",
    "        target['journal'] = aux[-2].strip()\n",
    "        \n",
    "        aux = article['comment'].split(';')[1]\n",
    "        aux = aux.split(':')\n",
    "        target['volume'] = aux[0]\n",
    "        target['pages'] = aux[1].split('.')[0]\n",
    "        \n",
    "        if len(aux) > 2:\n",
    "            target['doi'] = aux[2].split()[0].strip('.')\n",
    "        else:\n",
    "            target['doi'] = None\n",
    "          \n",
    "        # Extract dates of publication\n",
    "        date_focus = extract_publication_date(article)\n",
    "        date_target = extract_publication_date(target)\n",
    "        \n",
    "        # Determine type of comment\n",
    "        #\n",
    "        # Same journal\n",
    "        if ( article['journal'] == \n",
    "             target['journal'].lstrip('Coment').strip().lstrip('ion').strip() ):\n",
    "            print('===>>', article['journal'])\n",
    "            print('===>>', article['year'], target['year'])\n",
    "            \n",
    "            # Same year \n",
    "            if article['year'] == target['year']:\n",
    "                print('===>>', article['volume'], target['volume'])\n",
    "            \n",
    "                # Same volume\n",
    "                if target['volume'] and article['volume'] == target['volume']:\n",
    "                    print('--->', article['date'], target['date'])\n",
    "                    \n",
    "                    # Same date\n",
    "                    if article['date'] == target['date']:\n",
    "                        print('--->', article['date'])\n",
    "\n",
    "                        if '-' in article['pages']:\n",
    "                            focus_pages = article['pages'].split('-')[0]\n",
    "                            if focus_pages.isnumeric():\n",
    "                                focus_pages = int(focus_pages)\n",
    "                        else:\n",
    "                            focus_pages = article['pages']\n",
    "                            \n",
    "                        if '-' in target['pages']:\n",
    "                            target_pages = target['pages'].split('-')[0]\n",
    "                            if target_pages.isnumeric():\n",
    "                                target_pages = int(target_pages)\n",
    "                        else:\n",
    "                            target_pages = target['pages']\n",
    "                            \n",
    "                        if type(target_pages) != type(focus_pages):\n",
    "                            target_pages = str(target_pages)\n",
    "                            focus_pages = str(focus_pages)\n",
    "\n",
    "                        print('--->', focus_pages, target_pages)\n",
    "                        \n",
    "                        # Same date, earlier pages\n",
    "                        if focus_pages < target_pages:\n",
    "                            to_remove.append(i)\n",
    "                            print(f\"---> Article {i} is a commentary and is to be removed\")\n",
    "\n",
    "                        # Same date, later pages\n",
    "                        else:\n",
    "                            article['comment'] = ('Received highlight article! ' \n",
    "                                                  + article['comment'])\n",
    "                            print('---> Received highlight article\\n')\n",
    "\n",
    "                    # Same volume, later time\n",
    "                    elif article['date'] > target['date']:\n",
    "                        to_remove.append(i)\n",
    "                        print(f\"---> Article {i} is a comment and is to be removed\")\n",
    "\n",
    "                    # Same volume, earlier time\n",
    "                    elif article['date'] < target['date']:\n",
    "                        article['comment'] = 'Received comment! ' + article['comment']\n",
    "                        print('---> Received comment\\n')\n",
    "\n",
    "                # Same year, volumes that exist, later volume\n",
    "                elif target['volume'] and article['volume'] > target['volume']:\n",
    "                    to_remove.append(i)\n",
    "                    print(f\"---> Article {i} is a comment and is to be removed\")\n",
    "                \n",
    "                # Same year, volumes that exist, earlier volume\n",
    "                elif target['volume'] and article['volume'] < target['volume']:\n",
    "                    article['comment'] = 'Received comment! ' + article['comment']\n",
    "                    print('---> Received comment\\n')\n",
    "\n",
    "                # Same journal, same year, missing volumes \n",
    "                else:\n",
    "                    # Same journal, same year, missing volumes, same date\n",
    "                    if article['date'] == target['date']:\n",
    "                        print('--->', article['date'])\n",
    "\n",
    "                        if '-' in article['pages']:\n",
    "                            focus_pages = article['pages'].split('-')[0]\n",
    "                            if focus_pages.isnumeric():\n",
    "                                focus_pages = int(focus_pages)\n",
    "                        if '-' in target['pages']:\n",
    "                            target_pages = target['pages'].split('-')[0]\n",
    "                            if target_pages.isnumeric():\n",
    "                                target_pages = int(target_pages)\n",
    "\n",
    "                        print('--->', focus_pages, target_pages)\n",
    "\n",
    "                        # Same journal, same year, missing volumes, same date, earlier pages\n",
    "                        if focus_pages < target_pages:\n",
    "                            to_remove.append(i)\n",
    "                            print(f\"---> Article {i} is a commentary and is to be removed\")\n",
    "\n",
    "                        # Same journal, same year, missing volumes, same date, earlier pages\n",
    "                        else:\n",
    "                            article['comment'] = ('Received highlight article! ' \n",
    "                                                  + article['comment'])\n",
    "                            print('---> Received highlight article\\n')\n",
    "        \n",
    "                    # Same journal, same year, missing volumes, later time\n",
    "                    elif article['date'] > target['date']:\n",
    "                        to_remove.append(i)\n",
    "                        print(f\"---> Article {i} is a comment and is to be removed\")\n",
    "\n",
    "                    # Same journal, same year, missing volumes, earlier time\n",
    "                    elif article['date'] < target['date']:\n",
    "                        article['comment'] = 'Received comment! ' + article['comment']\n",
    "                        print('---> Received comment\\n')\n",
    "        \n",
    "            # Same journal, later year \n",
    "            elif article['year'] > target['year']:\n",
    "                to_remove.append(i)\n",
    "                print(f\"---> Article {i} is a comment and is to be removed\")\n",
    "\n",
    "            # Same journal, earlier year\n",
    "            elif article['year'] < target['year']:\n",
    "                article['comment'] = 'Received comment! ' + article['comment']\n",
    "                print('---> Received comment\\n')\n",
    "\n",
    "\n",
    "        # Different journals, later year\n",
    "        elif article['year'] > target['year']:\n",
    "            to_remove.append(i)\n",
    "            print(f\"---> Article {i} is a commentary and is to be removed\")\n",
    "\n",
    "        # Different journals, earlier year\n",
    "        elif article['year'] < target['year']: \n",
    "            article['comment'] = 'Received commentary! ' + article['comment']\n",
    "            print('---> Received commentary\\n')\n",
    "\n",
    "        # Different journals, same year\n",
    "        else:\n",
    "            if date_focus > date_target:\n",
    "                to_remove.append(i)\n",
    "                print(f\"---> Article {i} is a commentary and is to be removed\")\n",
    "            \n",
    "            elif date_focus < date_target:\n",
    "                article['comment'] = 'Received commentary! ' + article['comment']\n",
    "                print('---> Received commentary\\n')\n",
    "            else:\n",
    "                print('FUCK!!!')\n",
    "\n",
    "print(to_remove)"
   ]
  },
  {
   "cell_type": "code",
   "execution_count": 21,
   "id": "e90db248",
   "metadata": {
    "ExecuteTime": {
     "end_time": "2024-01-08T23:07:11.516319Z",
     "start_time": "2024-01-08T23:07:11.487372Z"
    }
   },
   "outputs": [
    {
     "name": "stdout",
     "output_type": "stream",
     "text": [
      "2288\n"
     ]
    }
   ],
   "source": [
    "for i in reversed(to_remove):\n",
    "    articles.pop(i)\n",
    "\n",
    "print(len(articles))"
   ]
  },
  {
   "cell_type": "markdown",
   "id": "3c9c7ddf",
   "metadata": {},
   "source": [
    "## Create collections"
   ]
  },
  {
   "cell_type": "code",
   "execution_count": 22,
   "id": "a0767a75",
   "metadata": {
    "ExecuteTime": {
     "end_time": "2024-01-08T23:07:18.666122Z",
     "start_time": "2024-01-08T23:07:18.636802Z"
    }
   },
   "outputs": [],
   "source": [
    "pattern1 = 'review'\n",
    "pattern2 = 'reviewed'\n",
    "\n",
    "\n",
    "erratum_articles = []\n",
    "comment_articles = []\n",
    "review_articles = []\n",
    "no_abstract_articles = []\n",
    "\n",
    "for article in articles:\n",
    "    if not article['retraction']:\n",
    "        if article['erratum']:\n",
    "            erratum_articles.append(article)\n",
    "            continue\n",
    "            \n",
    "        if article['comment'] and 'Received comment! ' == article['comment'][:18]:\n",
    "            comment_articles.append(article)\n",
    "            continue\n",
    "\n",
    "        if not article['abstract']:\n",
    "            no_abstract_articles.append(article)\n",
    "        else:\n",
    "            if pattern1 in article['abstract'] or pattern2 in article['abstract']:\n",
    "                review_articles.append(article)\n"
   ]
  },
  {
   "cell_type": "code",
   "execution_count": 23,
   "id": "95804a42",
   "metadata": {
    "ExecuteTime": {
     "end_time": "2024-01-08T23:07:25.653107Z",
     "start_time": "2024-01-08T23:07:25.619386Z"
    }
   },
   "outputs": [
    {
     "name": "stdout",
     "output_type": "stream",
     "text": [
      "2288\n",
      "12\n",
      "41\n",
      "5\n",
      "14\n",
      "279\n"
     ]
    }
   ],
   "source": [
    "print(len(articles))\n",
    "print(len(retracted_articles))\n",
    "print(len(erratum_articles))\n",
    "print(len(comment_articles))\n",
    "print(len(no_abstract_articles))\n",
    "print(len(review_articles))"
   ]
  },
  {
   "cell_type": "markdown",
   "id": "e60ea259",
   "metadata": {},
   "source": [
    "# Save to file"
   ]
  },
  {
   "cell_type": "code",
   "execution_count": 24,
   "id": "04daabe3",
   "metadata": {
    "ExecuteTime": {
     "end_time": "2024-01-08T23:07:30.489532Z",
     "start_time": "2024-01-08T23:07:30.431359Z"
    }
   },
   "outputs": [
    {
     "name": "stdout",
     "output_type": "stream",
     "text": [
      "Done saving file!\n"
     ]
    }
   ],
   "source": [
    "with open(Path.cwd() / 'articles_clean.json', 'w', encoding = 'utf-8') as f_json:\n",
    "    json.dump(articles, f_json)\n",
    "    \n",
    "print('Done saving file!')"
   ]
  },
  {
   "cell_type": "code",
   "execution_count": null,
   "id": "c66e6d51",
   "metadata": {},
   "outputs": [],
   "source": []
  }
 ],
 "metadata": {
  "kernelspec": {
   "display_name": "Python [conda env:new_base] *",
   "language": "python",
   "name": "conda-env-new_base-py"
  },
  "language_info": {
   "codemirror_mode": {
    "name": "ipython",
    "version": 3
   },
   "file_extension": ".py",
   "mimetype": "text/x-python",
   "name": "python",
   "nbconvert_exporter": "python",
   "pygments_lexer": "ipython3",
   "version": "3.11.4"
  },
  "toc": {
   "base_numbering": 1,
   "nav_menu": {},
   "number_sections": true,
   "sideBar": true,
   "skip_h1_title": false,
   "title_cell": "Table of Contents",
   "title_sidebar": "Contents",
   "toc_cell": false,
   "toc_position": {
    "height": "calc(100% - 180px)",
    "left": "10px",
    "top": "150px",
    "width": "200.6px"
   },
   "toc_section_display": true,
   "toc_window_display": true
  },
  "varInspector": {
   "cols": {
    "lenName": 16,
    "lenType": 16,
    "lenVar": 40
   },
   "kernels_config": {
    "python": {
     "delete_cmd_postfix": "",
     "delete_cmd_prefix": "del ",
     "library": "var_list.py",
     "varRefreshCmd": "print(var_dic_list())"
    },
    "r": {
     "delete_cmd_postfix": ") ",
     "delete_cmd_prefix": "rm(",
     "library": "var_list.r",
     "varRefreshCmd": "cat(var_dic_list()) "
    }
   },
   "types_to_exclude": [
    "module",
    "function",
    "builtin_function_or_method",
    "instance",
    "_Feature"
   ],
   "window_display": false
  }
 },
 "nbformat": 4,
 "nbformat_minor": 5
}
