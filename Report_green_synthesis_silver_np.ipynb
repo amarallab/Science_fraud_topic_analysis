{
 "cells": [
  {
   "cell_type": "code",
   "execution_count": 2,
   "id": "18f097a4",
   "metadata": {
    "ExecuteTime": {
     "end_time": "2024-02-19T22:27:35.485598Z",
     "start_time": "2024-02-19T22:27:35.482100Z"
    }
   },
   "outputs": [],
   "source": [
    "from pathlib import Path"
   ]
  },
  {
   "cell_type": "markdown",
   "id": "06b3203e",
   "metadata": {},
   "source": [
    "# General trend\n",
    "\n",
    "The literature on **green synthesis of silver nanoparticles** shows some concerning trends. The fraction of articles that are classified as reviews shows a broad peak from 2005 to 2015 that somewhat hides a steadily increasing trend. Of greater concern, the fraction of articles retracted has shows a peak but in the 2010 to 2015 period. Probably related to these two peaks, there is a peak in the fraction of studies with published between 2015 and 2015. \n",
    "\n",
    "<img src = './Case_green_synthesis_silver_np/time_series.png' width = '800'>"
   ]
  },
  {
   "cell_type": "markdown",
   "id": "95db81b8",
   "metadata": {},
   "source": [
    "# Publisher trends\n",
    "\n",
    "## List of publishers"
   ]
  },
  {
   "cell_type": "code",
   "execution_count": 6,
   "id": "621a82b0",
   "metadata": {
    "ExecuteTime": {
     "end_time": "2024-02-20T18:10:42.096182Z",
     "start_time": "2024-02-20T18:10:42.084255Z"
    }
   },
   "outputs": [
    {
     "name": "stdout",
     "output_type": "stream",
     "text": [
      "np/Publishers/time_series_American Chemical Society.png\n",
      "np/Publishers/time_series_Elsevier.png\n",
      "np/Publishers/time_series_Hindawi.png\n",
      "np/Publishers/time_series_MDPI.png\n",
      "np/Publishers/time_series_Royal Society of Chemistry.png\n",
      "np/Publishers/time_series_Springer Nature.png\n",
      "np/Publishers/time_series_Taylor & Francis.png\n",
      "np/Publishers/time_series_Wiley.png\n"
     ]
    }
   ],
   "source": [
    "folder = Path.cwd() / 'Case_green_synthesis_silver_np' / 'Publishers'\n",
    "files = list( folder.glob('*.png') )\n",
    "\n",
    "for file in sorted( files ):\n",
    "    print(str(file)[90:])"
   ]
  },
  {
   "cell_type": "markdown",
   "id": "afd2832a",
   "metadata": {},
   "source": [
    "## American Chemical Society\n",
    "\n",
    "It has been rapidly increasing the number of studies it publishes on green synthesis of silver nanoparticles. It publishes a moderate fraction of reviews.  No retractions and a small fraction of studies had errata published. \n",
    "\n",
    "<img src = 'Case_green_synthesis_silver_np/Publishers/time_series_American Chemical Society.png' width = '800'>"
   ]
  },
  {
   "cell_type": "markdown",
   "id": "607e7df2",
   "metadata": {},
   "source": [
    "## Wiley\n",
    "\n",
    "It has been rapidly increasing the number of studies it publishes on green synthesis of silver np. It publishes an steadily increasing fraction of reviews. No studies have been retracted. The number of studies with published errata has been decreasing steadily.\n",
    "\n",
    "<img src = 'Case_green_synthesis_silver_np/Publishers/time_series_Wiley.png' width = '800'>"
   ]
  },
  {
   "cell_type": "markdown",
   "id": "c2f2418b",
   "metadata": {},
   "source": [
    "## Springer Nature\n",
    "\n",
    "It has been rapidly increasing the number of studies it publishes on green synthesis of silver nanoparticles. It publishes a moderate fraction of reviews. Around 2015, there was a peak on retractions coinciding with a simular peak in publications. A very high fraction of studies published prior to 2015 had errata published. \n",
    "\n",
    "<img src = 'Case_green_synthesis_silver_np/Publishers/time_series_Springer Nature.png' width = '800'>"
   ]
  },
  {
   "cell_type": "markdown",
   "id": "36c16247",
   "metadata": {},
   "source": [
    "## Taylor & Francis\n",
    "\n",
    "It has a rapidly increasing the number of studies published on green synthesis of silver nanoparticles up to 2018, with a decrease afterwards. It publishes a moderate fraction of reviews.  Retractions and the fraction of studies with errata published increased steadily after 2015. \n",
    "\n",
    "<img src = 'Case_green_synthesis_silver_np/Publishers/time_series_Taylor & Francis.png' width = '800'>"
   ]
  },
  {
   "cell_type": "markdown",
   "id": "d2b483ea",
   "metadata": {},
   "source": [
    "## Elsevier\n",
    "\n",
    "It has been rapidly increasing the number of studies it publishes on green synthesis of silver nanoparticles. It publishes an steadily increasing fraction of reviews. No studies have been retracted. The number of studies with published errata has been decreasing steadily.\n",
    "\n",
    "<img src = 'Case_green_synthesis_silver_np/Publishers/time_series_Elsevier.png' width = '800'>"
   ]
  },
  {
   "cell_type": "markdown",
   "id": "6c35eaed",
   "metadata": {},
   "source": [
    "## Royal Society of Chemistry\n",
    "\n",
    "It has been increasing the number of studies it publishes on green synthesis of silver nanoparticles. It started publishing a relative high fraction of reviews after 2015.  Over the same period, there was a peak in retractions and studies for which errata were published. \n",
    "\n",
    "<img src = 'Case_green_synthesis_silver_np/Publishers/time_series_Royal Society of Chemistry.png' width = '800'>"
   ]
  },
  {
   "cell_type": "markdown",
   "id": "2efd0a91",
   "metadata": {},
   "source": [
    "## Hindawi\n",
    "\n",
    "It has been rapidly increasing the number of studies it publishes on green synthesis of silver np. It publishes a publishes remarkably large fraction of reviews. No studies have been retracted. The fraction of studies with published errata has been increasing steadily.\n",
    "\n",
    "<img src = 'Case_green_synthesis_silver_np/Publishers/time_series_Hindawi.png' width = '800'>"
   ]
  },
  {
   "cell_type": "markdown",
   "id": "2ea0f070",
   "metadata": {},
   "source": [
    "## MDPI\n",
    "\n",
    "Extraordinary growth in the number of studies it publishes on green synthesis of silver np since 2015. It publishes a publishes remarkably large fraction of reviews. No studies have been retracted or had errata published. \n",
    "\n",
    "<img src = 'Case_green_synthesis_silver_np/Publishers/time_series_MDPI.png' width = '800'>\n"
   ]
  },
  {
   "cell_type": "markdown",
   "id": "3fec3d10",
   "metadata": {},
   "source": [
    "# Journal trends\n",
    "\n",
    "## List of journals"
   ]
  },
  {
   "cell_type": "code",
   "execution_count": 7,
   "id": "402ba964",
   "metadata": {
    "ExecuteTime": {
     "end_time": "2024-02-20T18:10:47.468854Z",
     "start_time": "2024-02-20T18:10:47.459598Z"
    }
   },
   "outputs": [
    {
     "name": "stdout",
     "output_type": "stream",
     "text": [
      "np/Journals/time_series_ACS Omega.png\n",
      "np/Journals/time_series_Artif Cells Nanomed Biotechnol.png\n",
      "np/Journals/time_series_Carbohydr Polym.png\n",
      "np/Journals/time_series_Colloids Surf B Biointerfaces.png\n",
      "np/Journals/time_series_Environ Sci Pollut Res Int.png\n",
      "np/Journals/time_series_Heliyon.png\n",
      "np/Journals/time_series_IET Nanobiotechnol.png\n",
      "np/Journals/time_series_Int J Biol Macromol.png\n",
      "np/Journals/time_series_Int J Mol Sci.png\n",
      "np/Journals/time_series_Int J Nanomedicine.png\n",
      "np/Journals/time_series_J Nanosci Nanotechnol.png\n",
      "np/Journals/time_series_J Photochem Photobiol B.png\n",
      "np/Journals/time_series_Mater Sci Eng C Mater Biol Appl.png\n",
      "np/Journals/time_series_Materials (Basel).png\n",
      "np/Journals/time_series_Molecules.png\n",
      "np/Journals/time_series_Nanomaterials (Basel).png\n",
      "np/Journals/time_series_Parasitol Res.png\n",
      "np/Journals/time_series_RSC Adv.png\n",
      "np/Journals/time_series_Saudi J Biol Sci.png\n",
      "np/Journals/time_series_Sci Rep.png\n",
      "np/Journals/time_series_Spectrochim Acta A Mol Biomol Spectrosc.png\n"
     ]
    }
   ],
   "source": [
    "folder = Path.cwd() / 'Case_green_synthesis_silver_np' / 'Journals'\n",
    "files = list( folder.glob('*.png') )\n",
    "\n",
    "for file in sorted( files ):\n",
    "    print(str(file)[90:])"
   ]
  },
  {
   "cell_type": "markdown",
   "id": "de192b0a",
   "metadata": {},
   "source": [
    "## *ACS Omega* is an *ACS* journal\n",
    "\n",
    "It has experienced a rapidly increasing number of publications on green synthesis of silver nanoparticles. It publishes a small fraction of  reviews and few studies have had errata published. No studies have been retracted.\n",
    "\n",
    "<img src = 'Case_green_synthesis_silver_np/Journals/time_series_ACS Omega.png' width = '800'>"
   ]
  },
  {
   "cell_type": "markdown",
   "id": "fa74da16",
   "metadata": {},
   "source": [
    "## *Sci Rep* is a *Springer Nature* journal \n",
    "\n",
    "It has published an increasing number of studies on green synthesis of silver nanoparticles. It publishes no reviews. No studies have been retracted.  The fraction of studies with published errata has increased steadily.\n",
    "\n",
    "<img src = 'Case_green_synthesis_silver_np/Journals/time_series_Sci Rep.png' width = '800'>"
   ]
  },
  {
   "cell_type": "markdown",
   "id": "8aa83e59",
   "metadata": {},
   "source": [
    "## *Int J Biol Macromol* is an *Elsevier* journal\n",
    "\n",
    "It has had a steady increase in the number of publication on green synthesis of silver nanoparticles. No studies have been retracted or had errata published.\n",
    "\n",
    "<img src = 'Case_green_synthesis_silver_np/Journals/time_series_Int J Biol Macromol.png' width = '800'>"
   ]
  },
  {
   "cell_type": "markdown",
   "id": "dddc7139",
   "metadata": {},
   "source": [
    "## *J Photochem Photobiol B* is an *Elsevier* journal\n",
    "\n",
    "It had a publication spike on green synthesis of silver nanoparticles between 2013 and 2021. Fraction of reviews has been increasing steadily since 2013, as have the fraction of studies with published errata.\n",
    "\n",
    "<img src = 'Case_green_synthesis_silver_np/Journals/time_series_J Photochem Photobiol B.png' width = '800'>"
   ]
  },
  {
   "cell_type": "markdown",
   "id": "c34d013e",
   "metadata": {},
   "source": [
    "## *Saudi J Biol Sci* is an *Elsevier* journal\n",
    "\n",
    "It had a publication spike on green synthesis of silver nanoparticles since 2019. It has published a very large and steadily increasing fraction of reviews. No studies have been retracted.  It has a very high and steadily increasing fraction of studies with published errata.\n",
    "\n",
    "<img src = 'Case_green_synthesis_silver_np/Journals/time_series_Saudi J Biol Sci.png' width = '800'>"
   ]
  },
  {
   "cell_type": "markdown",
   "id": "67ada587",
   "metadata": {},
   "source": [
    "## *Heliyon* is an *Elsevier* journal\n",
    "\n",
    "It had a publication spike on green synthesis of silver nanoparticles since 2018. It publishes a large high fraction of reviews. No studies have been retracted or had errata published.\n",
    "\n",
    "<img src = 'Case_green_synthesis_silver_np/Journals/time_series_Heliyon.png' width = '800'>"
   ]
  },
  {
   "cell_type": "markdown",
   "id": "ae463907",
   "metadata": {},
   "source": [
    "## *Spectrochim Acta A Mol Biomol Spectrosc* is an *Elsevier* journal\n",
    "\n",
    "It had a publication spike on green synthesis of silver nanoparticles between 2010 and 2015. It publishes no reviews.  Fraction of reviews was at extraordinary levels prior to 2013. There was a spike in the number of retractions over the publication spike. No studies had errata published.\n",
    "\n",
    "<img src = 'Case_green_synthesis_silver_np/Journals/time_series_Spectrochim Acta A Mol Biomol Spectrosc.png' width = '800'>"
   ]
  },
  {
   "cell_type": "markdown",
   "id": "ce462b99",
   "metadata": {},
   "source": [
    "## *Int J Nanomedicine* is a *Taylor & Francis* journal\n",
    "\n",
    "It has published a steadily increasing number of studies on green synthesis of silver nanoparticles. It publishes a small fraction of reviews. Retractions and errata have increased steadily since 2015.\n",
    "\n",
    "<img src = 'Case_green_synthesis_silver_np/Journals/time_series_Int J Nanomedicine.png' width = '800'>"
   ]
  },
  {
   "cell_type": "markdown",
   "id": "4f43988b",
   "metadata": {},
   "source": [
    "## *Molecules* is a *MDPI* journal\n",
    "\n",
    "It had a publication spike on green synthesis of silver nanoparticles since 2019. Fraction of reviews was at extraordinary levels prior to 2013. No studies have been retracted or had errata published.\n",
    "\n",
    "<img src = 'Case_green_synthesis_silver_np/Journals/time_series_Molecules.png' width = '800'>"
   ]
  },
  {
   "cell_type": "markdown",
   "id": "525dc4c4",
   "metadata": {},
   "source": [
    "## *Int J Mol Sci* is a *MDPI* journal\n",
    "\n",
    "It had a publication spike on green synthesis of silver nanoparticles since 2020. It publishes an extraordinarily high fraction of reviews. No studies have been retracted or had errata published.\n",
    "\n",
    "<img src = 'Case_green_synthesis_silver_np/Journals/time_series_Int J Mol Sci.png' width = '800'>"
   ]
  },
  {
   "cell_type": "code",
   "execution_count": null,
   "id": "0ea041ab",
   "metadata": {},
   "outputs": [],
   "source": []
  },
  {
   "cell_type": "code",
   "execution_count": null,
   "id": "9385c2fe",
   "metadata": {},
   "outputs": [],
   "source": []
  },
  {
   "cell_type": "code",
   "execution_count": null,
   "id": "f6f496f9",
   "metadata": {},
   "outputs": [],
   "source": []
  }
 ],
 "metadata": {
  "kernelspec": {
   "display_name": "Python [conda env:new_base] *",
   "language": "python",
   "name": "conda-env-new_base-py"
  },
  "language_info": {
   "codemirror_mode": {
    "name": "ipython",
    "version": 3
   },
   "file_extension": ".py",
   "mimetype": "text/x-python",
   "name": "python",
   "nbconvert_exporter": "python",
   "pygments_lexer": "ipython3",
   "version": "3.11.4"
  },
  "toc": {
   "base_numbering": 1,
   "nav_menu": {},
   "number_sections": true,
   "sideBar": true,
   "skip_h1_title": false,
   "title_cell": "Table of Contents",
   "title_sidebar": "Contents",
   "toc_cell": false,
   "toc_position": {
    "height": "calc(100% - 180px)",
    "left": "10px",
    "top": "150px",
    "width": "179px"
   },
   "toc_section_display": true,
   "toc_window_display": true
  },
  "varInspector": {
   "cols": {
    "lenName": 16,
    "lenType": 16,
    "lenVar": 40
   },
   "kernels_config": {
    "python": {
     "delete_cmd_postfix": "",
     "delete_cmd_prefix": "del ",
     "library": "var_list.py",
     "varRefreshCmd": "print(var_dic_list())"
    },
    "r": {
     "delete_cmd_postfix": ") ",
     "delete_cmd_prefix": "rm(",
     "library": "var_list.r",
     "varRefreshCmd": "cat(var_dic_list()) "
    }
   },
   "types_to_exclude": [
    "module",
    "function",
    "builtin_function_or_method",
    "instance",
    "_Feature"
   ],
   "window_display": false
  }
 },
 "nbformat": 4,
 "nbformat_minor": 5
}
