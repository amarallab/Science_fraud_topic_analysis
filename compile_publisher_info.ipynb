{
 "cells": [
  {
   "cell_type": "markdown",
   "id": "0058d880",
   "metadata": {},
   "source": [
    "# Read libraries"
   ]
  },
  {
   "cell_type": "code",
   "execution_count": null,
   "id": "aeaaaee0",
   "metadata": {
    "ExecuteTime": {
     "end_time": "2024-05-03T20:45:21.513782Z",
     "start_time": "2024-05-03T20:45:20.818150Z"
    }
   },
   "outputs": [],
   "source": [
    "%load_ext autoreload\n",
    "%autoreload 2\n",
    "%matplotlib inline\n",
    "\n",
    "from copy import copy, deepcopy\n",
    "from pathlib import Path\n",
    "from sys import path\n",
    "\n",
    "path.append( str(Path.cwd().parent) )"
   ]
  },
  {
   "cell_type": "code",
   "execution_count": null,
   "id": "0e7f0558",
   "metadata": {
    "ExecuteTime": {
     "end_time": "2024-05-03T20:45:26.903931Z",
     "start_time": "2024-05-03T20:45:25.219123Z"
    }
   },
   "outputs": [],
   "source": [
    "import requests\n",
    "import pandas as pd\n",
    "\n",
    "from numpy import nan\n",
    "from collections import Counter\n",
    "from bs4 import BeautifulSoup\n",
    "from selenium import webdriver\n",
    "from string import punctuation, whitespace\n",
    "from time import sleep\n",
    "\n",
    "from Project_libraries.pubmed import ( search_for_journal_match,\n",
    "                                       assign_publisher, \n",
    "                                       manual_assignment_of_publisher,\n",
    "                                       consensus_publisher,\n",
    "                                     )\n"
   ]
  },
  {
   "cell_type": "markdown",
   "id": "a4d1d9a9",
   "metadata": {},
   "source": [
    "# Initialize variables"
   ]
  },
  {
   "cell_type": "code",
   "execution_count": null,
   "id": "3bdf58a3",
   "metadata": {
    "ExecuteTime": {
     "end_time": "2024-05-03T20:45:29.249639Z",
     "start_time": "2024-05-03T20:45:29.220297Z"
    }
   },
   "outputs": [],
   "source": [
    "chrome_bin = Path.home() / 'share' / 'bin'\n",
    "\n",
    "url = 'https://www.ncbi.nlm.nih.gov/nlmcatalog?term='\n",
    "\n",
    "catalogue_file = Path.cwd() / 'Project_libraries' / 'journal_catalogue.json'\n",
    "\n",
    "catalogue_NLM = Path.cwd() / 'Project_libraries' / 'journal_NLM_query.json'\n",
    "\n",
    "filename = 'articles_clean.json'"
   ]
  },
  {
   "cell_type": "markdown",
   "id": "f4a354eb",
   "metadata": {},
   "source": [
    "# Import journal data"
   ]
  },
  {
   "cell_type": "code",
   "execution_count": null,
   "id": "ed3f8e4e",
   "metadata": {
    "ExecuteTime": {
     "end_time": "2024-05-03T20:45:36.675000Z",
     "start_time": "2024-05-03T20:45:32.593276Z"
    }
   },
   "outputs": [],
   "source": [
    "cwd = Path.cwd()\n",
    "\n",
    "journals = {}\n",
    "for folder in cwd.glob('Case_*'):\n",
    "    print(f\"Downloading from folder '{folder.parts[-1]}' ...\")\n",
    "    with open(Path.cwd() / folder / filename, 'r', encoding = 'utf-8') as f_json:\n",
    "        articles = json.load(f_json)\n",
    "    \n",
    "    for article in articles:\n",
    "        journal = article['journal']\n",
    "        if journal in journals.keys():\n",
    "            if article['copyright']:\n",
    "                journals[journal]['cr_note'] += ' ' + article['copyright']\n",
    "            continue\n",
    "            \n",
    "        journals[journal] = {}\n",
    "        if article['copyright']:\n",
    "            journals[journal]['cr_note'] = article['copyright']\n",
    "        else:\n",
    "            journals[journal]['cr_note'] = ''\n",
    "            \n",
    "print(f\"\\nThere are {len(journals)} unique journals.\\n\\n\")\n",
    "\n",
    "\n",
    "journal_list = sorted( list(journals.keys()) )\n",
    "\n",
    "print(journal_list[0])\n",
    "print(journal_list[-1])"
   ]
  },
  {
   "cell_type": "markdown",
   "id": "43a4cd61",
   "metadata": {
    "ExecuteTime": {
     "end_time": "2024-02-15T21:10:57.940807Z",
     "start_time": "2024-02-15T21:10:57.914931Z"
    }
   },
   "source": [
    "# NLM queries\n",
    "\n",
    "## Load prior results "
   ]
  },
  {
   "cell_type": "code",
   "execution_count": null,
   "id": "0dd6f732",
   "metadata": {
    "ExecuteTime": {
     "end_time": "2024-05-03T20:45:42.391279Z",
     "start_time": "2024-05-03T20:45:42.193632Z"
    }
   },
   "outputs": [],
   "source": [
    "catalogue = {}\n",
    "with open(catalogue_NLM, 'r', encoding = 'utf-8') as file_in:\n",
    "    catalogue = json.load(file_in)\n",
    "    \n",
    "print('Loaded NLM query results.\\n')\n",
    "\n",
    "print(f\"Have records for {len(catalogue)} journals.\")"
   ]
  },
  {
   "cell_type": "markdown",
   "id": "964b0c35",
   "metadata": {},
   "source": [
    "## Search NLM catalogue for journal information\n",
    "\n",
    "**Skip this subsection** in case you have not added additional journals."
   ]
  },
  {
   "cell_type": "code",
   "execution_count": null,
   "id": "6f7e7917",
   "metadata": {
    "ExecuteTime": {
     "end_time": "2024-05-03T20:48:50.135209Z",
     "start_time": "2024-05-03T20:46:16.401515Z"
    }
   },
   "outputs": [],
   "source": [
    "# Maximum number of pages or results I will check\n",
    "n_max = 10\n",
    "i0 = 0\n",
    "i1 = 7000\n",
    "with webdriver.Chrome() as browser:\n",
    "    sleep(5)\n",
    "    browser.get(url)\n",
    "    sleep(5)\n",
    "    \n",
    "    for i, journal in enumerate( journal_list[i0:] ):\n",
    "        if journal in catalogue.keys():\n",
    "            if ( catalogue[journal] is not None ): \n",
    "                if 'failed' not in catalogue[journal].keys():\n",
    "                    continue\n",
    "                \n",
    "                elif ( type(catalogue[journal]['failed']) == int and \n",
    "                       catalogue[journal]['failed'] > n_max ):\n",
    "                    continue\n",
    "                \n",
    "                elif type(catalogue[journal]['failed']) == str:\n",
    "                    continue\n",
    "                    \n",
    "\n",
    "        j_url = f\"{url}{journal}[Journal]\"\n",
    "        print(f\"{i0+i:>4} -- {j_url}\")\n",
    "        response = requests.get(j_url)\n",
    "\n",
    "        # The analysis of the response to request can yield one of three outcomes:\n",
    "        #     - a journal match (table will have something in it)\n",
    "        #     - a list of possible matches (table will be empty)\n",
    "        #     - no possible matches (table will be empty)\n",
    "        #\n",
    "        # For the latter two, we call the function 'search_for_journal_match'\n",
    "        #\n",
    "        soup = BeautifulSoup(response.text, 'html.parser')\n",
    "        table = soup.find('dl', {'class': 'nlmcat_dl'})\n",
    "\n",
    "        if table is None:\n",
    "            table = search_for_journal_match( browser, journal, j_url, n_max )\n",
    "\n",
    "            # If table is still None, we are under the third case above or\n",
    "            # there were too many pages\n",
    "            #\n",
    "            if type(table) == str or type(table) == int:\n",
    "                print(f\"The search for journal {journal} did not yield results.\\n\")\n",
    "                catalogue[journal] = {}\n",
    "                catalogue[journal]['failed'] = table\n",
    "                continue\n",
    "            \n",
    "            elif table is None:\n",
    "                print(f\"The search for journal {journal} did not yield results.\\n\")\n",
    "                catalogue[journal] = {}\n",
    "                catalogue[journal]['failed'] = 'No results'\n",
    "                continue\n",
    "                \n",
    "        info = list( table.children )        \n",
    "        catalogue[journal] = {}\n",
    "\n",
    "        search_strings = [ ('Title(s):', 'full_title'),\n",
    "                           ('Publication Start Year:', 'start_date' ), \n",
    "                           ('Country of Publication:', 'country'),\n",
    "                           ('Publisher:', 'publisher_note'),\n",
    "                           ('Latest Publisher:', 'last_publisher_note'),\n",
    "                           ('MeSH:', 'mesh'),\n",
    "                           ('Notes:', 'notes'),\n",
    "                          ]\n",
    "\n",
    "        for text, key in search_strings:\n",
    "            k = 0\n",
    "            while k < len(info) and info[k].text != text:\n",
    "                k += 1\n",
    "\n",
    "            if k == len(info):\n",
    "                catalogue[journal][key] = None\n",
    "\n",
    "            else:\n",
    "                k += 1\n",
    "                catalogue[journal][key] = info[k].text.strip(whitespace)   \n",
    "\n",
    "        catalogue[journal]['cr_note'] = journals[journal]['cr_note']\n",
    "\n",
    "        print(f\"\\t{catalogue[journal]}\\n\")   \n",
    "        sleep(3)\n"
   ]
  },
  {
   "cell_type": "markdown",
   "id": "26652784",
   "metadata": {},
   "source": [
    "## Save results of new NLM queries"
   ]
  },
  {
   "cell_type": "code",
   "execution_count": null,
   "id": "1aa503c8",
   "metadata": {
    "ExecuteTime": {
     "end_time": "2024-05-03T20:48:55.669848Z",
     "start_time": "2024-05-03T20:48:55.589658Z"
    }
   },
   "outputs": [],
   "source": [
    "with open(catalogue_NLM, 'w', encoding = 'utf-8') as file_out:\n",
    "    json.dump(catalogue, file_out)\n",
    "    \n",
    "print('Saved NLM query results.')"
   ]
  },
  {
   "cell_type": "markdown",
   "id": "ae935fe3",
   "metadata": {},
   "source": [
    "# Check catalogue after NLM queries\n",
    "\n",
    "## Summary"
   ]
  },
  {
   "cell_type": "code",
   "execution_count": null,
   "id": "b9cf78a7",
   "metadata": {
    "ExecuteTime": {
     "end_time": "2024-05-03T20:49:09.830519Z",
     "start_time": "2024-05-03T20:49:09.740650Z"
    }
   },
   "outputs": [],
   "source": [
    "n = len(catalogue)\n",
    "print(f\"The journal catalogue has {len(catalogue)} entries.\\n\")\n",
    "empty_entries = 0\n",
    "for journal in catalogue:\n",
    "    if catalogue[journal] is None:\n",
    "        empty_entries += 1\n",
    "    \n",
    "df_publ = pd.DataFrame(catalogue)\n",
    "print(f\"There are:\\n\\t- {empty_entries} empty entries\\n\\t- \"\n",
    "      f\"{n - df_publ.loc['publisher_note'].count()} journals without a \"\n",
    "      f\"publisher note,\\n\\t- \"\n",
    "      f\"{n - df_publ.loc['last_publisher_note'].count()} journals without \"\n",
    "      f\"a last publisher note.\\n\")\n"
   ]
  },
  {
   "cell_type": "markdown",
   "id": "64e3234d",
   "metadata": {},
   "source": [
    "## View by country"
   ]
  },
  {
   "cell_type": "code",
   "execution_count": null,
   "id": "ed2d9a7d",
   "metadata": {
    "ExecuteTime": {
     "end_time": "2024-04-09T17:44:31.672272Z",
     "start_time": "2024-04-09T17:44:31.641727Z"
    }
   },
   "outputs": [],
   "source": [
    "for i, journal in enumerate(sorted( list(catalogue) )[:] ):\n",
    "    if catalogue[journal] is None:\n",
    "        continue\n",
    "    if 'Korea' in catalogue[journal]['country']:\n",
    "        print(catalogue[journal]['publisher_note'])"
   ]
  },
  {
   "cell_type": "markdown",
   "id": "d6bfef3b",
   "metadata": {},
   "source": [
    "## Check for manual assignment"
   ]
  },
  {
   "cell_type": "code",
   "execution_count": null,
   "id": "dca0396b",
   "metadata": {
    "ExecuteTime": {
     "end_time": "2024-04-22T19:06:15.184378Z",
     "start_time": "2024-04-22T19:06:15.155865Z"
    }
   },
   "outputs": [],
   "source": [
    "#\n",
    "journal = 'Transplantation'\n",
    "if journal in catalogue:\n",
    "    print( catalogue[journal] )"
   ]
  },
  {
   "cell_type": "markdown",
   "id": "f983d9d7",
   "metadata": {},
   "source": [
    "# Assign publisher names in journal catalogue"
   ]
  },
  {
   "cell_type": "code",
   "execution_count": null,
   "id": "bd31a356",
   "metadata": {
    "ExecuteTime": {
     "end_time": "2024-05-03T20:49:40.635667Z",
     "start_time": "2024-05-03T20:49:40.437761Z"
    },
    "scrolled": true
   },
   "outputs": [],
   "source": [
    "for i, journal in enumerate(sorted( list(catalogue) )[:] ):\n",
    "    \n",
    "    # Fix empty catalogue entries\n",
    "    #\n",
    "    if catalogue[journal] is None:\n",
    "        catalogue[journal] = {}\n",
    "     \n",
    "    journal_keys = catalogue[journal].keys()\n",
    "    \n",
    "    if 'last_publisher_note' not in journal_keys:\n",
    "        catalogue[journal]['last_publisher_note'] = None\n",
    "        \n",
    "    if 'publisher_note' not in journal_keys:\n",
    "        catalogue[journal]['publisher_note'] = None\n",
    "        \n",
    "    if 'cr_note' not in journal_keys:\n",
    "        catalogue[journal]['cr_note'] = None\n",
    "    \n",
    "    # Guess publisher from NLM entries or rule assignment\n",
    "    #\n",
    "    publisher = consensus_publisher(\n",
    "                assign_publisher(catalogue[journal]['last_publisher_note']),\n",
    "                assign_publisher(catalogue[journal]['publisher_note']),\n",
    "                assign_publisher(catalogue[journal]['cr_note']) )\n",
    "    \n",
    "    manual_publisher = manual_assignment_of_publisher( journal )\n",
    "    \n",
    "    # Decide on publisher based on guesses\n",
    "    #\n",
    "    if publisher == manual_publisher:\n",
    "        catalogue[journal]['publisher'] = publisher\n",
    "        \n",
    "    elif manual_publisher:\n",
    "        print(f\"\\n{i:>4} ----- {journal[:40]:40} -- {manual_publisher}\")\n",
    "        catalogue[journal]['publisher'] = manual_publisher\n",
    "        \n",
    "    else:\n",
    "        print(f\"\\n{i:>4} -- {journal[:40]:40} -- {publisher}\")\n",
    "        catalogue[journal]['publisher'] = publisher\n",
    "                \n",
    "#         print(f\"{'LP':3} -- {catalogue[journal]['last_publisher_note']}\")\n",
    "#         print(f\"{'P':3} -- {catalogue[journal]['publisher_note']}\")\n",
    "#         print(f\"{'CR':3} -- {catalogue[journal]['cr_note']}\")\n",
    "        \n",
    "\n"
   ]
  },
  {
   "cell_type": "code",
   "execution_count": null,
   "id": "74f0347d",
   "metadata": {
    "ExecuteTime": {
     "end_time": "2024-05-03T20:49:58.127697Z",
     "start_time": "2024-05-03T20:49:58.092747Z"
    }
   },
   "outputs": [],
   "source": [
    "publishers = []\n",
    "for journal in catalogue:\n",
    "    publishers.append( catalogue[journal]['publisher'] )\n",
    "    \n",
    "print(f\"There are {len(set(publishers))} distinct publishers identified in the \"\n",
    "      f\"journal catalogue.\")\n",
    "\n",
    "aux = Counter(publishers)\n",
    "aux.most_common(25)"
   ]
  },
  {
   "cell_type": "markdown",
   "id": "17286c98",
   "metadata": {},
   "source": [
    "## Check for unmatched journals"
   ]
  },
  {
   "cell_type": "code",
   "execution_count": null,
   "id": "6868bba8",
   "metadata": {
    "ExecuteTime": {
     "end_time": "2024-05-03T20:50:08.566878Z",
     "start_time": "2024-05-03T20:50:08.527539Z"
    }
   },
   "outputs": [],
   "source": [
    "for i, journal in enumerate(sorted( list(catalogue) )[:] ):\n",
    "    if catalogue[journal]['publisher'] is None:\n",
    "        print(f\"{i:>4} -- {journal}\")\n",
    "        "
   ]
  },
  {
   "cell_type": "markdown",
   "id": "9a8e229b",
   "metadata": {},
   "source": [
    "# Save updated Journal Catalogue"
   ]
  },
  {
   "cell_type": "code",
   "execution_count": null,
   "id": "b69459ff",
   "metadata": {
    "ExecuteTime": {
     "end_time": "2024-05-03T20:50:25.611104Z",
     "start_time": "2024-05-03T20:50:25.359195Z"
    }
   },
   "outputs": [],
   "source": [
    "with open(catalogue_file, 'w', encoding = 'utf-8') as file_out:\n",
    "    json.dump(catalogue, file_out)\n",
    "    \n",
    "print('Saved updated Journal Catalogue.')"
   ]
  },
  {
   "cell_type": "code",
   "execution_count": null,
   "id": "ca0e6d41",
   "metadata": {
    "ExecuteTime": {
     "end_time": "2024-05-03T20:50:31.670612Z",
     "start_time": "2024-05-03T20:50:31.641254Z"
    }
   },
   "outputs": [],
   "source": [
    "print(catalogue['Molecules'])"
   ]
  },
  {
   "cell_type": "code",
   "execution_count": null,
   "id": "327448ff",
   "metadata": {
    "ExecuteTime": {
     "end_time": "2024-05-03T20:50:32.435368Z",
     "start_time": "2024-05-03T20:50:32.403865Z"
    }
   },
   "outputs": [],
   "source": [
    "print(catalogue['Oncotarget'])"
   ]
  },
  {
   "cell_type": "code",
   "execution_count": null,
   "id": "91bbad82",
   "metadata": {},
   "outputs": [],
   "source": []
  },
  {
   "cell_type": "code",
   "execution_count": null,
   "id": "d65256bb",
   "metadata": {},
   "outputs": [],
   "source": []
  },
  {
   "cell_type": "code",
   "execution_count": null,
   "id": "c1aeccb4",
   "metadata": {},
   "outputs": [],
   "source": []
  },
  {
   "cell_type": "code",
   "execution_count": null,
   "id": "70499e66",
   "metadata": {},
   "outputs": [],
   "source": []
  },
  {
   "cell_type": "code",
   "execution_count": null,
   "id": "34509a00",
   "metadata": {},
   "outputs": [],
   "source": []
  },
  {
   "cell_type": "code",
   "execution_count": null,
   "id": "f7e98e8b",
   "metadata": {},
   "outputs": [],
   "source": []
  }
 ],
 "metadata": {
  "kernelspec": {
   "display_name": "Python [conda env:new_base]",
   "language": "python",
   "name": "conda-env-new_base-py"
  },
  "language_info": {
   "codemirror_mode": {
    "name": "ipython",
    "version": 3
   },
   "file_extension": ".py",
   "mimetype": "text/x-python",
   "name": "python",
   "nbconvert_exporter": "python",
   "pygments_lexer": "ipython3",
   "version": "3.11.4"
  },
  "toc": {
   "base_numbering": 1,
   "nav_menu": {},
   "number_sections": true,
   "sideBar": true,
   "skip_h1_title": false,
   "title_cell": "Table of Contents",
   "title_sidebar": "Contents",
   "toc_cell": false,
   "toc_position": {
    "height": "calc(100% - 180px)",
    "left": "10px",
    "top": "150px",
    "width": "200.6px"
   },
   "toc_section_display": true,
   "toc_window_display": true
  },
  "varInspector": {
   "cols": {
    "lenName": 16,
    "lenType": 16,
    "lenVar": 40
   },
   "kernels_config": {
    "python": {
     "delete_cmd_postfix": "",
     "delete_cmd_prefix": "del ",
     "library": "var_list.py",
     "varRefreshCmd": "print(var_dic_list())"
    },
    "r": {
     "delete_cmd_postfix": ") ",
     "delete_cmd_prefix": "rm(",
     "library": "var_list.r",
     "varRefreshCmd": "cat(var_dic_list()) "
    }
   },
   "types_to_exclude": [
    "module",
    "function",
    "builtin_function_or_method",
    "instance",
    "_Feature"
   ],
   "window_display": false
  }
 },
 "nbformat": 4,
 "nbformat_minor": 5
}
