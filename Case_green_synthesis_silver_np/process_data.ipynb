{
 "cells": [
  {
   "cell_type": "markdown",
   "id": "0058d880",
   "metadata": {},
   "source": [
    "# Read libraries"
   ]
  },
  {
   "cell_type": "code",
   "execution_count": 1,
   "id": "aeaaaee0",
   "metadata": {
    "ExecuteTime": {
     "end_time": "2024-01-08T21:50:36.230520Z",
     "start_time": "2024-01-08T21:50:35.746433Z"
    }
   },
   "outputs": [],
   "source": [
    "%load_ext autoreload\n",
    "%autoreload 2\n",
    "%matplotlib inline\n",
    "\n",
    "from copy import copy, deepcopy\n",
    "from pathlib import Path\n",
    "from sys import path\n",
    "\n",
    "path.append( str(Path.cwd().parent) )\n"
   ]
  },
  {
   "cell_type": "code",
   "execution_count": 2,
   "id": "0e7f0558",
   "metadata": {
    "ExecuteTime": {
     "end_time": "2024-01-08T21:50:38.157112Z",
     "start_time": "2024-01-08T21:50:36.982366Z"
    }
   },
   "outputs": [],
   "source": [
    "import json\n",
    "import re\n",
    "\n",
    "import matplotlib.pyplot as plt\n",
    "import pandas as pd\n",
    "\n",
    "from collections import Counter\n",
    "from string import punctuation, whitespace\n",
    "\n",
    "from Project_libraries.pubmed import ( concatenate_lines, \n",
    "                                       extract_publication_date, \n",
    "                                       get_article_data )"
   ]
  },
  {
   "cell_type": "code",
   "execution_count": 3,
   "id": "3a3a021f",
   "metadata": {
    "ExecuteTime": {
     "end_time": "2024-01-08T21:50:38.940086Z",
     "start_time": "2024-01-08T21:50:38.913736Z"
    }
   },
   "outputs": [],
   "source": [
    "csv_file = Path.cwd() / 'csv-greensynth-set.csv'\n",
    "abstracts_file = Path.cwd() / 'abstract-greensynth-set.txt'"
   ]
  },
  {
   "cell_type": "markdown",
   "id": "f4a354eb",
   "metadata": {},
   "source": [
    "# Import CSV file"
   ]
  },
  {
   "cell_type": "code",
   "execution_count": 4,
   "id": "ed3f8e4e",
   "metadata": {
    "ExecuteTime": {
     "end_time": "2024-01-08T21:50:40.632097Z",
     "start_time": "2024-01-08T21:50:40.583618Z"
    }
   },
   "outputs": [
    {
     "data": {
      "text/html": [
       "<div>\n",
       "<style scoped>\n",
       "    .dataframe tbody tr th:only-of-type {\n",
       "        vertical-align: middle;\n",
       "    }\n",
       "\n",
       "    .dataframe tbody tr th {\n",
       "        vertical-align: top;\n",
       "    }\n",
       "\n",
       "    .dataframe thead th {\n",
       "        text-align: right;\n",
       "    }\n",
       "</style>\n",
       "<table border=\"1\" class=\"dataframe\">\n",
       "  <thead>\n",
       "    <tr style=\"text-align: right;\">\n",
       "      <th></th>\n",
       "      <th>PMID</th>\n",
       "      <th>Title</th>\n",
       "      <th>Authors</th>\n",
       "      <th>Citation</th>\n",
       "      <th>First Author</th>\n",
       "      <th>Journal/Book</th>\n",
       "      <th>Publication Year</th>\n",
       "      <th>Create Date</th>\n",
       "      <th>PMCID</th>\n",
       "      <th>NIHMS ID</th>\n",
       "      <th>DOI</th>\n",
       "    </tr>\n",
       "  </thead>\n",
       "  <tbody>\n",
       "    <tr>\n",
       "      <th>0</th>\n",
       "      <td>30328732</td>\n",
       "      <td>Green synthesis of silver nanoparticles toward...</td>\n",
       "      <td>Mousavi SM, Hashemi SA, Ghasemi Y, Atapour A, ...</td>\n",
       "      <td>Artif Cells Nanomed Biotechnol. 2018;46(sup3):...</td>\n",
       "      <td>Mousavi SM</td>\n",
       "      <td>Artif Cells Nanomed Biotechnol</td>\n",
       "      <td>2018</td>\n",
       "      <td>2018/10/18</td>\n",
       "      <td>NaN</td>\n",
       "      <td>NaN</td>\n",
       "      <td>10.1080/21691401.2018.1517769</td>\n",
       "    </tr>\n",
       "    <tr>\n",
       "      <th>1</th>\n",
       "      <td>34769419</td>\n",
       "      <td>Bionanofactories for Green Synthesis of Silver...</td>\n",
       "      <td>Jain AS, Pawar PS, Sarkar A, Junnuthula V, Dya...</td>\n",
       "      <td>Int J Mol Sci. 2021 Nov 5;22(21):11993. doi: 1...</td>\n",
       "      <td>Jain AS</td>\n",
       "      <td>Int J Mol Sci</td>\n",
       "      <td>2021</td>\n",
       "      <td>2021/11/13</td>\n",
       "      <td>PMC8584914</td>\n",
       "      <td>NaN</td>\n",
       "      <td>10.3390/ijms222111993</td>\n",
       "    </tr>\n",
       "    <tr>\n",
       "      <th>2</th>\n",
       "      <td>24937409</td>\n",
       "      <td>Silver nanoparticles: Synthesis methods, bio-a...</td>\n",
       "      <td>Abbasi E, Milani M, Fekri Aval S, Kouhi M, Akb...</td>\n",
       "      <td>Crit Rev Microbiol. 2016;42(2):173-80. doi: 10...</td>\n",
       "      <td>Abbasi E</td>\n",
       "      <td>Crit Rev Microbiol</td>\n",
       "      <td>2016</td>\n",
       "      <td>2014/06/18</td>\n",
       "      <td>NaN</td>\n",
       "      <td>NaN</td>\n",
       "      <td>10.3109/1040841X.2014.912200</td>\n",
       "    </tr>\n",
       "    <tr>\n",
       "      <th>3</th>\n",
       "      <td>27649147</td>\n",
       "      <td>Silver Nanoparticles: Synthesis, Characterizat...</td>\n",
       "      <td>Zhang XF, Liu ZG, Shen W, Gurunathan S.</td>\n",
       "      <td>Int J Mol Sci. 2016 Sep 13;17(9):1534. doi: 10...</td>\n",
       "      <td>Zhang XF</td>\n",
       "      <td>Int J Mol Sci</td>\n",
       "      <td>2016</td>\n",
       "      <td>2016/09/21</td>\n",
       "      <td>PMC5037809</td>\n",
       "      <td>NaN</td>\n",
       "      <td>10.3390/ijms17091534</td>\n",
       "    </tr>\n",
       "    <tr>\n",
       "      <th>4</th>\n",
       "      <td>35426251</td>\n",
       "      <td>Medicinal plants mediated the green synthesis ...</td>\n",
       "      <td>Habeeb Rahuman HB, Dhandapani R, Narayanan S, ...</td>\n",
       "      <td>IET Nanobiotechnol. 2022 Jun;16(4):115-144. do...</td>\n",
       "      <td>Habeeb Rahuman HB</td>\n",
       "      <td>IET Nanobiotechnol</td>\n",
       "      <td>2022</td>\n",
       "      <td>2022/04/15</td>\n",
       "      <td>PMC9114445</td>\n",
       "      <td>NaN</td>\n",
       "      <td>10.1049/nbt2.12078</td>\n",
       "    </tr>\n",
       "    <tr>\n",
       "      <th>...</th>\n",
       "      <td>...</td>\n",
       "      <td>...</td>\n",
       "      <td>...</td>\n",
       "      <td>...</td>\n",
       "      <td>...</td>\n",
       "      <td>...</td>\n",
       "      <td>...</td>\n",
       "      <td>...</td>\n",
       "      <td>...</td>\n",
       "      <td>...</td>\n",
       "      <td>...</td>\n",
       "    </tr>\n",
       "    <tr>\n",
       "      <th>2984</th>\n",
       "      <td>36365347</td>\n",
       "      <td>Bioinspired Green Synthesis of Silver Nanopart...</td>\n",
       "      <td>Tian Y, Luo J, Wang H, Zaki HEM, Yu S, Wang X,...</td>\n",
       "      <td>Plants (Basel). 2022 Oct 28;11(21):2892. doi: ...</td>\n",
       "      <td>Tian Y</td>\n",
       "      <td>Plants (Basel)</td>\n",
       "      <td>2022</td>\n",
       "      <td>2022/11/11</td>\n",
       "      <td>PMC9654092</td>\n",
       "      <td>NaN</td>\n",
       "      <td>10.3390/plants11212892</td>\n",
       "    </tr>\n",
       "    <tr>\n",
       "      <th>2985</th>\n",
       "      <td>35479817</td>\n",
       "      <td>Chemical and biological studies on the soft co...</td>\n",
       "      <td>Abdelhafez OH, Fahim JR, El Masri RR, Salem MA...</td>\n",
       "      <td>RSC Adv. 2021 Jul 5;11(38):23654-23663. doi: 1...</td>\n",
       "      <td>Abdelhafez OH</td>\n",
       "      <td>RSC Adv</td>\n",
       "      <td>2021</td>\n",
       "      <td>2022/04/28</td>\n",
       "      <td>PMC9036784</td>\n",
       "      <td>NaN</td>\n",
       "      <td>10.1039/d1ra03045k</td>\n",
       "    </tr>\n",
       "    <tr>\n",
       "      <th>2986</th>\n",
       "      <td>35424016</td>\n",
       "      <td>Highly sensitive and selective colorimetric de...</td>\n",
       "      <td>Paw R, Hazarika M, Boruah PK, Kalita AJ, Guha ...</td>\n",
       "      <td>RSC Adv. 2021 Apr 20;11(24):14700-14709. doi: ...</td>\n",
       "      <td>Paw R</td>\n",
       "      <td>RSC Adv</td>\n",
       "      <td>2021</td>\n",
       "      <td>2022/04/15</td>\n",
       "      <td>PMC8697840</td>\n",
       "      <td>NaN</td>\n",
       "      <td>10.1039/d0ra09926k</td>\n",
       "    </tr>\n",
       "    <tr>\n",
       "      <th>2987</th>\n",
       "      <td>36015345</td>\n",
       "      <td>Moringa concanensis-Mediated Synthesis and Cha...</td>\n",
       "      <td>Zafar N, Uzair B, Menaa F, Khan BA, Niazi MBK,...</td>\n",
       "      <td>Pharmaceutics. 2022 Aug 17;14(8):1719. doi: 10...</td>\n",
       "      <td>Zafar N</td>\n",
       "      <td>Pharmaceutics</td>\n",
       "      <td>2022</td>\n",
       "      <td>2022/08/26</td>\n",
       "      <td>PMC9412270</td>\n",
       "      <td>NaN</td>\n",
       "      <td>10.3390/pharmaceutics14081719</td>\n",
       "    </tr>\n",
       "    <tr>\n",
       "      <th>2988</th>\n",
       "      <td>34947808</td>\n",
       "      <td>A Novel 3D Hierarchical Plasmonic Functional C...</td>\n",
       "      <td>Sun G, Li N, Wang D, Xu G, Zhang X, Gong H, Li...</td>\n",
       "      <td>Nanomaterials (Basel). 2021 Dec 20;11(12):3460...</td>\n",
       "      <td>Sun G</td>\n",
       "      <td>Nanomaterials (Basel)</td>\n",
       "      <td>2021</td>\n",
       "      <td>2021/12/24</td>\n",
       "      <td>PMC8705477</td>\n",
       "      <td>NaN</td>\n",
       "      <td>10.3390/nano11123460</td>\n",
       "    </tr>\n",
       "  </tbody>\n",
       "</table>\n",
       "<p>2989 rows × 11 columns</p>\n",
       "</div>"
      ],
      "text/plain": [
       "          PMID                                              Title  \\\n",
       "0     30328732  Green synthesis of silver nanoparticles toward...   \n",
       "1     34769419  Bionanofactories for Green Synthesis of Silver...   \n",
       "2     24937409  Silver nanoparticles: Synthesis methods, bio-a...   \n",
       "3     27649147  Silver Nanoparticles: Synthesis, Characterizat...   \n",
       "4     35426251  Medicinal plants mediated the green synthesis ...   \n",
       "...        ...                                                ...   \n",
       "2984  36365347  Bioinspired Green Synthesis of Silver Nanopart...   \n",
       "2985  35479817  Chemical and biological studies on the soft co...   \n",
       "2986  35424016  Highly sensitive and selective colorimetric de...   \n",
       "2987  36015345  Moringa concanensis-Mediated Synthesis and Cha...   \n",
       "2988  34947808  A Novel 3D Hierarchical Plasmonic Functional C...   \n",
       "\n",
       "                                                Authors  \\\n",
       "0     Mousavi SM, Hashemi SA, Ghasemi Y, Atapour A, ...   \n",
       "1     Jain AS, Pawar PS, Sarkar A, Junnuthula V, Dya...   \n",
       "2     Abbasi E, Milani M, Fekri Aval S, Kouhi M, Akb...   \n",
       "3               Zhang XF, Liu ZG, Shen W, Gurunathan S.   \n",
       "4     Habeeb Rahuman HB, Dhandapani R, Narayanan S, ...   \n",
       "...                                                 ...   \n",
       "2984  Tian Y, Luo J, Wang H, Zaki HEM, Yu S, Wang X,...   \n",
       "2985  Abdelhafez OH, Fahim JR, El Masri RR, Salem MA...   \n",
       "2986  Paw R, Hazarika M, Boruah PK, Kalita AJ, Guha ...   \n",
       "2987  Zafar N, Uzair B, Menaa F, Khan BA, Niazi MBK,...   \n",
       "2988  Sun G, Li N, Wang D, Xu G, Zhang X, Gong H, Li...   \n",
       "\n",
       "                                               Citation       First Author  \\\n",
       "0     Artif Cells Nanomed Biotechnol. 2018;46(sup3):...         Mousavi SM   \n",
       "1     Int J Mol Sci. 2021 Nov 5;22(21):11993. doi: 1...            Jain AS   \n",
       "2     Crit Rev Microbiol. 2016;42(2):173-80. doi: 10...           Abbasi E   \n",
       "3     Int J Mol Sci. 2016 Sep 13;17(9):1534. doi: 10...           Zhang XF   \n",
       "4     IET Nanobiotechnol. 2022 Jun;16(4):115-144. do...  Habeeb Rahuman HB   \n",
       "...                                                 ...                ...   \n",
       "2984  Plants (Basel). 2022 Oct 28;11(21):2892. doi: ...             Tian Y   \n",
       "2985  RSC Adv. 2021 Jul 5;11(38):23654-23663. doi: 1...      Abdelhafez OH   \n",
       "2986  RSC Adv. 2021 Apr 20;11(24):14700-14709. doi: ...              Paw R   \n",
       "2987  Pharmaceutics. 2022 Aug 17;14(8):1719. doi: 10...            Zafar N   \n",
       "2988  Nanomaterials (Basel). 2021 Dec 20;11(12):3460...              Sun G   \n",
       "\n",
       "                        Journal/Book  Publication Year Create Date  \\\n",
       "0     Artif Cells Nanomed Biotechnol              2018  2018/10/18   \n",
       "1                      Int J Mol Sci              2021  2021/11/13   \n",
       "2                 Crit Rev Microbiol              2016  2014/06/18   \n",
       "3                      Int J Mol Sci              2016  2016/09/21   \n",
       "4                 IET Nanobiotechnol              2022  2022/04/15   \n",
       "...                              ...               ...         ...   \n",
       "2984                  Plants (Basel)              2022  2022/11/11   \n",
       "2985                         RSC Adv              2021  2022/04/28   \n",
       "2986                         RSC Adv              2021  2022/04/15   \n",
       "2987                   Pharmaceutics              2022  2022/08/26   \n",
       "2988           Nanomaterials (Basel)              2021  2021/12/24   \n",
       "\n",
       "           PMCID NIHMS ID                            DOI  \n",
       "0            NaN      NaN  10.1080/21691401.2018.1517769  \n",
       "1     PMC8584914      NaN          10.3390/ijms222111993  \n",
       "2            NaN      NaN   10.3109/1040841X.2014.912200  \n",
       "3     PMC5037809      NaN           10.3390/ijms17091534  \n",
       "4     PMC9114445      NaN             10.1049/nbt2.12078  \n",
       "...          ...      ...                            ...  \n",
       "2984  PMC9654092      NaN         10.3390/plants11212892  \n",
       "2985  PMC9036784      NaN             10.1039/d1ra03045k  \n",
       "2986  PMC8697840      NaN             10.1039/d0ra09926k  \n",
       "2987  PMC9412270      NaN  10.3390/pharmaceutics14081719  \n",
       "2988  PMC8705477      NaN           10.3390/nano11123460  \n",
       "\n",
       "[2989 rows x 11 columns]"
      ]
     },
     "execution_count": 4,
     "metadata": {},
     "output_type": "execute_result"
    }
   ],
   "source": [
    "df = pd.read_csv(csv_file)\n",
    "df"
   ]
  },
  {
   "cell_type": "code",
   "execution_count": 5,
   "id": "a47d5c2a",
   "metadata": {
    "ExecuteTime": {
     "end_time": "2024-01-08T21:50:41.735554Z",
     "start_time": "2024-01-08T21:50:41.707033Z"
    }
   },
   "outputs": [
    {
     "name": "stdout",
     "output_type": "stream",
     "text": [
      "There are 2989 published in 455 unique journals.\n"
     ]
    }
   ],
   "source": [
    "n_papers = len(df)\n",
    "n_journals = len(set(df['Journal/Book']))\n",
    "\n",
    "print(f\"There are {n_papers} published in {n_journals} unique journals.\")"
   ]
  },
  {
   "cell_type": "code",
   "execution_count": 6,
   "id": "66d6c938",
   "metadata": {
    "ExecuteTime": {
     "end_time": "2024-01-08T21:50:42.450374Z",
     "start_time": "2024-01-08T21:50:42.427001Z"
    }
   },
   "outputs": [],
   "source": [
    "journals = Counter(df['Journal/Book'])"
   ]
  },
  {
   "cell_type": "code",
   "execution_count": 7,
   "id": "fe751816",
   "metadata": {
    "ExecuteTime": {
     "end_time": "2024-01-08T21:50:43.304967Z",
     "start_time": "2024-01-08T21:50:43.279015Z"
    }
   },
   "outputs": [
    {
     "data": {
      "text/plain": [
       "[('Nanomaterials (Basel)', 120),\n",
       " ('J Photochem Photobiol B', 111),\n",
       " ('Molecules', 102),\n",
       " ('Int J Biol Macromol', 101),\n",
       " ('Int J Nanomedicine', 89),\n",
       " ('Mater Sci Eng C Mater Biol Appl', 85),\n",
       " ('Sci Rep', 78),\n",
       " ('IET Nanobiotechnol', 77),\n",
       " ('Spectrochim Acta A Mol Biomol Spectrosc', 74),\n",
       " ('Artif Cells Nanomed Biotechnol', 69),\n",
       " ('Carbohydr Polym', 62),\n",
       " ('Colloids Surf B Biointerfaces', 59),\n",
       " ('Environ Sci Pollut Res Int', 54),\n",
       " ('RSC Adv', 53),\n",
       " ('Heliyon', 39),\n",
       " ('Saudi J Biol Sci', 38),\n",
       " ('ACS Omega', 38),\n",
       " ('Int J Mol Sci', 37),\n",
       " ('Materials (Basel)', 34),\n",
       " ('J Nanosci Nanotechnol', 33)]"
      ]
     },
     "execution_count": 7,
     "metadata": {},
     "output_type": "execute_result"
    }
   ],
   "source": [
    "journals.most_common(20)"
   ]
  },
  {
   "cell_type": "markdown",
   "id": "007e81ff",
   "metadata": {},
   "source": [
    "# Import abstract file"
   ]
  },
  {
   "cell_type": "code",
   "execution_count": 8,
   "id": "d4bc9266",
   "metadata": {
    "ExecuteTime": {
     "end_time": "2024-01-08T21:50:45.685718Z",
     "start_time": "2024-01-08T21:50:45.599575Z"
    }
   },
   "outputs": [
    {
     "name": "stdout",
     "output_type": "stream",
     "text": [
      "There are 2989 articles in file.\n"
     ]
    }
   ],
   "source": [
    "with open(abstracts_file, 'r', encoding = 'utf-8') as f_abs:\n",
    "    data = f_abs.readlines()\n",
    "\n",
    "# Identify starting line of each article\n",
    "#\n",
    "pattern = '\\d{1,4}[.] '\n",
    "\n",
    "articles_start = []\n",
    "k = 0\n",
    "while True:\n",
    "    \n",
    "    # Start of record  \n",
    "    #\n",
    "    potential_match = re.match(pattern, data[k])\n",
    "    if potential_match:\n",
    "        potential_index = int( data[k][potential_match.start(): \n",
    "                                       potential_match.end()-2] )\n",
    "        \n",
    "        if potential_index - 1 == len(articles_start):\n",
    "            articles_start.append( k )\n",
    "        \n",
    "    k += 1\n",
    "    if k == len(data):\n",
    "        break\n",
    "\n",
    "print(f\"There are {len(articles_start)} articles in file.\" )\n",
    "\n",
    "# Need to add last line of file so all articles are checked later\n",
    "articles_start.append( len(data) )"
   ]
  },
  {
   "cell_type": "code",
   "execution_count": 9,
   "id": "45ae9bcc",
   "metadata": {
    "ExecuteTime": {
     "end_time": "2024-01-08T21:50:46.948900Z",
     "start_time": "2024-01-08T21:50:46.859150Z"
    }
   },
   "outputs": [
    {
     "name": "stdout",
     "output_type": "stream",
     "text": [
      "-----> 182. RETRACTED ARTICLE\n",
      "\n",
      "-----> 818. RETRACTED ARTICLE\n",
      "\n",
      "-----> 941. RETRACTED ARTICLE\n",
      "\n",
      "-----> 1169. RETRACTED ARTICLE\n",
      "\n",
      "-----> 1410. RETRACTED ARTICLE\n",
      "\n",
      "-----> 1413. RETRACTED ARTICLE\n",
      "\n",
      "-----> 1492. RETRACTED ARTICLE\n",
      "\n",
      "-----> 1507. RETRACTED ARTICLE\n",
      "\n",
      "-----> 1745. RETRACTED ARTICLE\n",
      "\n",
      "-----> 1818. RETRACTED ARTICLE\n",
      "\n",
      "-----> 1841. RETRACTED ARTICLE\n",
      "\n",
      "-----> 1862. RETRACTED ARTICLE\n",
      "\n",
      "-----> 2338. RETRACTED ARTICLE\n",
      "\n"
     ]
    }
   ],
   "source": [
    "articles = []\n",
    "retracted_articles = []\n",
    "\n",
    "for i in range(0, len(articles_start) - 1):\n",
    "#     print(articles_start[i],articles_start[i+1])\n",
    "    info = copy( data[articles_start[i]:articles_start[i+1]])\n",
    "    flag, article = get_article_data(info)\n",
    "    \n",
    "    if flag:\n",
    "        retracted_articles.append( article )\n",
    "    \n",
    "    articles.append( article )\n",
    "    "
   ]
  },
  {
   "cell_type": "markdown",
   "id": "49e128f6",
   "metadata": {},
   "source": [
    "## Manual corrections"
   ]
  },
  {
   "cell_type": "code",
   "execution_count": null,
   "id": "cea29ef0",
   "metadata": {
    "ExecuteTime": {
     "end_time": "2024-01-08T21:39:48.939402Z",
     "start_time": "2024-01-08T21:39:48.915396Z"
    }
   },
   "outputs": [],
   "source": [
    "i = 1817\n",
    "info = copy(data[articles_start[i]:\n",
    "                 articles_start[i+1]])\n",
    "\n",
    "for line in info:\n",
    "    print(line.strip())\n",
    "print()\n",
    "\n",
    "# for line in concatenate_lines(info):\n",
    "#     print(line.strip())\n",
    "#     print()\n",
    "\n",
    "print('------')\n",
    "print(get_article_data(info))"
   ]
  },
  {
   "cell_type": "code",
   "execution_count": 10,
   "id": "35c01a7f",
   "metadata": {
    "ExecuteTime": {
     "end_time": "2024-01-08T21:50:56.584460Z",
     "start_time": "2024-01-08T21:50:56.557284Z"
    }
   },
   "outputs": [
    {
     "name": "stdout",
     "output_type": "stream",
     "text": [
      "{'retraction': None, 'journal': 'Int J Low Extrem Wounds', 'year': 2022, 'date': ' Nov 3:15347346221133627', 'volume': None, 'pages': None, 'doi': '2022', 'title': 'Green Synthesis of Silver Nanoparticles from Aqueous Extract of Tinospora crispa Stems Accelerate Wound Healing in Rats.', 'authors': 'Osman Mahmud S(1)(2), Hamad Shareef S(3), Jabbar AAJ(4), Hassan RR(5), Jalal HK(2), Abdulla MA(1)', 'affiliations': 'Author information: (1)Department of Medical Microbiology, College of Science, 357115Cihan University-Erbil, Erbil, Iraq. (2)Department of Pharmacognosy, College of Pharmacy, 125618Hawler Medical University, Erbil, Iraq. (3)Department of Biology, College of Education, 275716Salahaddin University-Erbil, Erbil, Iraq. (4)Department of Medical Laboratory Technology, Erbil Technical Health and Medical College, 566876Erbil Polytechnic University, Erbil, Iraq. (5)Department of Medical Laboratory Science, College of Science, 594155Knowledge University, Erbil, Iraq', 'erratum': None, 'comment': None, 'abstract': None, 'copyright': None, 'other_ids': '[Formula: see text].'} \n",
      "\n",
      "{'retraction': None, 'journal': 'Int J Low Extrem Wounds', 'year': 2022, 'date': ' Nov 3:15347346221133627', 'volume': None, 'pages': None, 'doi': '2022', 'title': 'Green Synthesis of Silver Nanoparticles from Aqueous Extract of Tinospora crispa Stems Accelerate Wound Healing in Rats.', 'authors': 'Osman Mahmud S(1)(2), Hamad Shareef S(3), Jabbar AAJ(4), Hassan RR(5), Jalal HK(2), Abdulla MA(1)', 'affiliations': 'Author information: (1)Department of Medical Microbiology, College of Science, 357115Cihan University-Erbil, Erbil, Iraq. (2)Department of Pharmacognosy, College of Pharmacy, 125618Hawler Medical University, Erbil, Iraq. (3)Department of Biology, College of Education, 275716Salahaddin University-Erbil, Erbil, Iraq. (4)Department of Medical Laboratory Technology, Erbil Technical Health and Medical College, 566876Erbil Polytechnic University, Erbil, Iraq. (5)Department of Medical Laboratory Science, College of Science, 594155Knowledge University, Erbil, Iraq', 'erratum': None, 'comment': None, 'abstract': '[Formula: see text].', 'copyright': None, 'other_ids': 'DOI: 10.1177/15347346221133627 PMID: 36325727'} \n",
      "------\n"
     ]
    }
   ],
   "source": [
    "i = 2116\n",
    "print(articles[i], '\\n')\n",
    "articles[i]['abstract'] = '[Formula: see text].'\n",
    "articles[i]['other_ids'] = 'DOI: 10.1177/15347346221133627 PMID: 36325727'\n",
    "\n",
    "print(articles[i], '\\n------')"
   ]
  },
  {
   "cell_type": "markdown",
   "id": "06b505d6",
   "metadata": {},
   "source": [
    "# Verify records\n",
    "\n",
    "If this cell print anything, it means that some articles are not processed correctly.\n",
    "\n",
    "This may be fixable within function or require manual correction."
   ]
  },
  {
   "cell_type": "code",
   "execution_count": 12,
   "id": "702ddd03",
   "metadata": {
    "ExecuteTime": {
     "end_time": "2024-01-08T21:51:05.623936Z",
     "start_time": "2024-01-08T21:51:05.598573Z"
    },
    "scrolled": false
   },
   "outputs": [],
   "source": [
    "for i, article in enumerate( articles ):\n",
    "    if ( article['other_ids'][:3] == 'DOI' \n",
    "         or article['other_ids'][:4] == 'PMID' \n",
    "         or article['other_ids'][:5] == 'PMCID' ):\n",
    "        continue\n",
    "        \n",
    "    print(i, article['other_ids'], '\\n')"
   ]
  },
  {
   "cell_type": "markdown",
   "id": "5358bbaf",
   "metadata": {},
   "source": [
    "# Classify articles"
   ]
  },
  {
   "cell_type": "code",
   "execution_count": 13,
   "id": "f5bdad0f",
   "metadata": {
    "ExecuteTime": {
     "end_time": "2024-01-08T21:51:42.217889Z",
     "start_time": "2024-01-08T21:51:42.187714Z"
    },
    "scrolled": false
   },
   "outputs": [
    {
     "name": "stdout",
     "output_type": "stream",
     "text": [
      "181 -- Spectrochim Acta A Mol Biomol Spectrosc. 2013; 115 \n",
      "\tGreen synthesis of silver nanoparticles from Gloriosa superba L. leaf extract and their catalytic activity.\n",
      "\tRetraction in Spectrochim Acta A Mol Biomol Spectrosc. 2017 Feb 15;173:969.\n",
      "\n",
      "619 -- Carbohydr Polym. 2015; 134 \n",
      "\tCationic guar gum orchestrated environmental synthesis for silver nano-bio-composite films.\n",
      "\tExpression of concern in Carbohydr Polym. 2016 Feb 10;137:748.\n",
      "\n",
      "817 -- Spectrochim Acta A Mol Biomol Spectrosc. 2014; 121 \n",
      "\tSynthesis, characterization and catalytic activity of silver nanoparticles using Tribulus terrestris leaf extract.\n",
      "\tRetraction in Spectrochim Acta A Mol Biomol Spectrosc. 2017 Jan 15;171:527.\n",
      "\n",
      "940 -- Int J Nanomedicine. 2020; 15 \n",
      "\tGreen Synthesis of Silver Nanoparticles Using Extract of Jasminum officinal L. Leaves and Evaluation of Cytotoxic Activity Towards Bladder (5637) and Breast Cancer (MCF-7) Cell Lines.\n",
      "\tRetraction in Int J Nanomedicine. 2022 Jun 29;17:2805-2806.\n",
      "\n",
      "1168 -- Int J Nanomedicine. 2021; 16 \n",
      "\tGreen Synthesis and Characterization of Carboxymethyl Cellulose Fabricated Silver-Based Nanocomposite for Various Therapeutic Applications.\n",
      "\tRetraction in Int J Nanomedicine. 2022 Mar 08;17:987-988.\n",
      "\n",
      "1409 -- Parasitol Res. 2014; 113(6) \n",
      "\tMosquito larvicidal properties of silver nanoparticles synthesized using Heliotropium indicum (Boraginaceae) against Aedes aegypti, Anopheles stephensi, and Culex quinquefasciatus (Diptera: Culicidae).\n",
      "\tRetraction in Parasitol Res. 2021 May;120(5):1929.\n",
      "\n",
      "1412 -- Parasitol Res. 2016; 115(2) \n",
      "\tNovel synthesis of silver nanoparticles using Bauhinia variegata: a recent eco-friendly approach for mosquito control.\n",
      "\tRetraction in Parasitol Res. 2021 Oct;120(10):3631.\n",
      "\n",
      "1491 -- Int J Nanomedicine. 2020; 15 \n",
      "\tSynergistic Nanocomposites of Different Antibiotics Coupled with Green Synthesized Chitosan-Based Silver Nanoparticles: Characterization, Antibacterial, in vivo Toxicological and Biodistribution Studies.\n",
      "\tRetraction in Int J Nanomedicine. 2021 Dec 09;16:8035-8036.\n",
      "\n",
      "1506 -- Biosens Bioelectron. 2017; 97 \n",
      "\tRETRACTED: Anisotropic (spherical/hexagon/cube) silver nanoparticle embedded magnetic carbon nanosphere as platform for designing of tramadol imprinted polymer.\n",
      "\tRetraction in Biosens Bioelectron. 2019 Feb 1;126:846.\n",
      "\n",
      "1744 -- Biotechnol Adv. 2009; 27(6) \n",
      "\tNanosilver--the burgeoning therapeutic molecule and its green synthesis.\n",
      "\tRetraction in Biotechnol Adv. 2010 Nov-Dec;28(6):940.\n",
      "\n",
      "1817 -- J Photochem Photobiol B. 2020; 202 \n",
      "\tRETRACTED: Biosynthesis of Clinacanthus nutans Lindau leaf extract mediated ag NPs, au NPs and their comparative strong muscle relaxant, analgesic activities for pain management in nursing care for using in intensive nursing care unit.\n",
      "\tRetraction in J Photochem Photobiol B. 2020 Nov;212:112038.\n",
      "\n",
      "1840 -- Int J Nanomedicine. 2019; 14 \n",
      "\tEffects of green synthesised silver nanoparticles (ST06-AgNPs) using curcumin derivative (ST06) on human cervical cancer cells (HeLa) in vitro and EAC tumor bearing mice models.\n",
      "\tRetraction in Int J Nanomedicine. 2022 Jul 12;17:3077-3078.\n",
      "\n",
      "1861 -- Spectrochim Acta A Mol Biomol Spectrosc. 2015; 134 \n",
      "\tSynthesis of silver nanoparticles using A. indicum leaf extract and their antibacterial activity.\n",
      "\tRetraction in Spectrochim Acta A Mol Biomol Spectrosc. 2017 Jan 15;171:526.\n",
      "\n",
      "2337 -- RSC Adv. 2018; 8(41) \n",
      "\tSynthesis of non-toxic, biocompatible, and colloidal stable silver nanoparticle using egg-white protein as capping and reducing agents for sustainable antibacterial application.\n",
      "\tRetraction in RSC Adv. 2022 Jun 17;12(28):18040.\n",
      "\n",
      "2481 -- Spectrochim Acta A Mol Biomol Spectrosc. 2017; 173 \n",
      "\tRetraction notice to Green Synthesis of Silver nanoparticles from Gloriosa superba.L Leaf extract and their catalytic activity [SAA 115C 388-392].\n",
      "\tRetraction Notice: Retraction of Spectrochim Acta A Mol Biomol Spectrosc. 2013 Nov;115:388-92.\n",
      "\n",
      "[2481]\n",
      "2516 -- RSC Adv. 2018; 8(69) \n",
      "\tRetraction: Shape-specific silver nanoparticles prepared by microwave-assisted green synthesis using pomegranate juice for bacterial inactivation and removal.\n",
      "\tRetraction Notice: Retraction of doi: 10.1039/C5RA18575K. [This retracts the article DOI: 10.1039/C5RA18575K.].\n",
      "\n",
      "[2481, 2516]\n",
      "2791 -- RSC Adv. 2020; 10(72) \n",
      "\tStatistical optimization of photo-induced biofabrication of silver nanoparticles using the cell extract of Oscillatoria limnetica: insight on characterization and antioxidant potentiality.\n",
      "\tExpression of concern in RSC Adv. 2023 Nov 8;13(47):32974.\n",
      "\n",
      "[2481, 2516]\n"
     ]
    }
   ],
   "source": [
    "to_remove = []\n",
    "for i, article in enumerate( articles ):\n",
    "    if article['retraction']:\n",
    "        print( f\"{i} -- {article['journal']}. {article['year']}; {article['volume']} \" \n",
    "               f\"\\n\\t{article['title']}\\n\\t{article['retraction']}\\n\")\n",
    "        if article['retraction'][:19] == 'Retraction Notice: ':\n",
    "            to_remove.append(i)\n",
    "            print(to_remove)\n",
    "\n",
    "print(to_remove)"
   ]
  },
  {
   "cell_type": "code",
   "execution_count": 14,
   "id": "a0842b84",
   "metadata": {
    "ExecuteTime": {
     "end_time": "2024-01-08T21:51:50.052842Z",
     "start_time": "2024-01-08T21:51:50.029013Z"
    }
   },
   "outputs": [
    {
     "name": "stdout",
     "output_type": "stream",
     "text": [
      "2987\n"
     ]
    }
   ],
   "source": [
    "for i in reversed(to_remove):\n",
    "    articles.pop(i)\n",
    "\n",
    "print(len(articles))"
   ]
  },
  {
   "cell_type": "code",
   "execution_count": 15,
   "id": "c9f788bc",
   "metadata": {
    "ExecuteTime": {
     "end_time": "2024-01-08T21:51:53.152164Z",
     "start_time": "2024-01-08T21:51:53.122068Z"
    },
    "scrolled": false
   },
   "outputs": [
    {
     "name": "stdout",
     "output_type": "stream",
     "text": [
      "126 -- Artif Cells Nanomed Biotechnol. 2018; 46(sup1) \n",
      "\tGreen synthesis of silver nanoparticles using Thymbra spicata L. var. spicata (zahter) aqueous leaf extract and evaluation of their morphology-dependent antibacterial and cytotoxic activity.\n",
      "\tErratum in Artif Cells Nanomed Biotechnol. 2018;46(sup1):392.\n",
      "\n",
      "379 -- J Biotechnol. 2017; 260 \n",
      "\tInvestigation of the effect of pomegranate extract and monodisperse silver nanoparticle combination on MCF-7 cell line.\n",
      "\tErratum in J Biotechnol. 2021 Feb 20;328:115-116.\n",
      "\n",
      "669 -- Int J Nanomedicine. 2021; 16 \n",
      "\tIn vitro Anticancer Effects of Vernonia amygdalina Leaf Extract and Green-Synthesised Silver Nanoparticles.\n",
      "\tErratum in Int J Nanomedicine. 2021 Sep 13;16:6263-6264.\n",
      "\n",
      "713 -- J Microbiol Methods. 2019; 162 \n",
      "\tCyanobacteria as a bioreactor for synthesis of silver nanoparticles-an effect of different reaction conditions on the size of nanoparticles and their dye decolorization ability.\n",
      "\tErratum in J Microbiol Methods. 2020 Jan;168:105764.\n",
      "\n",
      "719 -- Carbohydr Polym. 2016; 151 \n",
      "\tCharacterization and antimicrobial properties of cotton fabric loaded with green synthesized silver nanoparticles.\n",
      "\tErratum in Carbohydr Polym. 2017 Feb 10;157:905.\n",
      "\n",
      "867 -- IET Nanobiotechnol. 2016; 10(4) \n",
      "\tPlant-mediated green synthesis of silver nanoparticles using Trifolium resupinatum seed exudate and their antifungal efficacy on Neofusicoccum parvum and Rhizoctonia solani.\n",
      "\tErratum in IET Nanobiotechnol. 2017 Mar;11(2):212.\n",
      "\n",
      "961 -- Arch Microbiol. 2023; 205(5) \n",
      "\tExopolysaccharide-mediated silver nanoparticles synthesized from Lactobacillus paracasei with antimicrobial, antibiofilm and antioxidant activities.\n",
      "\tErratum in Arch Microbiol. 2023 Jun 24;205(7):268.\n",
      "\n",
      "1036 -- Colloids Surf B Biointerfaces. 2013; 109 \n",
      "\tAntimicrobial activity of Leucas aspera engineered silver nanoparticles against Aeromonas hydrophila in infected Catla catla.\n",
      "\tErratum in Colloids Surf B Biointerfaces. 2014 Jun 1;118:306.\n",
      "\n",
      "1068 -- J Photochem Photobiol B. 2020; 204 \n",
      "\tSilver nanoparticles synthesis from Bacillus sp KFU36 and its anticancer effect in breast cancer MCF-7 cells via induction of apoptotic mechanism.\n",
      "\tErratum in J Photochem Photobiol B. 2021 May;218:112190.\n",
      "\n",
      "1103 -- Mater Sci Eng C Mater Biol Appl. 2015; 46 \n",
      "\tGreen synthesis and characterization of silver nanoparticles using alcoholic flower extract of Nyctanthes arbortristis and in vitro investigation of their antibacterial and cytotoxic activities.\n",
      "\tErratum in Mater Sci Eng C Mater Biol Appl. 2015 Sep;54:262.\n",
      "\n",
      "1228 -- J Diabetes. 2018; 10(1) \n",
      "\tEvaluation of antidiabetic activity of biologically synthesized silver nanoparticles using Pouteria sapota in streptozotocin-induced diabetic rats.\n",
      "\tErratum in J Diabetes. 2020 Jan;12(1):95.\n",
      "\n",
      "1354 -- Biol Trace Elem Res. 2021; 199(11) \n",
      "\tCuminum cyminum L.-Mediated Synthesis of Silver Nanoparticles: Their Characterization and Effect on Formalin-Induced Nociceptive Response in Male Rats.\n",
      "\tErratum in Biol Trace Elem Res. 2023 Sep;201(9):4620.\n",
      "\n",
      "1441 -- Mater Sci Eng C Mater Biol Appl. 2018; 89 \n",
      "\tAntimicrobial and anticancer activities of silver nanoparticles synthesized from the root hair extract of Phoenix dactylifera.\n",
      "\tErratum in Mater Sci Eng C Mater Biol Appl. 2021 Feb;119:111499.\n",
      "\n",
      "1542 -- Biol Trace Elem Res. 2023; 201(2) \n",
      "\tAccumulation, Chronicity, and Induction of Oxidative Stress Regulating Genes Through Allium cepa L. Functionalized Silver Nanoparticles in Freshwater Common Carp (Cyprinus carpio).\n",
      "\tErratum in Biol Trace Elem Res. 2022 Mar 19;:\n",
      "\n",
      "1548 -- J Photochem Photobiol B. 2017; 171 \n",
      "\tPhoto-induced and phytomediated synthesis of silver nanoparticles using Derris trifoliata leaf extract and its larvicidal activity against Aedes aegypti.\n",
      "\tErratum in J Photochem Photobiol B. 2021 Sep;222:112262.\n",
      "\n",
      "1573 -- ACS Appl Bio Mater. 2021; 4(4) \n",
      "\tAntidiabetic and Hypolipidemic Potential of Green AgNPs against Diabetic Mice.\n",
      "\tErratum in ACS Appl Bio Mater. 2022 Dec 19;5(12):5965.\n",
      "\n",
      "1661 -- Sci Rep. 2023; 13(1) \n",
      "\tGreen synthesis and characterization of silver nanoparticles for reducing the damage to sperm parameters in diabetic compared to metformin.\n",
      "\tErratum in Sci Rep. 2023 Apr 24;13(1):6659.\n",
      "\n",
      "1724 -- Parasitol Res. 2015; 114(12) \n",
      "\tNanoparticles in the fight against mosquito-borne diseases: bioactivity of Bruguiera cylindrica-synthesized nanoparticles against dengue virus DEN-2 (in vitro) and its mosquito vector Aedes aegypti (Diptera: Culicidae).\n",
      "\tErratum in Parasitol Res. 2015 Dec;114(12):4743.\n",
      "\n",
      "1840 -- Int J Nanomedicine. 2019; 14 \n",
      "\tEffects of green synthesised silver nanoparticles (ST06-AgNPs) using curcumin derivative (ST06) on human cervical cancer cells (HeLa) in vitro and EAC tumor bearing mice models.\n",
      "\tErratum in Int J Nanomedicine. 2019 Aug 01;14:6133.\n",
      "\n",
      "2019 -- Sci Rep. 2020; 10(1) \n",
      "\tSynergistic effects of combinatorial chitosan and polyphenol biomolecules on enhanced antibacterial activity of biofunctionalaized silver nanoparticles.\n",
      "\tErratum in Sci Rep. 2021 Feb 23;11(1):4895.\n",
      "\n",
      "2337 -- RSC Adv. 2018; 8(41) \n",
      "\tSynthesis of non-toxic, biocompatible, and colloidal stable silver nanoparticle using egg-white protein as capping and reducing agents for sustainable antibacterial application.\n",
      "\tErratum in RSC Adv. 2020 Nov 26;10(70):42960.\n",
      "\n",
      "2380 -- IET Nanobiotechnol. 2017; 11(2) \n",
      "\tErrata: Plant-mediated green synthesis of silver nanoparticles using Trifolium resupinatum seed exudate and their antifungal efficacy on Neofusicocum parvum and Rhizoctonia solani. [No authors listed]\n",
      "\tErratum for IET Nanobiotechnol. 2016 Aug;10 (4):237-43.\n",
      "\n",
      "[2380]\n",
      "2405 -- RSC Adv. 2021; 11(5) \n",
      "\tGreen synthesis of silver nanoparticles using plant extracts and their antimicrobial activities: a review of recent literature.\n",
      "\tErratum in RSC Adv. 2022 May 31;12(25):16093.\n",
      "\n",
      "2428 -- Nanoscale Adv. 2022; 4(3) \n",
      "\tGreen synthesis of silver nanoparticles using green tea leaf extract, characterization and evaluation of antimicrobial activity.\n",
      "\tErratum in Nanoscale Adv. 2022 Aug 10;4(17):3647-3648.\n",
      "\n",
      "2429 -- Artif Cells Nanomed Biotechnol. 2018; 46(sup1) \n",
      "\tCorrection to: Erci et al., Green synthesis of silver nanoparticles using Thymbra spicata L. var. spicata (zahter) aqueous leaf extract and evaluation of their morphology-dependent antibacterial and cytotoxic activity. [No authors listed]\n",
      "\tErratum for Artif Cells Nanomed Biotechnol. 2018;46(sup1):150-158.\n",
      "\n",
      "[2380, 2429]\n",
      "2442 -- ACS Omega. 2022; 7(50) \n",
      "\tGreen-Based Approach to Synthesize Silver Nanoparticles Using the Fungal Endophyte Penicillium oxalicum and Their Antimicrobial, Antioxidant, and In Vitro Anticancer Potential.\n",
      "\tErratum in ACS Omega. 2023 Aug 07;8(33):30788.\n",
      "\n",
      "2558 -- Nanoscale Res Lett. 2014; 9(1) \n",
      "\tCorrection: green synthesis of silk sericin-capped silver nanoparticles and their potent anti-bacterial activity.\n",
      "\tErratum for Nanoscale Res Lett. 2014 Feb 17;9(1):79.\n",
      "\n",
      "[2380, 2429, 2558]\n",
      "2641 -- J Genet Eng Biotechnol. 2019; 17(1) \n",
      "\tBiosynthesis and characterization of silver nanoparticles induced by fungal proteins and its application in different biological activities.\n",
      "\tErratum in J Genet Eng Biotechnol. 2020 Feb 11;18(1):7.\n",
      "\n",
      "2678 -- Nanoscale Adv. 2022; 4(17) \n",
      "\tCorrection: Green synthesis of silver nanoparticles using green tea leaf extract, characterization and evaluation of antimicrobial activity.\n",
      "\tErratum for Nanoscale Adv. 2022 Jan 18;4(3):911-915. [This corrects the article DOI: 10.1039/D1NA00509J.].\n",
      "\n",
      "[2380, 2429, 2558, 2678]\n",
      "2679 -- Nanoscale Res Lett. 2014; 9(1) \n",
      "\tGreen synthesis of silk sericin-capped silver nanoparticles and their potent anti-bacterial activity.\n",
      "\tErratum in Nanoscale Res Lett. 2014 Mar 24;9(1):136.\n",
      "\n",
      "2681 -- Sci Rep. 2023; 13(1) \n",
      "\tAuthor Correction: Green synthesis and characterization of silver nanoparticles for reducing the damage to sperm parameters in diabetic compared to metformin.\n",
      "\tErratum for Sci Rep. 2023 Feb 8;13(1):2256.\n",
      "\n",
      "[2380, 2429, 2558, 2678, 2681]\n",
      "2735 -- Saudi J Biol Sci. 2020; 27(5) \n",
      "\tBiogenic synthesis of silver nanoparticles: Antibacterial and cytotoxic potential.\n",
      "\tErratum in Saudi J Biol Sci. 2022 Feb;29(2):1269.\n",
      "\n",
      "2783 -- Front Chem. 2020; 8 \n",
      "\tOlax scandens Mediated Biogenic Synthesis of Ag-Cu Nanocomposites: Potential Against Inhibition of Drug-Resistant Microbes.\n",
      "\tErratum in Front Chem. 2020 Sep 16;8:822.\n",
      "\n",
      "2840 -- RSC Adv. 2022; 12(25) \n",
      "\tCorrection: green synthesis of silver nanoparticles using plant extracts and their antimicrobial activities: a review of recent literature.\n",
      "\tErratum for RSC Adv. 2021 Jan 13;11(5):2804-2837. [This corrects the article DOI: 10.1039/D0RA09941D.].\n",
      "\n",
      "[2380, 2429, 2558, 2678, 2681, 2840]\n",
      "2895 -- Nanoscale Res Lett. 2009; 5(2) \n",
      "\tOne-Step UV-Induced Synthesis of Polypyrrole/Ag Nanocomposites at the Water/Ionic Liquid Interface.\n",
      "\tErratum in Nanoscale Res Lett. 2010 Oct;5(10):1719.\n",
      "\n",
      "2901 -- Saudi J Biol Sci. 2020; 27(1) \n",
      "\tAntioxidant, cytotoxic and antibacterial potential of biosynthesized nanoparticles using bee honey from two different floral sources in Saudi Arabia.\n",
      "\tErratum in Saudi J Biol Sci. 2022 Feb;29(2):1276.\n",
      "\n",
      "2907 -- Prog Biomater. 2021; 10(1) \n",
      "\tInjectable hyaluronic acid-based antibacterial hydrogel adorned with biogenically synthesized AgNPs-decorated multi-walled carbon nanotubes.\n",
      "\tErratum in Prog Biomater. 2021 Dec;10(4):321-322. Prog Biomater. 2022 Mar;11(1):111.\n",
      "\n",
      "2948 -- Mater Sci Eng C Mater Biol Appl. 2021; 119 \n",
      "\tCorrigendum to \"Antimicrobial and anticancer activities of silver nanoparticles synthesized from the root hair extract of Phoenix dactylifera\" [Mater. Sci. Eng. C 89 (2018) 429-443].\n",
      "\tErratum for Mater Sci Eng C Mater Biol Appl. 2018 Aug 1;89:429-443.\n",
      "\n",
      "[2380, 2429, 2558, 2678, 2681, 2840, 2948]\n",
      "2984 -- RSC Adv. 2021; 11(24) \n",
      "\tHighly sensitive and selective colorimetric detection of dual metal ions (Hg(2+) and Sn(2+)) in water: an eco-friendly approach.\n",
      "\tErratum in RSC Adv. 2022 Apr 11;12(18):11345.\n",
      "\n",
      "[2380, 2429, 2558, 2678, 2681, 2840, 2948]\n"
     ]
    }
   ],
   "source": [
    "to_remove = []\n",
    "for i, article in enumerate( articles ):\n",
    "    if article['erratum']:\n",
    "        print( f\"{i} -- {article['journal']}. {article['year']}; {article['volume']} \" \n",
    "               f\"\\n\\t{article['title']}\\n\\t{article['erratum']}\\n\")\n",
    "        if article['erratum'][:12] == 'Erratum for ':\n",
    "            to_remove.append(i)\n",
    "            print(to_remove)\n",
    "            \n",
    "print(to_remove)"
   ]
  },
  {
   "cell_type": "code",
   "execution_count": 16,
   "id": "1ef30ed6",
   "metadata": {
    "ExecuteTime": {
     "end_time": "2024-01-08T21:52:03.764853Z",
     "start_time": "2024-01-08T21:52:03.741354Z"
    }
   },
   "outputs": [
    {
     "name": "stdout",
     "output_type": "stream",
     "text": [
      "2980\n"
     ]
    }
   ],
   "source": [
    "for i in reversed(to_remove):\n",
    "    articles.pop(i)\n",
    "\n",
    "print(len(articles))"
   ]
  },
  {
   "cell_type": "markdown",
   "id": "61c71fee",
   "metadata": {},
   "source": [
    "## Dealing with *Comments* is complicated\n",
    "\n",
    "Some *Comments* are perspectives aiming to publicize the target paper (like News & Views in Nature). These are published in the same issue by different authors.\n",
    "\n",
    "We remove the actual *Comment* (if available) from the set of publications to analyze. We adjust `comment` key of target paper to convey this positive information. \n",
    "\n",
    "Some *Comments* appear to be summaries of the target papers. They are published in a different journal by a subset of the original authors.\n",
    "\n",
    "We remove the actual *Comment* (if available) from the set of publications to analyze. We adjust `comment` key of target paper to convey this information. \n",
    "\n",
    "Some *Comments* appear to be actual criticisms of the target papers. They are published in the same journal as the target bu later than the target and are authored by different researchers.\n",
    "\n",
    "We remove the actual *Comment* (if available) from the set of publications to analyze. We adjust `comment` key of target paper to convey this negative information.  "
   ]
  },
  {
   "cell_type": "code",
   "execution_count": 17,
   "id": "fac578e9",
   "metadata": {
    "ExecuteTime": {
     "end_time": "2024-01-08T21:52:06.839114Z",
     "start_time": "2024-01-08T21:52:06.803030Z"
    },
    "code_folding": [],
    "scrolled": false
   },
   "outputs": [
    {
     "name": "stdout",
     "output_type": "stream",
     "text": [
      "\n",
      " 178 Focus:  Int J Biol Macromol 2018  Mar 108 1128-1139 10.1016/j.ijbiomac.2017.12.040\n",
      "-- Comment in Int J Biol Macromol. 2018 Jul 15;114:1084-1085.\n",
      "===>> Int J Biol Macromol\n",
      "===>> 2018 2018\n",
      "===>> 108 114\n",
      "---> Received comment\n",
      "\n",
      "[]\n"
     ]
    }
   ],
   "source": [
    "to_remove = []\n",
    "for i, article in enumerate( articles ):\n",
    "    if article['comment']:\n",
    "        print('\\n', i, 'Focus: ', article['journal'], article['year'], \n",
    "              article['date'], article['volume'],  \n",
    "              article['pages'], article['doi'])\n",
    "        print('--', article['comment'])\n",
    "        \n",
    "        # Extract info about paper discussed in comment\n",
    "        target = {}\n",
    "        aux = article['comment'].split(';')[0]\n",
    "        aux = aux.split('.')\n",
    "        date_string =  aux[-1].strip()\n",
    "        target['year'] = int( date_string[:4] )\n",
    "        target['date'] = date_string[4:]\n",
    "        target['journal'] = aux[-2].strip()\n",
    "        \n",
    "        aux = article['comment'].split(';')[1]\n",
    "        aux = aux.split(':')\n",
    "        target['volume'] = aux[0]\n",
    "        target['pages'] = aux[1].split('.')[0]\n",
    "        \n",
    "        if len(aux) > 2:\n",
    "            target['doi'] = aux[2].split()[0].strip('.')\n",
    "        else:\n",
    "            target['doi'] = None\n",
    "          \n",
    "        # Extract dates of publication\n",
    "        date_focus = extract_publication_date(article)\n",
    "        date_target = extract_publication_date(target)\n",
    "        \n",
    "        # Determine type of comment\n",
    "        #\n",
    "        # Same journal\n",
    "        if ( article['journal'] == \n",
    "             target['journal'].lstrip('Coment').strip().lstrip('ion').strip() ):\n",
    "            print('===>>', article['journal'])\n",
    "            print('===>>', article['year'], target['year'])\n",
    "            \n",
    "            # Same year \n",
    "            if article['year'] == target['year']:\n",
    "                print('===>>', article['volume'], target['volume'])\n",
    "            \n",
    "                # Same volume\n",
    "                if target['volume'] and article['volume'] == target['volume']:\n",
    "                    print('--->', article['date'], target['date'])\n",
    "                    \n",
    "                    # Same date\n",
    "                    if article['date'] == target['date']:\n",
    "                        print('--->', article['date'])\n",
    "\n",
    "                        if '-' in article['pages']:\n",
    "                            focus_pages = article['pages'].split('-')[0]\n",
    "                            if focus_pages.isnumeric():\n",
    "                                focus_pages = int(focus_pages)\n",
    "                        else:\n",
    "                            focus_pages = article['pages']\n",
    "                            \n",
    "                        if '-' in target['pages']:\n",
    "                            target_pages = target['pages'].split('-')[0]\n",
    "                            if target_pages.isnumeric():\n",
    "                                target_pages = int(target_pages)\n",
    "                        else:\n",
    "                            target_pages = target['pages']\n",
    "                            \n",
    "                        if type(target_pages) != type(focus_pages):\n",
    "                            target_pages = str(target_pages)\n",
    "                            focus_pages = str(focus_pages)\n",
    "\n",
    "                        print('--->', focus_pages, target_pages)\n",
    "                        \n",
    "                        # Same date, earlier pages\n",
    "                        if focus_pages < target_pages:\n",
    "                            to_remove.append(i)\n",
    "                            print(f\"---> Article {i} is a commentary and is to be removed\")\n",
    "\n",
    "                        # Same date, later pages\n",
    "                        else:\n",
    "                            article['comment'] = ('Received highlight article! ' \n",
    "                                                  + article['comment'])\n",
    "                            print('---> Received highlight article\\n')\n",
    "\n",
    "                    # Same volume, later time\n",
    "                    elif article['date'] > target['date']:\n",
    "                        to_remove.append(i)\n",
    "                        print(f\"---> Article {i} is a comment and is to be removed\")\n",
    "\n",
    "                    # Same volume, earlier time\n",
    "                    elif article['date'] < target['date']:\n",
    "                        article['comment'] = 'Received comment! ' + article['comment']\n",
    "                        print('---> Received comment\\n')\n",
    "\n",
    "                # Same year, volumes that exist, later volume\n",
    "                elif target['volume'] and article['volume'] > target['volume']:\n",
    "                    to_remove.append(i)\n",
    "                    print(f\"---> Article {i} is a comment and is to be removed\")\n",
    "                \n",
    "                # Same year, volumes that exist, earlier volume\n",
    "                elif target['volume'] and article['volume'] < target['volume']:\n",
    "                    article['comment'] = 'Received comment! ' + article['comment']\n",
    "                    print('---> Received comment\\n')\n",
    "\n",
    "                # Same journal, same year, missing volumes \n",
    "                else:\n",
    "                    # Same journal, same year, missing volumes, same date\n",
    "                    if article['date'] == target['date']:\n",
    "                        print('--->', article['date'])\n",
    "\n",
    "                        if '-' in article['pages']:\n",
    "                            focus_pages = article['pages'].split('-')[0]\n",
    "                            if focus_pages.isnumeric():\n",
    "                                focus_pages = int(focus_pages)\n",
    "                        if '-' in target['pages']:\n",
    "                            target_pages = target['pages'].split('-')[0]\n",
    "                            if target_pages.isnumeric():\n",
    "                                target_pages = int(target_pages)\n",
    "\n",
    "                        print('--->', focus_pages, target_pages)\n",
    "\n",
    "                        # Same journal, same year, missing volumes, same date, earlier pages\n",
    "                        if focus_pages < target_pages:\n",
    "                            to_remove.append(i)\n",
    "                            print(f\"---> Article {i} is a commentary and is to be removed\")\n",
    "\n",
    "                        # Same journal, same year, missing volumes, same date, earlier pages\n",
    "                        else:\n",
    "                            article['comment'] = ('Received highlight article! ' \n",
    "                                                  + article['comment'])\n",
    "                            print('---> Received highlight article\\n')\n",
    "        \n",
    "                    # Same journal, same year, missing volumes, later time\n",
    "                    elif article['date'] > target['date']:\n",
    "                        to_remove.append(i)\n",
    "                        print(f\"---> Article {i} is a comment and is to be removed\")\n",
    "\n",
    "                    # Same journal, same year, missing volumes, earlier time\n",
    "                    elif article['date'] < target['date']:\n",
    "                        article['comment'] = 'Received comment! ' + article['comment']\n",
    "                        print('---> Received comment\\n')\n",
    "        \n",
    "            # Same journal, later year \n",
    "            elif article['year'] > target['year']:\n",
    "                to_remove.append(i)\n",
    "                print(f\"---> Article {i} is a comment and is to be removed\")\n",
    "\n",
    "            # Same journal, earlier year\n",
    "            elif article['year'] < target['year']:\n",
    "                article['comment'] = 'Received comment! ' + article['comment']\n",
    "                print('---> Received comment\\n')\n",
    "\n",
    "\n",
    "        # Different journals, later year\n",
    "        elif article['year'] > target['year']:\n",
    "            to_remove.append(i)\n",
    "            print(f\"---> Article {i} is a commentary and is to be removed\")\n",
    "\n",
    "        # Different journals, earlier year\n",
    "        elif article['year'] < target['year']: \n",
    "            article['comment'] = 'Received commentary! ' + article['comment']\n",
    "            print('---> Received commentary\\n')\n",
    "\n",
    "        # Different journals, same year\n",
    "        else:\n",
    "            if date_focus > date_target:\n",
    "                to_remove.append(i)\n",
    "                print(f\"---> Article {i} is a commentary and is to be removed\")\n",
    "            \n",
    "            elif date_focus < date_target:\n",
    "                article['comment'] = 'Received commentary! ' + article['comment']\n",
    "                print('---> Received commentary\\n')\n",
    "            else:\n",
    "                print('FUCK!!!')\n",
    "\n",
    "print(to_remove)"
   ]
  },
  {
   "cell_type": "code",
   "execution_count": 18,
   "id": "e90db248",
   "metadata": {
    "ExecuteTime": {
     "end_time": "2024-01-08T21:52:09.443977Z",
     "start_time": "2024-01-08T21:52:09.411016Z"
    }
   },
   "outputs": [
    {
     "name": "stdout",
     "output_type": "stream",
     "text": [
      "2980\n"
     ]
    }
   ],
   "source": [
    "for i in reversed(to_remove):\n",
    "    articles.pop(i)\n",
    "\n",
    "print(len(articles))"
   ]
  },
  {
   "cell_type": "markdown",
   "id": "3c9c7ddf",
   "metadata": {},
   "source": [
    "## Create collections"
   ]
  },
  {
   "cell_type": "code",
   "execution_count": 19,
   "id": "a0767a75",
   "metadata": {
    "ExecuteTime": {
     "end_time": "2024-01-08T21:52:12.679347Z",
     "start_time": "2024-01-08T21:52:12.649542Z"
    }
   },
   "outputs": [],
   "source": [
    "pattern1 = 'review'\n",
    "pattern2 = 'reviewed'\n",
    "\n",
    "\n",
    "erratum_articles = []\n",
    "comment_articles = []\n",
    "review_articles = []\n",
    "no_abstract_articles = []\n",
    "\n",
    "for article in articles:\n",
    "    if not article['retraction']:\n",
    "        if article['erratum']:\n",
    "            erratum_articles.append(article)\n",
    "            continue\n",
    "            \n",
    "        if article['comment'] and 'Received comment! ' == article['comment'][:18]:\n",
    "            comment_articles.append(article)\n",
    "            continue\n",
    "\n",
    "        if not article['abstract']:\n",
    "            no_abstract_articles.append(article)\n",
    "        else:\n",
    "            if pattern1 in article['abstract'] or pattern2 in article['abstract']:\n",
    "                review_articles.append(article)\n"
   ]
  },
  {
   "cell_type": "code",
   "execution_count": 20,
   "id": "95804a42",
   "metadata": {
    "ExecuteTime": {
     "end_time": "2024-01-08T21:52:19.651832Z",
     "start_time": "2024-01-08T21:52:19.630242Z"
    }
   },
   "outputs": [
    {
     "name": "stdout",
     "output_type": "stream",
     "text": [
      "2980\n",
      "17\n",
      "30\n",
      "1\n",
      "5\n",
      "169\n"
     ]
    }
   ],
   "source": [
    "print(len(articles))\n",
    "print(len(retracted_articles))\n",
    "print(len(erratum_articles))\n",
    "print(len(comment_articles))\n",
    "print(len(no_abstract_articles))\n",
    "print(len(review_articles))"
   ]
  },
  {
   "cell_type": "markdown",
   "id": "e60ea259",
   "metadata": {},
   "source": [
    "# Save to file"
   ]
  },
  {
   "cell_type": "code",
   "execution_count": 21,
   "id": "04daabe3",
   "metadata": {
    "ExecuteTime": {
     "end_time": "2024-01-08T21:53:03.906662Z",
     "start_time": "2024-01-08T21:53:03.843613Z"
    }
   },
   "outputs": [
    {
     "name": "stdout",
     "output_type": "stream",
     "text": [
      "Done saving file!\n"
     ]
    }
   ],
   "source": [
    "with open(Path.cwd() / 'articles_clean.json', 'w', encoding = 'utf-8') as f_json:\n",
    "    json.dump(articles, f_json)\n",
    "    \n",
    "print('Done saving file!')"
   ]
  },
  {
   "cell_type": "code",
   "execution_count": null,
   "id": "b8b41d99",
   "metadata": {},
   "outputs": [],
   "source": []
  }
 ],
 "metadata": {
  "kernelspec": {
   "display_name": "Python [conda env:new_base] *",
   "language": "python",
   "name": "conda-env-new_base-py"
  },
  "language_info": {
   "codemirror_mode": {
    "name": "ipython",
    "version": 3
   },
   "file_extension": ".py",
   "mimetype": "text/x-python",
   "name": "python",
   "nbconvert_exporter": "python",
   "pygments_lexer": "ipython3",
   "version": "3.11.4"
  },
  "toc": {
   "base_numbering": 1,
   "nav_menu": {},
   "number_sections": true,
   "sideBar": true,
   "skip_h1_title": false,
   "title_cell": "Table of Contents",
   "title_sidebar": "Contents",
   "toc_cell": false,
   "toc_position": {
    "height": "calc(100% - 180px)",
    "left": "10px",
    "top": "150px",
    "width": "200.6px"
   },
   "toc_section_display": true,
   "toc_window_display": true
  },
  "varInspector": {
   "cols": {
    "lenName": 16,
    "lenType": 16,
    "lenVar": 40
   },
   "kernels_config": {
    "python": {
     "delete_cmd_postfix": "",
     "delete_cmd_prefix": "del ",
     "library": "var_list.py",
     "varRefreshCmd": "print(var_dic_list())"
    },
    "r": {
     "delete_cmd_postfix": ") ",
     "delete_cmd_prefix": "rm(",
     "library": "var_list.r",
     "varRefreshCmd": "cat(var_dic_list()) "
    }
   },
   "types_to_exclude": [
    "module",
    "function",
    "builtin_function_or_method",
    "instance",
    "_Feature"
   ],
   "window_display": false
  }
 },
 "nbformat": 4,
 "nbformat_minor": 5
}
